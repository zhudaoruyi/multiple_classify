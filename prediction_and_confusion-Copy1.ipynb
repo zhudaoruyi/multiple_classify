{
 "cells": [
  {
   "cell_type": "code",
   "execution_count": 1,
   "metadata": {},
   "outputs": [
    {
     "name": "stdout",
     "output_type": "stream",
     "text": [
      "['/home/abc/pzw/data/test/bar_data', '/home/abc/pzw/data/test/line_data', '/home/abc/pzw/data/test/UNKNOWN', '/home/abc/pzw/data/test/pie_data', '/home/abc/pzw/data/test/LINE_CHART_COLUMN_CHART']\n"
     ]
    }
   ],
   "source": [
    "from glob import glob\n",
    "\n",
    "test_dir = '/home/abc/pzw/data/test/'\n",
    "test_dir_set = glob(test_dir+'*')\n",
    "print(test_dir_set)"
   ]
  },
  {
   "cell_type": "code",
   "execution_count": 2,
   "metadata": {},
   "outputs": [
    {
     "name": "stdout",
     "output_type": "stream",
     "text": [
      "/home/abc/pzw/data/test/bar_data --images numbers: 11832 \n",
      "\n",
      "/home/abc/pzw/data/test/line_data --images numbers: 13704 \n",
      "\n",
      "/home/abc/pzw/data/test/UNKNOWN --images numbers: 226 \n",
      "\n",
      "/home/abc/pzw/data/test/pie_data --images numbers: 14914 \n",
      "\n",
      "/home/abc/pzw/data/test/LINE_CHART_COLUMN_CHART --images numbers: 509 \n",
      "\n"
     ]
    }
   ],
   "source": [
    "for t_dir in test_dir_set:\n",
    "    img_set = glob(t_dir + '/*')\n",
    "    print(t_dir,'--images numbers:',len(img_set),'\\n')"
   ]
  },
  {
   "cell_type": "code",
   "execution_count": 3,
   "metadata": {},
   "outputs": [],
   "source": [
    "labels = ['0/', '1/', '20/', '30/', '40/', '50/', '60/', '70/']\n",
    "classes=['UNKNOWN', 'LINE_CHART', 'AREA_CHART','BAR_CHART','COLUMN_CHART','PIE_CHART','GRID_TABLE','LINE_TABLE']"
   ]
  },
  {
   "cell_type": "code",
   "execution_count": 4,
   "metadata": {},
   "outputs": [
    {
     "name": "stderr",
     "output_type": "stream",
     "text": [
      "Using TensorFlow backend.\n"
     ]
    }
   ],
   "source": [
    "from keras.models import load_model\n",
    "\n",
    "model = load_model('model200016100_01_p.h5')"
   ]
  },
  {
   "cell_type": "markdown",
   "metadata": {},
   "source": [
    "## 混淆矩阵"
   ]
  },
  {
   "cell_type": "code",
   "execution_count": 5,
   "metadata": {},
   "outputs": [],
   "source": [
    "import matplotlib.pyplot as plt\n",
    "from sklearn.metrics import confusion_matrix\n",
    "\n",
    "\n",
    "def plot_confusion_matrix(cm, classes, normalize=False, title='Confusion matrix', cmap=plt.cm.Blues):\n",
    "    \"\"\"\n",
    "    This function prints and plots the confusion matrix.\n",
    "    Normalization can be applied by setting `normalize=True`.\n",
    "    (This function is copied from the scikit docs.)\n",
    "    \"\"\"\n",
    "    import itertools\n",
    "    \n",
    "    plt.figure(figsize=(10,10))\n",
    "    plt.imshow(cm, interpolation='nearest', cmap=cmap)\n",
    "    plt.title(title)\n",
    "    plt.colorbar()\n",
    "    tick_marks = np.arange(len(classes))\n",
    "    plt.xticks(tick_marks, classes, rotation=45)\n",
    "    plt.yticks(tick_marks, classes)\n",
    "\n",
    "    if normalize:\n",
    "        cm = cm.astype('float') / cm.sum(axis=1)[:, np.newaxis]\n",
    "    print(cm)\n",
    "    thresh = cm.max() / 2.\n",
    "    for i, j in itertools.product(range(cm.shape[0]), range(cm.shape[1])):\n",
    "        plt.text(j, i, cm[i, j], horizontalalignment=\"center\", fontsize=16, color=\"white\" if cm[i, j] > thresh else \"black\")\n",
    "\n",
    "    plt.tight_layout()\n",
    "    plt.ylabel('True label')\n",
    "    plt.xlabel('Predicted label')\n"
   ]
  },
  {
   "cell_type": "code",
   "execution_count": 9,
   "metadata": {},
   "outputs": [],
   "source": [
    "from PIL import Image\n",
    "\n",
    "\n",
    "def predict_on_set(pie_set):\n",
    "    y_pie_pred = []\n",
    "    y_pie_prob = []\n",
    "\n",
    "    for i, key in tqdm(enumerate(sorted(pie_set))):\n",
    "#     print(key)\n",
    "        img = Image.open(key).convert(\"RGB\")\n",
    "        img_arr = np.array(img.resize((299, 299))) / 255.\n",
    "        y_pie_pred0 = model.predict(np.expand_dims(img_arr, axis=0))\n",
    "        y_pie_prob.append(y_pie_pred0[0])\n",
    "        label_index = np.array(get_max_index(y_pie_pred0[0]))[0]\n",
    "        y_pie_pred.append(classes[int(label_index)])\n",
    "#     print(y_pie_pred)\n",
    "    return y_pie_pred"
   ]
  },
  {
   "cell_type": "code",
   "execution_count": 18,
   "metadata": {},
   "outputs": [],
   "source": [
    "import cv2\n",
    "\n",
    "\n",
    "def predict_on_cvset(pie_set):\n",
    "    y_pie_pred = []\n",
    "    y_pie_prob = []\n",
    "\n",
    "    for i, key in tqdm(enumerate(sorted(pie_set))):\n",
    "#     print(key)\n",
    "        img = cv2.imread(key)[:,:,::-1]\n",
    "#         img = Image.open(key).convert(\"RGB\")\n",
    "#         img_arr = np.array(img.resize((299, 299))) / 255.\n",
    "        img_arr = cv2.resize(img, (299, 299)) / 255.\n",
    "        y_pie_pred0 = model.predict(np.expand_dims(img_arr, axis=0))\n",
    "        y_pie_prob.append(y_pie_pred0[0])\n",
    "        label_index = np.array(get_max_index(y_pie_pred0[0]))[0]\n",
    "        y_pie_pred.append(classes[int(label_index)])\n",
    "#     print(y_pie_pred)\n",
    "    return y_pie_pred"
   ]
  },
  {
   "cell_type": "code",
   "execution_count": 11,
   "metadata": {},
   "outputs": [],
   "source": [
    "def get_max_index(a):\n",
    "    index = []\n",
    "    for i, key in enumerate(a):\n",
    "        if key==max(a):\n",
    "            index.append(i)\n",
    "    return index"
   ]
  },
  {
   "cell_type": "markdown",
   "metadata": {},
   "source": [
    "### predict bar_data"
   ]
  },
  {
   "cell_type": "code",
   "execution_count": 6,
   "metadata": {},
   "outputs": [
    {
     "name": "stdout",
     "output_type": "stream",
     "text": [
      "11832\n"
     ]
    }
   ],
   "source": [
    "bar_set = glob(test_dir_set[0] + '/*')\n",
    "print(len(bar_set))"
   ]
  },
  {
   "cell_type": "code",
   "execution_count": 13,
   "metadata": {},
   "outputs": [],
   "source": [
    "# get y_true\n",
    "y_bar_true = ['BAR_CHART'] * 11832"
   ]
  },
  {
   "cell_type": "code",
   "execution_count": 12,
   "metadata": {
    "scrolled": true
   },
   "outputs": [
    {
     "name": "stderr",
     "output_type": "stream",
     "text": [
      "11832it [05:36, 35.12it/s]"
     ]
    },
    {
     "name": "stdout",
     "output_type": "stream",
     "text": [
      "excute time:353.387697\n"
     ]
    },
    {
     "name": "stderr",
     "output_type": "stream",
     "text": [
      "\n"
     ]
    },
    {
     "ename": "NameError",
     "evalue": "name 'y_bar_true' is not defined",
     "output_type": "error",
     "traceback": [
      "\u001b[0;31m---------------------------------------------------------------------------\u001b[0m",
      "\u001b[0;31mNameError\u001b[0m                                 Traceback (most recent call last)",
      "\u001b[0;32m<ipython-input-12-1f4d2dec6a61>\u001b[0m in \u001b[0;36m<module>\u001b[0;34m()\u001b[0m\n\u001b[1;32m     11\u001b[0m \u001b[0;34m\u001b[0m\u001b[0m\n\u001b[1;32m     12\u001b[0m \u001b[0;31m# UNKNOWN数据的混淆矩阵\u001b[0m\u001b[0;34m\u001b[0m\u001b[0;34m\u001b[0m\u001b[0m\n\u001b[0;32m---> 13\u001b[0;31m \u001b[0mcm\u001b[0m \u001b[0;34m=\u001b[0m \u001b[0mconfusion_matrix\u001b[0m\u001b[0;34m(\u001b[0m\u001b[0my_bar_true\u001b[0m\u001b[0;34m,\u001b[0m \u001b[0my_bar_pred\u001b[0m\u001b[0;34m,\u001b[0m \u001b[0mlabels\u001b[0m\u001b[0;34m=\u001b[0m\u001b[0mclasses\u001b[0m\u001b[0;34m)\u001b[0m\u001b[0;34m\u001b[0m\u001b[0m\n\u001b[0m\u001b[1;32m     14\u001b[0m \u001b[0mplot_confusion_matrix\u001b[0m\u001b[0;34m(\u001b[0m\u001b[0mcm\u001b[0m\u001b[0;34m,\u001b[0m \u001b[0mclasses\u001b[0m\u001b[0;34m)\u001b[0m\u001b[0;34m\u001b[0m\u001b[0m\n",
      "\u001b[0;31mNameError\u001b[0m: name 'y_bar_true' is not defined"
     ]
    }
   ],
   "source": [
    "from tqdm import tqdm\n",
    "from PIL import Image\n",
    "import numpy as np\n",
    "import time\n",
    "\n",
    "start = time.clock()\n",
    "\n",
    "y_bar_pred = predict_on_set(bar_set)\n",
    "\n",
    "print('excute time:%s'%(time.clock()-start))"
   ]
  },
  {
   "cell_type": "code",
   "execution_count": 14,
   "metadata": {},
   "outputs": [
    {
     "name": "stdout",
     "output_type": "stream",
     "text": [
      "[[   0    0    0    0    0    0    0    0]\n",
      " [   0    0    0    0    0    0    0    0]\n",
      " [   0    0    0    0    0    0    0    0]\n",
      " [ 232  376  242 1361 9463    3  103   52]\n",
      " [   0    0    0    0    0    0    0    0]\n",
      " [   0    0    0    0    0    0    0    0]\n",
      " [   0    0    0    0    0    0    0    0]\n",
      " [   0    0    0    0    0    0    0    0]]\n"
     ]
    },
    {
     "data": {
      "image/png": "[encoded data removed]",
      "text/plain": [
       "<matplotlib.figure.Figure at 0x7fb212149828>"
      ]
     },
     "metadata": {},
     "output_type": "display_data"
    }
   ],
   "source": [
    "# bar数据的混淆矩阵\n",
    "cm = confusion_matrix(y_bar_true, y_bar_pred, labels=classes)\n",
    "plot_confusion_matrix(cm, classes)"
   ]
  },
  {
   "cell_type": "markdown",
   "metadata": {},
   "source": [
    "### predict line_data"
   ]
  },
  {
   "cell_type": "code",
   "execution_count": 15,
   "metadata": {},
   "outputs": [
    {
     "name": "stdout",
     "output_type": "stream",
     "text": [
      "13704\n"
     ]
    }
   ],
   "source": [
    "line_set = glob(test_dir_set[1] + '/*')\n",
    "print(len(line_set))"
   ]
  },
  {
   "cell_type": "code",
   "execution_count": 22,
   "metadata": {},
   "outputs": [],
   "source": [
    "# get y_true\n",
    "y_line_true = ['LINE_CHART'] * 13704"
   ]
  },
  {
   "cell_type": "code",
   "execution_count": 19,
   "metadata": {
    "scrolled": true
   },
   "outputs": [
    {
     "name": "stderr",
     "output_type": "stream",
     "text": [
      "\n",
      "0it [00:00, ?it/s]\u001b[A\n",
      "1it [00:00,  3.19it/s]\u001b[A\n",
      "5it [00:00, 11.65it/s]\u001b[A\n",
      "9it [00:00, 16.44it/s]\u001b[A\n",
      "13it [00:00, 19.10it/s]\u001b[A\n",
      "17it [00:00, 21.41it/s]\u001b[A\n",
      "21it [00:00, 23.22it/s]\u001b[A\n",
      "25it [00:01, 24.70it/s]\u001b[A\n",
      "29it [00:01, 25.18it/s]\u001b[A\n",
      "33it [00:01, 26.03it/s]\u001b[A\n",
      "37it [00:01, 26.44it/s]\u001b[A\n",
      "41it [00:01, 26.45it/s]\u001b[A\n",
      "44it [00:01, 26.40it/s]\u001b[A\n",
      "48it [00:01, 26.85it/s]\u001b[A\n",
      "52it [00:01, 27.45it/s]\u001b[A\n",
      "56it [00:02, 27.83it/s]\u001b[A\n",
      "60it [00:02, 28.27it/s]\u001b[A\n",
      "64it [00:02, 28.67it/s]\u001b[A\n",
      "68it [00:02, 29.06it/s]\u001b[A\n",
      "72it [00:02, 29.33it/s]\u001b[A\n",
      "76it [00:02, 29.51it/s]\u001b[A\n",
      "80it [00:02, 29.84it/s]\u001b[A\n",
      "84it [00:02, 30.06it/s]\u001b[A\n",
      "88it [00:02, 30.31it/s]\u001b[A\n",
      "92it [00:03, 30.54it/s]\u001b[A\n",
      "96it [00:03, 30.78it/s]\u001b[A\n",
      "100it [00:03, 31.02it/s]\u001b[A\n",
      "104it [00:03, 31.20it/s]\u001b[A\n",
      "108it [00:03, 31.23it/s]\u001b[A\n",
      "112it [00:03, 31.36it/s]\u001b[A\n",
      "116it [00:03, 31.47it/s]\u001b[A\n",
      "120it [00:03, 31.63it/s]\u001b[A\n",
      "124it [00:03, 31.79it/s]\u001b[A\n",
      "128it [00:04, 31.94it/s]\u001b[A\n",
      "132it [00:04, 32.04it/s]\u001b[A\n",
      "136it [00:04, 32.15it/s]\u001b[A\n",
      "140it [00:04, 32.19it/s]\u001b[A\n",
      "144it [00:04, 32.20it/s]\u001b[A\n",
      "148it [00:04, 32.27it/s]\u001b[A\n",
      "152it [00:04, 32.34it/s]\u001b[A\n",
      "156it [00:04, 32.43it/s]\u001b[A\n",
      "160it [00:04, 32.44it/s]\u001b[A\n",
      "164it [00:05, 32.44it/s]\u001b[A\n",
      "168it [00:05, 32.28it/s]\u001b[A\n",
      "172it [00:05, 32.31it/s]\u001b[A\n",
      "176it [00:05, 32.14it/s]\u001b[A\n",
      "180it [00:05, 32.20it/s]\u001b[A\n",
      "184it [00:05, 32.28it/s]\u001b[A\n",
      "188it [00:05, 32.36it/s]\u001b[A\n",
      "192it [00:05, 32.43it/s]\u001b[A\n",
      "196it [00:06, 32.52it/s]\u001b[A\n",
      "200it [00:06, 32.61it/s]\u001b[A\n",
      "204it [00:06, 32.69it/s]\u001b[A\n",
      "208it [00:06, 32.72it/s]\u001b[A\n",
      "212it [00:06, 32.79it/s]\u001b[A\n",
      "216it [00:06, 32.83it/s]\u001b[A\n",
      "220it [00:06, 32.93it/s]\u001b[A\n",
      "224it [00:06, 32.95it/s]\u001b[A\n",
      "228it [00:06, 32.98it/s]\u001b[A\n",
      "232it [00:07, 33.05it/s]\u001b[A\n",
      "236it [00:07, 33.06it/s]\u001b[A\n",
      "240it [00:07, 33.04it/s]\u001b[A\n",
      "244it [00:07, 33.06it/s]\u001b[A\n",
      "248it [00:07, 33.11it/s]\u001b[A\n",
      "252it [00:07, 33.13it/s]\u001b[A\n",
      "256it [00:07, 33.14it/s]\u001b[A\n",
      "260it [00:07, 33.11it/s]\u001b[A\n",
      "264it [00:07, 33.14it/s]\u001b[A\n",
      "268it [00:08, 33.17it/s]\u001b[A\n",
      "272it [00:08, 33.20it/s]\u001b[A\n",
      "276it [00:08, 33.25it/s]\u001b[A\n",
      "280it [00:08, 33.30it/s]\u001b[A\n",
      "284it [00:08, 33.35it/s]\u001b[A\n",
      "288it [00:08, 33.37it/s]\u001b[A\n",
      "292it [00:08, 33.38it/s]\u001b[A\n",
      "296it [00:08, 33.41it/s]\u001b[A\n",
      "300it [00:08, 33.43it/s]\u001b[A\n",
      "304it [00:09, 33.48it/s]\u001b[A\n",
      "Exception in thread Thread-6:\n",
      "Traceback (most recent call last):\n",
      "  File \"/usr/lib/python3.5/threading.py\", line 914, in _bootstrap_inner\n",
      "    self.run()\n",
      "  File \"/usr/local/lib/python3.5/dist-packages/tqdm/_tqdm.py\", line 144, in run\n",
      "    for instance in self.tqdm_cls._instances:\n",
      "  File \"/usr/lib/python3.5/_weakrefset.py\", line 60, in __iter__\n",
      "    for itemref in self.data:\n",
      "RuntimeError: Set changed size during iteration\n",
      "\n",
      "13704it [06:49, 33.46it/s]\n"
     ]
    },
    {
     "name": "stdout",
     "output_type": "stream",
     "text": [
      "excute time:431.815571\n"
     ]
    },
    {
     "ename": "ValueError",
     "evalue": "At least one label specified must be in y_true",
     "output_type": "error",
     "traceback": [
      "\u001b[0;31m---------------------------------------------------------------------------\u001b[0m",
      "\u001b[0;31mValueError\u001b[0m                                Traceback (most recent call last)",
      "\u001b[0;32m<ipython-input-19-d61cfcf05930>\u001b[0m in \u001b[0;36m<module>\u001b[0;34m()\u001b[0m\n\u001b[1;32m     11\u001b[0m \u001b[0;34m\u001b[0m\u001b[0m\n\u001b[1;32m     12\u001b[0m \u001b[0;31m# UNKNOWN数据的混淆矩阵\u001b[0m\u001b[0;34m\u001b[0m\u001b[0;34m\u001b[0m\u001b[0m\n\u001b[0;32m---> 13\u001b[0;31m \u001b[0mcm\u001b[0m \u001b[0;34m=\u001b[0m \u001b[0mconfusion_matrix\u001b[0m\u001b[0;34m(\u001b[0m\u001b[0my_line_true\u001b[0m\u001b[0;34m,\u001b[0m \u001b[0my_line_pred\u001b[0m\u001b[0;34m,\u001b[0m \u001b[0mlabels\u001b[0m\u001b[0;34m=\u001b[0m\u001b[0mclasses\u001b[0m\u001b[0;34m)\u001b[0m\u001b[0;34m\u001b[0m\u001b[0m\n\u001b[0m\u001b[1;32m     14\u001b[0m \u001b[0mplot_confusion_matrix\u001b[0m\u001b[0;34m(\u001b[0m\u001b[0mcm\u001b[0m\u001b[0;34m,\u001b[0m \u001b[0mclasses\u001b[0m\u001b[0;34m)\u001b[0m\u001b[0;34m\u001b[0m\u001b[0m\n",
      "\u001b[0;32m/usr/local/lib/python3.5/dist-packages/sklearn/metrics/classification.py\u001b[0m in \u001b[0;36mconfusion_matrix\u001b[0;34m(y_true, y_pred, labels, sample_weight)\u001b[0m\n\u001b[1;32m    257\u001b[0m         \u001b[0mlabels\u001b[0m \u001b[0;34m=\u001b[0m \u001b[0mnp\u001b[0m\u001b[0;34m.\u001b[0m\u001b[0masarray\u001b[0m\u001b[0;34m(\u001b[0m\u001b[0mlabels\u001b[0m\u001b[0;34m)\u001b[0m\u001b[0;34m\u001b[0m\u001b[0m\n\u001b[1;32m    258\u001b[0m         \u001b[0;32mif\u001b[0m \u001b[0mnp\u001b[0m\u001b[0;34m.\u001b[0m\u001b[0mall\u001b[0m\u001b[0;34m(\u001b[0m\u001b[0;34m[\u001b[0m\u001b[0ml\u001b[0m \u001b[0;32mnot\u001b[0m \u001b[0;32min\u001b[0m \u001b[0my_true\u001b[0m \u001b[0;32mfor\u001b[0m \u001b[0ml\u001b[0m \u001b[0;32min\u001b[0m \u001b[0mlabels\u001b[0m\u001b[0;34m]\u001b[0m\u001b[0;34m)\u001b[0m\u001b[0;34m:\u001b[0m\u001b[0;34m\u001b[0m\u001b[0m\n\u001b[0;32m--> 259\u001b[0;31m             \u001b[0;32mraise\u001b[0m \u001b[0mValueError\u001b[0m\u001b[0;34m(\u001b[0m\u001b[0;34m\"At least one label specified must be in y_true\"\u001b[0m\u001b[0;34m)\u001b[0m\u001b[0;34m\u001b[0m\u001b[0m\n\u001b[0m\u001b[1;32m    260\u001b[0m \u001b[0;34m\u001b[0m\u001b[0m\n\u001b[1;32m    261\u001b[0m     \u001b[0;32mif\u001b[0m \u001b[0msample_weight\u001b[0m \u001b[0;32mis\u001b[0m \u001b[0;32mNone\u001b[0m\u001b[0;34m:\u001b[0m\u001b[0;34m\u001b[0m\u001b[0m\n",
      "\u001b[0;31mValueError\u001b[0m: At least one label specified must be in y_true"
     ]
    }
   ],
   "source": [
    "from tqdm import tqdm\n",
    "from PIL import Image\n",
    "import numpy as np\n",
    "import time\n",
    "\n",
    "start = time.clock()\n",
    "\n",
    "y_line_pred = predict_on_cvset(line_set)\n",
    "\n",
    "print('excute time:%s'%(time.clock()-start))"
   ]
  },
  {
   "cell_type": "code",
   "execution_count": 23,
   "metadata": {},
   "outputs": [
    {
     "name": "stdout",
     "output_type": "stream",
     "text": [
      "[[    0     0     0     0     0     0     0     0]\n",
      " [  375 11945   612   126   362     2   221    61]\n",
      " [    0     0     0     0     0     0     0     0]\n",
      " [    0     0     0     0     0     0     0     0]\n",
      " [    0     0     0     0     0     0     0     0]\n",
      " [    0     0     0     0     0     0     0     0]\n",
      " [    0     0     0     0     0     0     0     0]\n",
      " [    0     0     0     0     0     0     0     0]]\n"
     ]
    },
    {
     "data": {
      "image/png": "[encoded data removed]",
      "text/plain": [
       "<matplotlib.figure.Figure at 0x7fb1d521cf60>"
      ]
     },
     "metadata": {},
     "output_type": "display_data"
    }
   ],
   "source": [
    "# Line数据的混淆矩阵\n",
    "cm = confusion_matrix(y_line_true, y_line_pred, labels=classes)\n",
    "plot_confusion_matrix(cm, classes)"
   ]
  },
  {
   "cell_type": "markdown",
   "metadata": {},
   "source": [
    "### predict UNKNOWN"
   ]
  },
  {
   "cell_type": "code",
   "execution_count": 11,
   "metadata": {},
   "outputs": [
    {
     "name": "stdout",
     "output_type": "stream",
     "text": [
      "226\n"
     ]
    }
   ],
   "source": [
    "UNKNOWN_set = glob(test_dir_set[2] + '/*')\n",
    "print(len(UNKNOWN_set))"
   ]
  },
  {
   "cell_type": "code",
   "execution_count": 152,
   "metadata": {},
   "outputs": [
    {
     "name": "stdout",
     "output_type": "stream",
     "text": [
      "['UNKNOWN', 'UNKNOWN', 'UNKNOWN', 'UNKNOWN', 'UNKNOWN', 'UNKNOWN', 'UNKNOWN', 'UNKNOWN', 'UNKNOWN', 'UNKNOWN', 'UNKNOWN', 'UNKNOWN', 'UNKNOWN', 'UNKNOWN', 'UNKNOWN', 'UNKNOWN', 'UNKNOWN', 'UNKNOWN', 'UNKNOWN', 'UNKNOWN', 'UNKNOWN', 'UNKNOWN', 'UNKNOWN', 'UNKNOWN', 'UNKNOWN', 'UNKNOWN', 'UNKNOWN', 'UNKNOWN', 'UNKNOWN', 'UNKNOWN', 'UNKNOWN', 'UNKNOWN', 'UNKNOWN', 'UNKNOWN', 'UNKNOWN', 'UNKNOWN', 'UNKNOWN', 'UNKNOWN', 'UNKNOWN', 'UNKNOWN', 'UNKNOWN', 'UNKNOWN', 'UNKNOWN', 'UNKNOWN', 'UNKNOWN', 'UNKNOWN', 'UNKNOWN', 'UNKNOWN', 'UNKNOWN', 'UNKNOWN', 'UNKNOWN', 'UNKNOWN', 'UNKNOWN', 'UNKNOWN', 'UNKNOWN', 'UNKNOWN', 'UNKNOWN', 'UNKNOWN', 'UNKNOWN', 'UNKNOWN', 'UNKNOWN', 'UNKNOWN', 'UNKNOWN', 'UNKNOWN', 'UNKNOWN', 'UNKNOWN', 'UNKNOWN', 'UNKNOWN', 'UNKNOWN', 'UNKNOWN', 'UNKNOWN', 'UNKNOWN', 'UNKNOWN', 'UNKNOWN', 'UNKNOWN', 'UNKNOWN', 'UNKNOWN', 'UNKNOWN', 'UNKNOWN', 'UNKNOWN', 'UNKNOWN', 'UNKNOWN', 'UNKNOWN', 'UNKNOWN', 'UNKNOWN', 'UNKNOWN', 'UNKNOWN', 'UNKNOWN', 'UNKNOWN', 'UNKNOWN', 'UNKNOWN', 'UNKNOWN', 'UNKNOWN', 'UNKNOWN', 'UNKNOWN', 'UNKNOWN', 'UNKNOWN', 'UNKNOWN', 'UNKNOWN', 'UNKNOWN', 'UNKNOWN', 'UNKNOWN', 'UNKNOWN', 'UNKNOWN', 'UNKNOWN', 'UNKNOWN', 'UNKNOWN', 'UNKNOWN', 'UNKNOWN', 'UNKNOWN', 'UNKNOWN', 'UNKNOWN', 'UNKNOWN', 'UNKNOWN', 'UNKNOWN', 'UNKNOWN', 'UNKNOWN', 'UNKNOWN', 'UNKNOWN', 'UNKNOWN', 'UNKNOWN', 'UNKNOWN', 'UNKNOWN', 'UNKNOWN', 'UNKNOWN', 'UNKNOWN', 'UNKNOWN', 'UNKNOWN', 'UNKNOWN', 'UNKNOWN', 'UNKNOWN', 'UNKNOWN', 'UNKNOWN', 'UNKNOWN', 'UNKNOWN', 'UNKNOWN', 'UNKNOWN', 'UNKNOWN', 'UNKNOWN', 'UNKNOWN', 'UNKNOWN', 'UNKNOWN', 'UNKNOWN', 'UNKNOWN', 'UNKNOWN', 'UNKNOWN', 'UNKNOWN', 'UNKNOWN', 'UNKNOWN', 'UNKNOWN', 'UNKNOWN', 'UNKNOWN', 'UNKNOWN', 'UNKNOWN', 'UNKNOWN', 'UNKNOWN', 'UNKNOWN', 'UNKNOWN', 'UNKNOWN', 'UNKNOWN', 'UNKNOWN', 'UNKNOWN', 'UNKNOWN', 'UNKNOWN', 'UNKNOWN', 'UNKNOWN', 'UNKNOWN', 'UNKNOWN', 'UNKNOWN', 'UNKNOWN', 'UNKNOWN', 'UNKNOWN', 'UNKNOWN', 'UNKNOWN', 'UNKNOWN', 'UNKNOWN', 'UNKNOWN', 'UNKNOWN', 'UNKNOWN', 'UNKNOWN', 'UNKNOWN', 'UNKNOWN', 'UNKNOWN', 'UNKNOWN', 'UNKNOWN', 'UNKNOWN', 'UNKNOWN', 'UNKNOWN', 'UNKNOWN', 'UNKNOWN', 'UNKNOWN', 'UNKNOWN', 'UNKNOWN', 'UNKNOWN', 'UNKNOWN', 'UNKNOWN', 'UNKNOWN', 'UNKNOWN', 'UNKNOWN', 'UNKNOWN', 'UNKNOWN', 'UNKNOWN', 'UNKNOWN', 'UNKNOWN', 'UNKNOWN', 'UNKNOWN', 'UNKNOWN', 'UNKNOWN', 'UNKNOWN', 'UNKNOWN', 'UNKNOWN', 'UNKNOWN', 'UNKNOWN', 'UNKNOWN', 'UNKNOWN', 'UNKNOWN', 'UNKNOWN', 'UNKNOWN', 'UNKNOWN', 'UNKNOWN', 'UNKNOWN', 'UNKNOWN', 'UNKNOWN', 'UNKNOWN', 'UNKNOWN', 'UNKNOWN']\n"
     ]
    }
   ],
   "source": [
    "# get y_true\n",
    "y_unkn_true = ['UNKNOWN'] * 226\n",
    "print(y_unkn_true)"
   ]
  },
  {
   "cell_type": "code",
   "execution_count": 15,
   "metadata": {},
   "outputs": [
    {
     "name": "stdout",
     "output_type": "stream",
     "text": [
      "[[  9.99990463e-01   7.69627917e-08   7.33200295e-07   9.32389526e-07\n",
      "    1.88391687e-06   2.89559398e-06   1.19059200e-06   1.73016304e-06]]\n"
     ]
    }
   ],
   "source": [
    "from PIL import Image\n",
    "import numpy as np\n",
    "\n",
    "img = Image.open(UNKNOWN_set[0]).convert(\"RGB\")\n",
    "img_arr = np.array(img.resize((299, 299))) / 255.\n",
    "y_unkn_pred = model.predict(np.expand_dims(img_arr, axis=0))\n",
    "print(y_unkn_pred)"
   ]
  },
  {
   "cell_type": "code",
   "execution_count": 44,
   "metadata": {},
   "outputs": [
    {
     "name": "stdout",
     "output_type": "stream",
     "text": [
      "[ True False False False False False False False]\n",
      "[0]\n"
     ]
    },
    {
     "data": {
      "text/plain": [
       "'UNKNOWN'"
      ]
     },
     "execution_count": 44,
     "metadata": {},
     "output_type": "execute_result"
    }
   ],
   "source": [
    "bin_y_unkn = y_unkn_pred>0.5\n",
    "print(bin_y_unkn[0])\n",
    "\n",
    "label_index = np.array(np.nonzero(np.array(bin_y_unkn[0])))\n",
    "print(label_index[0])\n",
    "\n",
    "labels = ['0/', '1/', '20/', '30/', '40/', '50/', '60/', '70/']\n",
    "classes=['UNKNOWN', 'LINE_TABLE', 'AREA_ChART','BAR_CHART','COLUMN_CHART','PIE_CHART','GRID_TABLE','LINE_TABLE']\n",
    "\n",
    "classes[label_index[0,0]]\n",
    "# print(y_label)"
   ]
  },
  {
   "cell_type": "code",
   "execution_count": 131,
   "metadata": {},
   "outputs": [
    {
     "name": "stderr",
     "output_type": "stream",
     "text": [
      "3it [00:00, 29.59it/s]"
     ]
    },
    {
     "name": "stdout",
     "output_type": "stream",
     "text": [
      "/home/abc/pzw/data/test/UNKNOWN/598d55c28b2a117c84fce092-1.png\n",
      "[1 0 0 0 0 0 0 0] <class 'numpy.ndarray'>\n",
      "[0] <class 'numpy.ndarray'>\n",
      "/home/abc/pzw/data/test/UNKNOWN/598d6bcbcafd5b40edb1bdcc-1.jpg\n",
      "[1 0 0 0 0 0 0 0] <class 'numpy.ndarray'>\n",
      "[0] <class 'numpy.ndarray'>\n",
      "/home/abc/pzw/data/test/UNKNOWN/598d96cfcafd5b40edb266f7-8.png\n",
      "[1 0 0 0 0 0 0 0] <class 'numpy.ndarray'>\n",
      "[0] <class 'numpy.ndarray'>\n",
      "/home/abc/pzw/data/test/UNKNOWN/598de46dcafd5b40edb3219e-4.png\n",
      "[1 0 0 0 0 0 0 0] <class 'numpy.ndarray'>\n",
      "[0] <class 'numpy.ndarray'>\n",
      "/home/abc/pzw/data/test/UNKNOWN/598deff0cafd5b40edb33d70-1.png\n",
      "[1 0 0 0 0 0 0 0] <class 'numpy.ndarray'>\n",
      "[0] <class 'numpy.ndarray'>\n",
      "/home/abc/pzw/data/test/UNKNOWN/598df4898b2a116d7517b7e5-5.png\n",
      "[1 0 0 0 0 0 0 0] <class 'numpy.ndarray'>\n",
      "[0] <class 'numpy.ndarray'>\n",
      "/home/abc/pzw/data/test/UNKNOWN/598dfb998b2a116d7517c170-30.png\n",
      "[0 0 0 0 0 0 0 0] <class 'numpy.ndarray'>\n",
      "[] <class 'numpy.ndarray'>\n"
     ]
    },
    {
     "name": "stderr",
     "output_type": "stream",
     "text": [
      "\n"
     ]
    },
    {
     "ename": "TypeError",
     "evalue": "only length-1 arrays can be converted to Python scalars",
     "output_type": "error",
     "traceback": [
      "\u001b[0;31m---------------------------------------------------------------------------\u001b[0m",
      "\u001b[0;31mTypeError\u001b[0m                                 Traceback (most recent call last)",
      "\u001b[0;32m<ipython-input-131-74dd86d6d712>\u001b[0m in \u001b[0;36m<module>\u001b[0;34m()\u001b[0m\n\u001b[1;32m     17\u001b[0m     \u001b[0mlabel_index\u001b[0m \u001b[0;34m=\u001b[0m \u001b[0mnp\u001b[0m\u001b[0;34m.\u001b[0m\u001b[0marray\u001b[0m\u001b[0;34m(\u001b[0m\u001b[0mnp\u001b[0m\u001b[0;34m.\u001b[0m\u001b[0mnonzero\u001b[0m\u001b[0;34m(\u001b[0m\u001b[0mbin_y_up\u001b[0m\u001b[0;34m)\u001b[0m\u001b[0;34m)\u001b[0m\u001b[0;34m[\u001b[0m\u001b[0;36m0\u001b[0m\u001b[0;34m]\u001b[0m\u001b[0;34m\u001b[0m\u001b[0m\n\u001b[1;32m     18\u001b[0m     \u001b[0mprint\u001b[0m\u001b[0;34m(\u001b[0m\u001b[0mlabel_index\u001b[0m\u001b[0;34m,\u001b[0m\u001b[0mtype\u001b[0m\u001b[0;34m(\u001b[0m\u001b[0mlabel_index\u001b[0m\u001b[0;34m)\u001b[0m\u001b[0;34m)\u001b[0m\u001b[0;34m\u001b[0m\u001b[0m\n\u001b[0;32m---> 19\u001b[0;31m     \u001b[0my_unkn_pred\u001b[0m\u001b[0;34m.\u001b[0m\u001b[0mappend\u001b[0m\u001b[0;34m(\u001b[0m\u001b[0mclasses\u001b[0m\u001b[0;34m[\u001b[0m\u001b[0mint\u001b[0m\u001b[0;34m(\u001b[0m\u001b[0mlabel_index\u001b[0m\u001b[0;34m)\u001b[0m\u001b[0;34m]\u001b[0m\u001b[0;34m)\u001b[0m\u001b[0;34m\u001b[0m\u001b[0m\n\u001b[0m\u001b[1;32m     20\u001b[0m \u001b[0mprint\u001b[0m\u001b[0;34m(\u001b[0m\u001b[0my_unkn_pred\u001b[0m\u001b[0;34m)\u001b[0m\u001b[0;34m\u001b[0m\u001b[0m\n\u001b[1;32m     21\u001b[0m \u001b[0mprint\u001b[0m\u001b[0;34m(\u001b[0m\u001b[0;34m'excute time:%s'\u001b[0m\u001b[0;34m%\u001b[0m\u001b[0;34m(\u001b[0m\u001b[0mtime\u001b[0m\u001b[0;34m.\u001b[0m\u001b[0mclock\u001b[0m\u001b[0;34m(\u001b[0m\u001b[0;34m)\u001b[0m\u001b[0;34m-\u001b[0m\u001b[0mstart\u001b[0m\u001b[0;34m)\u001b[0m\u001b[0;34m)\u001b[0m\u001b[0;34m\u001b[0m\u001b[0m\n",
      "\u001b[0;31mTypeError\u001b[0m: only length-1 arrays can be converted to Python scalars"
     ]
    }
   ],
   "source": [
    "from tqdm import tqdm\n",
    "from PIL import Image\n",
    "import numpy as np\n",
    "import time\n",
    "\n",
    "start = time.clock()\n",
    "\n",
    "y_unkn_pred = []\n",
    "\n",
    "for i, key in tqdm(enumerate(sorted(UNKNOWN_set))):\n",
    "    print(key)\n",
    "    img = Image.open(key).convert(\"RGB\")\n",
    "    img_arr = np.array(img.resize((299, 299))) / 255.\n",
    "    y_unkn_pred0 = model.predict(np.expand_dims(img_arr, axis=0))\n",
    "    bin_y_up = (y_unkn_pred0[0]>0.5).astype('int')\n",
    "    print(bin_y_up,type(bin_y_up))\n",
    "    label_index = np.array(np.nonzero(bin_y_up))[0]\n",
    "    print(label_index,type(label_index))\n",
    "    y_unkn_pred.append(classes[int(label_index)])\n",
    "print(y_unkn_pred)\n",
    "print('excute time:%s'%(time.clock()-start))"
   ]
  },
  {
   "cell_type": "code",
   "execution_count": null,
   "metadata": {},
   "outputs": [],
   "source": []
  },
  {
   "cell_type": "code",
   "execution_count": 130,
   "metadata": {},
   "outputs": [
    {
     "data": {
      "text/plain": [
       "'/home/abc/pzw/data/test/UNKNOWN/598dfb998b2a116d7517c170-30.png'"
      ]
     },
     "execution_count": 130,
     "metadata": {},
     "output_type": "execute_result"
    }
   ],
   "source": [
    "sorted(UNKNOWN_set)[6]"
   ]
  },
  {
   "cell_type": "code",
   "execution_count": 129,
   "metadata": {},
   "outputs": [
    {
     "name": "stdout",
     "output_type": "stream",
     "text": [
      "[[  1.25751764e-01   4.52024192e-01   6.00499217e-04   6.01781903e-05\n",
      "    4.15312916e-01   9.61234309e-06   4.78112511e-03   1.45963824e-03]]\n"
     ]
    }
   ],
   "source": [
    "from PIL import Image\n",
    "import numpy as np\n",
    "\n",
    "img = Image.open(sorted(UNKNOWN_set)[6]).convert(\"RGB\")\n",
    "img_arr = np.array(img.resize((299, 299))) / 255.\n",
    "y_unkn_pred = model.predict(np.expand_dims(img_arr, axis=0))\n",
    "print(y_unkn_pred)"
   ]
  },
  {
   "cell_type": "code",
   "execution_count": 132,
   "metadata": {},
   "outputs": [
    {
     "name": "stderr",
     "output_type": "stream",
     "text": [
      "12it [00:00, 37.09it/s]"
     ]
    },
    {
     "name": "stdout",
     "output_type": "stream",
     "text": [
      "false unknown images: /home/abc/pzw/data/test/UNKNOWN/598dfb998b2a116d7517c170-30.png\n"
     ]
    },
    {
     "name": "stderr",
     "output_type": "stream",
     "text": [
      "28it [00:00, 35.58it/s]"
     ]
    },
    {
     "name": "stdout",
     "output_type": "stream",
     "text": [
      "false unknown images: /home/abc/pzw/data/test/UNKNOWN/5992eecacafd5b3d9315e8b6-10.png\n",
      "false unknown images: /home/abc/pzw/data/test/UNKNOWN/59930601cafd5b3d931602b6-11.png\n"
     ]
    },
    {
     "name": "stderr",
     "output_type": "stream",
     "text": [
      "45it [00:01, 35.25it/s]"
     ]
    },
    {
     "name": "stdout",
     "output_type": "stream",
     "text": [
      "false unknown images: /home/abc/pzw/data/test/UNKNOWN/599d9535cafd5b2f0865f9ef-2.png\n"
     ]
    },
    {
     "name": "stderr",
     "output_type": "stream",
     "text": [
      "53it [00:01, 34.49it/s]"
     ]
    },
    {
     "name": "stdout",
     "output_type": "stream",
     "text": [
      "false unknown images: /home/abc/pzw/data/test/UNKNOWN/59bf07d92af4843ca3983e39-3.png\n"
     ]
    },
    {
     "name": "stderr",
     "output_type": "stream",
     "text": [
      "106it [00:02, 36.38it/s]"
     ]
    },
    {
     "name": "stdout",
     "output_type": "stream",
     "text": [
      "false unknown images: /home/abc/pzw/data/test/UNKNOWN/59dd2eb9077a8b4b1290497c-5.png\n"
     ]
    },
    {
     "name": "stderr",
     "output_type": "stream",
     "text": [
      "130it [00:03, 36.17it/s]"
     ]
    },
    {
     "name": "stdout",
     "output_type": "stream",
     "text": [
      "false unknown images: /home/abc/pzw/data/test/UNKNOWN/59e0c62d8b2a110e3e65fa04-1.png\n"
     ]
    },
    {
     "name": "stderr",
     "output_type": "stream",
     "text": [
      "142it [00:03, 36.24it/s]"
     ]
    },
    {
     "name": "stdout",
     "output_type": "stream",
     "text": [
      "false unknown images: /home/abc/pzw/data/test/UNKNOWN/59e11b81cafd5b28920bf9e4-3.jpg\n"
     ]
    },
    {
     "name": "stderr",
     "output_type": "stream",
     "text": [
      "150it [00:04, 36.17it/s]"
     ]
    },
    {
     "name": "stdout",
     "output_type": "stream",
     "text": [
      "false unknown images: /home/abc/pzw/data/test/UNKNOWN/59e3b81e077a8b4b12974c55-10.png\n"
     ]
    },
    {
     "name": "stderr",
     "output_type": "stream",
     "text": [
      "163it [00:04, 36.37it/s]"
     ]
    },
    {
     "name": "stdout",
     "output_type": "stream",
     "text": [
      "false unknown images: /home/abc/pzw/data/test/UNKNOWN/59e45b49077a8b4b129862c5-80.png\n"
     ]
    },
    {
     "name": "stderr",
     "output_type": "stream",
     "text": [
      "191it [00:05, 36.43it/s]"
     ]
    },
    {
     "name": "stdout",
     "output_type": "stream",
     "text": [
      "false unknown images: /home/abc/pzw/data/test/UNKNOWN/59e8cc9c2af4842e3fec0833-3.png\n"
     ]
    },
    {
     "name": "stderr",
     "output_type": "stream",
     "text": [
      "212it [00:05, 36.28it/s]"
     ]
    },
    {
     "name": "stdout",
     "output_type": "stream",
     "text": [
      "false unknown images: /home/abc/pzw/data/test/UNKNOWN/59fc0ad22af4845146672b7a-7.png\n",
      "false unknown images: /home/abc/pzw/data/test/UNKNOWN/59fce381cafd5b34f91ca3a6-3.png\n"
     ]
    },
    {
     "name": "stderr",
     "output_type": "stream",
     "text": [
      "226it [00:06, 36.35it/s]"
     ]
    },
    {
     "name": "stdout",
     "output_type": "stream",
     "text": [
      "['UNKNOWN', 'UNKNOWN', 'UNKNOWN', 'UNKNOWN', 'UNKNOWN', 'UNKNOWN', 'UNKNOWN', 'UNKNOWN', 'UNKNOWN', 'UNKNOWN', 'UNKNOWN', 'UNKNOWN', 'UNKNOWN', 'UNKNOWN', 'UNKNOWN', 'UNKNOWN', 'UNKNOWN', 'UNKNOWN', 'UNKNOWN', 'UNKNOWN', 'UNKNOWN', 'UNKNOWN', 'UNKNOWN', 'UNKNOWN', 'UNKNOWN', 'UNKNOWN', 'UNKNOWN', 'UNKNOWN', 'UNKNOWN', 'UNKNOWN', 'UNKNOWN', 'UNKNOWN', 'UNKNOWN', 'UNKNOWN', 'UNKNOWN', 'UNKNOWN', 'UNKNOWN', 'UNKNOWN', 'UNKNOWN', 'UNKNOWN', 'UNKNOWN', 'UNKNOWN', 'UNKNOWN', 'UNKNOWN', 'UNKNOWN', 'UNKNOWN', 'UNKNOWN', 'UNKNOWN', 'UNKNOWN', 'UNKNOWN', 'UNKNOWN', 'UNKNOWN', 'UNKNOWN', 'UNKNOWN', 'UNKNOWN', 'UNKNOWN', 'UNKNOWN', 'UNKNOWN', 'UNKNOWN', 'UNKNOWN', 'UNKNOWN', 'UNKNOWN', 'UNKNOWN', 'UNKNOWN', 'UNKNOWN', 'UNKNOWN', 'UNKNOWN', 'UNKNOWN', 'UNKNOWN', 'UNKNOWN', 'UNKNOWN', 'UNKNOWN', 'UNKNOWN', 'UNKNOWN', 'UNKNOWN', 'UNKNOWN', 'UNKNOWN', 'UNKNOWN', 'UNKNOWN', 'UNKNOWN', 'UNKNOWN', 'UNKNOWN', 'UNKNOWN', 'UNKNOWN', 'UNKNOWN', 'UNKNOWN', 'UNKNOWN', 'UNKNOWN', 'UNKNOWN', 'UNKNOWN', 'UNKNOWN', 'UNKNOWN', 'UNKNOWN', 'UNKNOWN', 'UNKNOWN', 'UNKNOWN', 'UNKNOWN', 'UNKNOWN', 'UNKNOWN', 'UNKNOWN', 'UNKNOWN', 'UNKNOWN', 'UNKNOWN', 'UNKNOWN', 'UNKNOWN', 'UNKNOWN', 'UNKNOWN', 'UNKNOWN', 'UNKNOWN', 'UNKNOWN', 'UNKNOWN', 'UNKNOWN', 'UNKNOWN', 'UNKNOWN', 'UNKNOWN', 'UNKNOWN', 'UNKNOWN', 'UNKNOWN', 'UNKNOWN', 'UNKNOWN', 'UNKNOWN', 'UNKNOWN', 'UNKNOWN', 'UNKNOWN', 'UNKNOWN', 'UNKNOWN', 'UNKNOWN', 'UNKNOWN', 'UNKNOWN', 'UNKNOWN', 'UNKNOWN', 'UNKNOWN', 'UNKNOWN', 'UNKNOWN', 'UNKNOWN', 'UNKNOWN', 'UNKNOWN', 'UNKNOWN', 'UNKNOWN', 'UNKNOWN', 'UNKNOWN', 'UNKNOWN', 'UNKNOWN', 'UNKNOWN', 'UNKNOWN', 'UNKNOWN', 'UNKNOWN', 'UNKNOWN', 'UNKNOWN', 'UNKNOWN', 'UNKNOWN', 'UNKNOWN', 'UNKNOWN', 'UNKNOWN', 'UNKNOWN', 'UNKNOWN', 'UNKNOWN', 'UNKNOWN', 'UNKNOWN', 'UNKNOWN', 'UNKNOWN', 'UNKNOWN', 'UNKNOWN', 'UNKNOWN', 'UNKNOWN', 'UNKNOWN', 'UNKNOWN', 'UNKNOWN', 'UNKNOWN', 'UNKNOWN', 'UNKNOWN', 'UNKNOWN', 'UNKNOWN', 'UNKNOWN', 'UNKNOWN', 'UNKNOWN', 'UNKNOWN', 'UNKNOWN', 'UNKNOWN', 'UNKNOWN', 'UNKNOWN', 'UNKNOWN', 'UNKNOWN', 'UNKNOWN', 'UNKNOWN', 'UNKNOWN', 'UNKNOWN', 'UNKNOWN', 'UNKNOWN', 'UNKNOWN', 'UNKNOWN', 'UNKNOWN', 'UNKNOWN', 'UNKNOWN', 'UNKNOWN', 'UNKNOWN', 'UNKNOWN', 'UNKNOWN', 'UNKNOWN', 'UNKNOWN', 'UNKNOWN', 'UNKNOWN', 'UNKNOWN', 'UNKNOWN', 'UNKNOWN', 'UNKNOWN', 'UNKNOWN', 'UNKNOWN', 'UNKNOWN', 'UNKNOWN', 'UNKNOWN', 'UNKNOWN', 'UNKNOWN', 'UNKNOWN', 'UNKNOWN', 'UNKNOWN', 'UNKNOWN', 'UNKNOWN', 'UNKNOWN', 'UNKNOWN', 'UNKNOWN', 'UNKNOWN', 'UNKNOWN', 'UNKNOWN', 'UNKNOWN', 'UNKNOWN']\n",
      "excute time:6.503073999999998\n"
     ]
    },
    {
     "name": "stderr",
     "output_type": "stream",
     "text": [
      "\n"
     ]
    }
   ],
   "source": [
    "from tqdm import tqdm\n",
    "from PIL import Image\n",
    "import numpy as np\n",
    "import time\n",
    "\n",
    "start = time.clock()\n",
    "\n",
    "y_unkn_pred = []\n",
    "y_unkn_prob = []\n",
    "\n",
    "for i, key in tqdm(enumerate(sorted(UNKNOWN_set))):\n",
    "#     print(key)\n",
    "    img = Image.open(key).convert(\"RGB\")\n",
    "    img_arr = np.array(img.resize((299, 299))) / 255.\n",
    "    y_unkn_pred0 = model.predict(np.expand_dims(img_arr, axis=0))\n",
    "    y_unkn_prob.append(y_unkn_pred0[0])\n",
    "    if y_unkn_pred0[0,0]>0.5:\n",
    "        bin_y_up = (y_unkn_pred0[0]>0.5).astype('int')\n",
    "#         print(bin_y_up,type(bin_y_up))\n",
    "        label_index = np.array(np.nonzero(bin_y_up))[0]\n",
    "#         print(label_index,type(label_index))\n",
    "        y_unkn_pred.append(classes[int(label_index)])\n",
    "    else:\n",
    "        y_unkn_pred.append(classes[0])\n",
    "        print('false unknown images:', key)\n",
    "print(y_unkn_pred)\n",
    "print('excute time:%s'%(time.clock()-start))"
   ]
  },
  {
   "cell_type": "code",
   "execution_count": 138,
   "metadata": {},
   "outputs": [
    {
     "data": {
      "text/plain": [
       "array([4, 4, 3, 2, 2, 4, 0, 3, 1, 4])"
      ]
     },
     "execution_count": 138,
     "metadata": {},
     "output_type": "execute_result"
    }
   ],
   "source": [
    "a = np.random.randint(5,size=10)\n",
    "a"
   ]
  },
  {
   "cell_type": "code",
   "execution_count": 141,
   "metadata": {},
   "outputs": [],
   "source": [
    "def get_max_index(a):\n",
    "    index = []\n",
    "    for i, key in enumerate(a):\n",
    "        if key==max(a):\n",
    "            index.append(i)\n",
    "    return index"
   ]
  },
  {
   "cell_type": "code",
   "execution_count": 142,
   "metadata": {},
   "outputs": [
    {
     "data": {
      "text/plain": [
       "[0, 1, 5, 9]"
      ]
     },
     "execution_count": 142,
     "metadata": {},
     "output_type": "execute_result"
    }
   ],
   "source": [
    "index = get_max_index(a)\n",
    "index"
   ]
  },
  {
   "cell_type": "code",
   "execution_count": 143,
   "metadata": {},
   "outputs": [
    {
     "name": "stderr",
     "output_type": "stream",
     "text": [
      "12it [00:00, 36.80it/s]"
     ]
    },
    {
     "name": "stdout",
     "output_type": "stream",
     "text": [
      "false unknown images: 6 /home/abc/pzw/data/test/UNKNOWN/598dfb998b2a116d7517c170-30.png [  1.25751764e-01   4.52024192e-01   6.00499217e-04   6.01781903e-05\n",
      "   4.15312916e-01   9.61234309e-06   4.78112511e-03   1.45963824e-03]\n"
     ]
    },
    {
     "name": "stderr",
     "output_type": "stream",
     "text": [
      "28it [00:00, 36.66it/s]"
     ]
    },
    {
     "name": "stdout",
     "output_type": "stream",
     "text": [
      "false unknown images: 23 /home/abc/pzw/data/test/UNKNOWN/5992eecacafd5b3d9315e8b6-10.png [  2.03402690e-03   9.96511757e-01   1.63644982e-05   8.76412741e-05\n",
      "   9.03896405e-04   5.70500625e-08   3.04975729e-05   4.15781426e-04]\n",
      "false unknown images: 24 /home/abc/pzw/data/test/UNKNOWN/59930601cafd5b3d931602b6-11.png [  5.70915648e-10   9.99999523e-01   3.97861549e-10   3.71331765e-07\n",
      "   9.43355900e-08   6.29321484e-10   2.63452263e-11   8.82785756e-09]\n"
     ]
    },
    {
     "name": "stderr",
     "output_type": "stream",
     "text": [
      "45it [00:01, 36.40it/s]"
     ]
    },
    {
     "name": "stdout",
     "output_type": "stream",
     "text": [
      "false unknown images: 39 /home/abc/pzw/data/test/UNKNOWN/599d9535cafd5b2f0865f9ef-2.png [  3.64469022e-01   5.52942991e-01   7.56987629e-06   8.23814198e-02\n",
      "   9.98894939e-06   1.42109897e-07   1.82937176e-04   5.95408619e-06]\n"
     ]
    },
    {
     "name": "stderr",
     "output_type": "stream",
     "text": [
      "53it [00:01, 36.32it/s]"
     ]
    },
    {
     "name": "stdout",
     "output_type": "stream",
     "text": [
      "false unknown images: 49 /home/abc/pzw/data/test/UNKNOWN/59bf07d92af4843ca3983e39-3.png [  5.52166067e-03   9.94471669e-01   1.18024175e-07   1.72447164e-06\n",
      "   3.36000835e-06   5.74694809e-07   1.06485111e-07   7.37068206e-07]\n"
     ]
    },
    {
     "name": "stderr",
     "output_type": "stream",
     "text": [
      "106it [00:02, 37.95it/s]"
     ]
    },
    {
     "name": "stdout",
     "output_type": "stream",
     "text": [
      "false unknown images: 101 /home/abc/pzw/data/test/UNKNOWN/59dd2eb9077a8b4b1290497c-5.png [  2.58304149e-01   7.41475940e-01   6.41028635e-08   5.99869873e-06\n",
      "   7.16475552e-06   2.97124507e-06   1.10241286e-04   9.34532145e-05]\n"
     ]
    },
    {
     "name": "stderr",
     "output_type": "stream",
     "text": [
      "130it [00:03, 37.64it/s]"
     ]
    },
    {
     "name": "stdout",
     "output_type": "stream",
     "text": [
      "false unknown images: 125 /home/abc/pzw/data/test/UNKNOWN/59e0c62d8b2a110e3e65fa04-1.png [  1.51135018e-02   9.60391387e-03   3.12688737e-03   2.26270426e-02\n",
      "   3.76554996e-01   1.79978251e-05   3.60975504e-01   2.11980268e-01]\n"
     ]
    },
    {
     "name": "stderr",
     "output_type": "stream",
     "text": [
      "142it [00:03, 37.51it/s]"
     ]
    },
    {
     "name": "stdout",
     "output_type": "stream",
     "text": [
      "false unknown images: 136 /home/abc/pzw/data/test/UNKNOWN/59e11b81cafd5b28920bf9e4-3.jpg [  2.46444225e-01   3.10586640e-10   1.08424729e-07   7.53522635e-01\n",
      "   1.62737013e-09   3.41333042e-08   2.39953970e-05   9.06283822e-06]\n"
     ]
    },
    {
     "name": "stderr",
     "output_type": "stream",
     "text": [
      "150it [00:04, 37.12it/s]"
     ]
    },
    {
     "name": "stdout",
     "output_type": "stream",
     "text": [
      "false unknown images: 145 /home/abc/pzw/data/test/UNKNOWN/59e3b81e077a8b4b12974c55-10.png [  1.01766977e-02   9.89813983e-01   1.83048687e-08   1.86135674e-06\n",
      "   3.67020084e-06   2.13349631e-06   5.32395291e-07   1.12970656e-06]\n"
     ]
    },
    {
     "name": "stderr",
     "output_type": "stream",
     "text": [
      "163it [00:04, 37.23it/s]"
     ]
    },
    {
     "name": "stdout",
     "output_type": "stream",
     "text": [
      "false unknown images: 158 /home/abc/pzw/data/test/UNKNOWN/59e45b49077a8b4b129862c5-80.png [  2.61377636e-02   2.40127207e-07   4.86554472e-06   9.71567035e-01\n",
      "   3.29463765e-05   2.12534703e-03   9.13252006e-05   4.04328202e-05]\n"
     ]
    },
    {
     "name": "stderr",
     "output_type": "stream",
     "text": [
      "189it [00:05, 37.19it/s]"
     ]
    },
    {
     "name": "stdout",
     "output_type": "stream",
     "text": [
      "false unknown images: 185 /home/abc/pzw/data/test/UNKNOWN/59e8cc9c2af4842e3fec0833-3.png [  2.69562334e-01   5.51487901e-04   3.81692797e-02   7.78173059e-02\n",
      "   8.01109127e-05   6.11604929e-01   1.24620099e-03   9.68328619e-04]\n"
     ]
    },
    {
     "name": "stderr",
     "output_type": "stream",
     "text": [
      "210it [00:05, 36.86it/s]"
     ]
    },
    {
     "name": "stdout",
     "output_type": "stream",
     "text": [
      "false unknown images: 205 /home/abc/pzw/data/test/UNKNOWN/59fc0ad22af4845146672b7a-7.png [  5.05527851e-08   9.99993682e-01   5.43897841e-06   3.06679141e-07\n",
      "   8.45623447e-08   4.50963256e-07   1.87442797e-10   2.39754083e-09]\n",
      "false unknown images: 212 /home/abc/pzw/data/test/UNKNOWN/59fce381cafd5b34f91ca3a6-3.png [  5.52166067e-03   9.94471669e-01   1.18024175e-07   1.72447164e-06\n",
      "   3.36000835e-06   5.74694809e-07   1.06485111e-07   7.37068206e-07]\n"
     ]
    },
    {
     "name": "stderr",
     "output_type": "stream",
     "text": [
      "226it [00:06, 36.97it/s]"
     ]
    },
    {
     "name": "stdout",
     "output_type": "stream",
     "text": [
      "['UNKNOWN', 'UNKNOWN', 'UNKNOWN', 'UNKNOWN', 'UNKNOWN', 'UNKNOWN', 'LINE_TABLE', 'UNKNOWN', 'UNKNOWN', 'UNKNOWN', 'UNKNOWN', 'UNKNOWN', 'UNKNOWN', 'UNKNOWN', 'UNKNOWN', 'UNKNOWN', 'UNKNOWN', 'UNKNOWN', 'UNKNOWN', 'UNKNOWN', 'UNKNOWN', 'UNKNOWN', 'UNKNOWN', 'LINE_TABLE', 'LINE_TABLE', 'UNKNOWN', 'UNKNOWN', 'UNKNOWN', 'UNKNOWN', 'UNKNOWN', 'UNKNOWN', 'UNKNOWN', 'UNKNOWN', 'UNKNOWN', 'UNKNOWN', 'UNKNOWN', 'UNKNOWN', 'UNKNOWN', 'UNKNOWN', 'LINE_TABLE', 'UNKNOWN', 'UNKNOWN', 'UNKNOWN', 'UNKNOWN', 'UNKNOWN', 'UNKNOWN', 'UNKNOWN', 'UNKNOWN', 'UNKNOWN', 'LINE_TABLE', 'UNKNOWN', 'UNKNOWN', 'UNKNOWN', 'UNKNOWN', 'UNKNOWN', 'UNKNOWN', 'UNKNOWN', 'UNKNOWN', 'UNKNOWN', 'UNKNOWN', 'UNKNOWN', 'UNKNOWN', 'UNKNOWN', 'UNKNOWN', 'UNKNOWN', 'UNKNOWN', 'UNKNOWN', 'UNKNOWN', 'UNKNOWN', 'UNKNOWN', 'UNKNOWN', 'UNKNOWN', 'UNKNOWN', 'UNKNOWN', 'UNKNOWN', 'UNKNOWN', 'UNKNOWN', 'UNKNOWN', 'UNKNOWN', 'UNKNOWN', 'UNKNOWN', 'UNKNOWN', 'UNKNOWN', 'UNKNOWN', 'UNKNOWN', 'UNKNOWN', 'UNKNOWN', 'UNKNOWN', 'UNKNOWN', 'UNKNOWN', 'UNKNOWN', 'UNKNOWN', 'UNKNOWN', 'UNKNOWN', 'UNKNOWN', 'UNKNOWN', 'UNKNOWN', 'UNKNOWN', 'UNKNOWN', 'UNKNOWN', 'UNKNOWN', 'LINE_TABLE', 'UNKNOWN', 'UNKNOWN', 'UNKNOWN', 'UNKNOWN', 'UNKNOWN', 'UNKNOWN', 'UNKNOWN', 'UNKNOWN', 'UNKNOWN', 'UNKNOWN', 'UNKNOWN', 'UNKNOWN', 'UNKNOWN', 'UNKNOWN', 'UNKNOWN', 'UNKNOWN', 'UNKNOWN', 'UNKNOWN', 'UNKNOWN', 'UNKNOWN', 'UNKNOWN', 'UNKNOWN', 'UNKNOWN', 'COLUMN_CHART', 'UNKNOWN', 'UNKNOWN', 'UNKNOWN', 'UNKNOWN', 'UNKNOWN', 'UNKNOWN', 'UNKNOWN', 'UNKNOWN', 'UNKNOWN', 'UNKNOWN', 'BAR_CHART', 'UNKNOWN', 'UNKNOWN', 'UNKNOWN', 'UNKNOWN', 'UNKNOWN', 'UNKNOWN', 'UNKNOWN', 'UNKNOWN', 'LINE_TABLE', 'UNKNOWN', 'UNKNOWN', 'UNKNOWN', 'UNKNOWN', 'UNKNOWN', 'UNKNOWN', 'UNKNOWN', 'UNKNOWN', 'UNKNOWN', 'UNKNOWN', 'UNKNOWN', 'UNKNOWN', 'BAR_CHART', 'UNKNOWN', 'UNKNOWN', 'UNKNOWN', 'UNKNOWN', 'UNKNOWN', 'UNKNOWN', 'UNKNOWN', 'UNKNOWN', 'UNKNOWN', 'UNKNOWN', 'UNKNOWN', 'UNKNOWN', 'UNKNOWN', 'UNKNOWN', 'UNKNOWN', 'UNKNOWN', 'UNKNOWN', 'UNKNOWN', 'UNKNOWN', 'UNKNOWN', 'UNKNOWN', 'UNKNOWN', 'UNKNOWN', 'UNKNOWN', 'UNKNOWN', 'UNKNOWN', 'PTE_CHART', 'UNKNOWN', 'UNKNOWN', 'UNKNOWN', 'UNKNOWN', 'UNKNOWN', 'UNKNOWN', 'UNKNOWN', 'UNKNOWN', 'UNKNOWN', 'UNKNOWN', 'UNKNOWN', 'UNKNOWN', 'UNKNOWN', 'UNKNOWN', 'UNKNOWN', 'UNKNOWN', 'UNKNOWN', 'UNKNOWN', 'UNKNOWN', 'LINE_TABLE', 'UNKNOWN', 'UNKNOWN', 'UNKNOWN', 'UNKNOWN', 'UNKNOWN', 'UNKNOWN', 'LINE_TABLE', 'UNKNOWN', 'UNKNOWN', 'UNKNOWN', 'UNKNOWN', 'UNKNOWN', 'UNKNOWN', 'UNKNOWN', 'UNKNOWN', 'UNKNOWN', 'UNKNOWN', 'UNKNOWN', 'UNKNOWN', 'UNKNOWN']\n",
      "excute time:6.460832000000011\n"
     ]
    },
    {
     "name": "stderr",
     "output_type": "stream",
     "text": [
      "\n"
     ]
    }
   ],
   "source": [
    "from tqdm import tqdm\n",
    "from PIL import Image\n",
    "import numpy as np\n",
    "import time\n",
    "\n",
    "start = time.clock()\n",
    "\n",
    "y_unkn_pred = []\n",
    "y_unkn_prob = []\n",
    "\n",
    "for i, key in tqdm(enumerate(sorted(UNKNOWN_set))):\n",
    "#     print(key)\n",
    "    img = Image.open(key).convert(\"RGB\")\n",
    "    img_arr = np.array(img.resize((299, 299))) / 255.\n",
    "    y_unkn_pred0 = model.predict(np.expand_dims(img_arr, axis=0))\n",
    "    y_unkn_prob.append(y_unkn_pred0[0])\n",
    "    label_index = np.array(get_max_index(y_unkn_pred0[0]))[0]\n",
    "    y_unkn_pred.append(classes[int(label_index)])\n",
    "    if y_unkn_pred0[0,0]<0.5:\n",
    "        print('false unknown images:', i, key, y_unkn_pred0[0])\n",
    "print(y_unkn_pred)\n",
    "print('excute time:%s'%(time.clock()-start))"
   ]
  },
  {
   "cell_type": "code",
   "execution_count": 149,
   "metadata": {},
   "outputs": [
    {
     "name": "stdout",
     "output_type": "stream",
     "text": [
      "[[226]]\n"
     ]
    },
    {
     "data": {
      "image/png": "[encoded data removed]",
      "text/plain": [
       "<matplotlib.figure.Figure at 0x7ff56dbd0668>"
      ]
     },
     "metadata": {},
     "output_type": "display_data"
    }
   ],
   "source": [
    "# 原始数据的混淆矩阵\n",
    "cm = confusion_matrix(y_unkn_true, y_unkn_true)\n",
    "plot_confusion_matrix(cm, classes)"
   ]
  },
  {
   "cell_type": "code",
   "execution_count": 157,
   "metadata": {},
   "outputs": [
    {
     "name": "stdout",
     "output_type": "stream",
     "text": [
      "['UNKNOWN', 'LINE_TABLE', 'AREA_ChART', 'BAR_CHART', 'COLUMN_CHART', 'PTE_CHART', 'GRID_TABLE', 'LINE_TABLE'] \n",
      "\n",
      " ['UNKNOWN', 'UNKNOWN', 'UNKNOWN', 'UNKNOWN', 'UNKNOWN', 'UNKNOWN', 'UNKNOWN', 'UNKNOWN', 'UNKNOWN', 'UNKNOWN', 'UNKNOWN', 'UNKNOWN', 'UNKNOWN', 'UNKNOWN', 'UNKNOWN', 'UNKNOWN', 'UNKNOWN', 'UNKNOWN', 'UNKNOWN', 'UNKNOWN', 'UNKNOWN', 'UNKNOWN', 'UNKNOWN', 'UNKNOWN', 'UNKNOWN', 'UNKNOWN', 'UNKNOWN', 'UNKNOWN', 'UNKNOWN', 'UNKNOWN', 'UNKNOWN', 'UNKNOWN', 'UNKNOWN', 'UNKNOWN', 'UNKNOWN', 'UNKNOWN', 'UNKNOWN', 'UNKNOWN', 'UNKNOWN', 'UNKNOWN', 'UNKNOWN', 'UNKNOWN', 'UNKNOWN', 'UNKNOWN', 'UNKNOWN', 'UNKNOWN', 'UNKNOWN', 'UNKNOWN', 'UNKNOWN', 'UNKNOWN', 'UNKNOWN', 'UNKNOWN', 'UNKNOWN', 'UNKNOWN', 'UNKNOWN', 'UNKNOWN', 'UNKNOWN', 'UNKNOWN', 'UNKNOWN', 'UNKNOWN', 'UNKNOWN', 'UNKNOWN', 'UNKNOWN', 'UNKNOWN', 'UNKNOWN', 'UNKNOWN', 'UNKNOWN', 'UNKNOWN', 'UNKNOWN', 'UNKNOWN', 'UNKNOWN', 'UNKNOWN', 'UNKNOWN', 'UNKNOWN', 'UNKNOWN', 'UNKNOWN', 'UNKNOWN', 'UNKNOWN', 'UNKNOWN', 'UNKNOWN', 'UNKNOWN', 'UNKNOWN', 'UNKNOWN', 'UNKNOWN', 'UNKNOWN', 'UNKNOWN', 'UNKNOWN', 'UNKNOWN', 'UNKNOWN', 'UNKNOWN', 'UNKNOWN', 'UNKNOWN', 'UNKNOWN', 'UNKNOWN', 'UNKNOWN', 'UNKNOWN', 'UNKNOWN', 'UNKNOWN', 'UNKNOWN', 'UNKNOWN', 'UNKNOWN', 'UNKNOWN', 'UNKNOWN', 'UNKNOWN', 'UNKNOWN', 'UNKNOWN', 'UNKNOWN', 'UNKNOWN', 'UNKNOWN', 'UNKNOWN', 'UNKNOWN', 'UNKNOWN', 'UNKNOWN', 'UNKNOWN', 'UNKNOWN', 'UNKNOWN', 'UNKNOWN', 'UNKNOWN', 'UNKNOWN', 'UNKNOWN', 'UNKNOWN', 'UNKNOWN', 'UNKNOWN', 'UNKNOWN', 'UNKNOWN', 'UNKNOWN', 'UNKNOWN', 'UNKNOWN', 'UNKNOWN', 'UNKNOWN', 'UNKNOWN', 'UNKNOWN', 'UNKNOWN', 'UNKNOWN', 'UNKNOWN', 'UNKNOWN', 'UNKNOWN', 'UNKNOWN', 'UNKNOWN', 'UNKNOWN', 'UNKNOWN', 'UNKNOWN', 'UNKNOWN', 'UNKNOWN', 'UNKNOWN', 'UNKNOWN', 'UNKNOWN', 'UNKNOWN', 'UNKNOWN', 'UNKNOWN', 'UNKNOWN', 'UNKNOWN', 'UNKNOWN', 'UNKNOWN', 'UNKNOWN', 'UNKNOWN', 'UNKNOWN', 'UNKNOWN', 'UNKNOWN', 'UNKNOWN', 'UNKNOWN', 'UNKNOWN', 'UNKNOWN', 'UNKNOWN', 'UNKNOWN', 'UNKNOWN', 'UNKNOWN', 'UNKNOWN', 'UNKNOWN', 'UNKNOWN', 'UNKNOWN', 'UNKNOWN', 'UNKNOWN', 'UNKNOWN', 'UNKNOWN', 'UNKNOWN', 'UNKNOWN', 'UNKNOWN', 'UNKNOWN', 'UNKNOWN', 'UNKNOWN', 'UNKNOWN', 'UNKNOWN', 'UNKNOWN', 'UNKNOWN', 'UNKNOWN', 'UNKNOWN', 'UNKNOWN', 'UNKNOWN', 'UNKNOWN', 'UNKNOWN', 'UNKNOWN', 'UNKNOWN', 'UNKNOWN', 'UNKNOWN', 'UNKNOWN', 'UNKNOWN', 'UNKNOWN', 'UNKNOWN', 'UNKNOWN', 'UNKNOWN', 'UNKNOWN', 'UNKNOWN', 'UNKNOWN', 'UNKNOWN', 'UNKNOWN', 'UNKNOWN', 'UNKNOWN', 'UNKNOWN', 'UNKNOWN', 'UNKNOWN', 'UNKNOWN', 'UNKNOWN', 'UNKNOWN', 'UNKNOWN', 'UNKNOWN', 'UNKNOWN', 'UNKNOWN', 'UNKNOWN', 'UNKNOWN', 'UNKNOWN', 'UNKNOWN', 'UNKNOWN', 'UNKNOWN', 'UNKNOWN', 'UNKNOWN'] \n",
      "\n",
      " ['UNKNOWN', 'UNKNOWN', 'UNKNOWN', 'UNKNOWN', 'UNKNOWN', 'UNKNOWN', 'LINE_TABLE', 'UNKNOWN', 'UNKNOWN', 'UNKNOWN', 'UNKNOWN', 'UNKNOWN', 'UNKNOWN', 'UNKNOWN', 'UNKNOWN', 'UNKNOWN', 'UNKNOWN', 'UNKNOWN', 'UNKNOWN', 'UNKNOWN', 'UNKNOWN', 'UNKNOWN', 'UNKNOWN', 'LINE_TABLE', 'LINE_TABLE', 'UNKNOWN', 'UNKNOWN', 'UNKNOWN', 'UNKNOWN', 'UNKNOWN', 'UNKNOWN', 'UNKNOWN', 'UNKNOWN', 'UNKNOWN', 'UNKNOWN', 'UNKNOWN', 'UNKNOWN', 'UNKNOWN', 'UNKNOWN', 'LINE_TABLE', 'UNKNOWN', 'UNKNOWN', 'UNKNOWN', 'UNKNOWN', 'UNKNOWN', 'UNKNOWN', 'UNKNOWN', 'UNKNOWN', 'UNKNOWN', 'LINE_TABLE', 'UNKNOWN', 'UNKNOWN', 'UNKNOWN', 'UNKNOWN', 'UNKNOWN', 'UNKNOWN', 'UNKNOWN', 'UNKNOWN', 'UNKNOWN', 'UNKNOWN', 'UNKNOWN', 'UNKNOWN', 'UNKNOWN', 'UNKNOWN', 'UNKNOWN', 'UNKNOWN', 'UNKNOWN', 'UNKNOWN', 'UNKNOWN', 'UNKNOWN', 'UNKNOWN', 'UNKNOWN', 'UNKNOWN', 'UNKNOWN', 'UNKNOWN', 'UNKNOWN', 'UNKNOWN', 'UNKNOWN', 'UNKNOWN', 'UNKNOWN', 'UNKNOWN', 'UNKNOWN', 'UNKNOWN', 'UNKNOWN', 'UNKNOWN', 'UNKNOWN', 'UNKNOWN', 'UNKNOWN', 'UNKNOWN', 'UNKNOWN', 'UNKNOWN', 'UNKNOWN', 'UNKNOWN', 'UNKNOWN', 'UNKNOWN', 'UNKNOWN', 'UNKNOWN', 'UNKNOWN', 'UNKNOWN', 'UNKNOWN', 'UNKNOWN', 'LINE_TABLE', 'UNKNOWN', 'UNKNOWN', 'UNKNOWN', 'UNKNOWN', 'UNKNOWN', 'UNKNOWN', 'UNKNOWN', 'UNKNOWN', 'UNKNOWN', 'UNKNOWN', 'UNKNOWN', 'UNKNOWN', 'UNKNOWN', 'UNKNOWN', 'UNKNOWN', 'UNKNOWN', 'UNKNOWN', 'UNKNOWN', 'UNKNOWN', 'UNKNOWN', 'UNKNOWN', 'UNKNOWN', 'UNKNOWN', 'COLUMN_CHART', 'UNKNOWN', 'UNKNOWN', 'UNKNOWN', 'UNKNOWN', 'UNKNOWN', 'UNKNOWN', 'UNKNOWN', 'UNKNOWN', 'UNKNOWN', 'UNKNOWN', 'BAR_CHART', 'UNKNOWN', 'UNKNOWN', 'UNKNOWN', 'UNKNOWN', 'UNKNOWN', 'UNKNOWN', 'UNKNOWN', 'UNKNOWN', 'LINE_TABLE', 'UNKNOWN', 'UNKNOWN', 'UNKNOWN', 'UNKNOWN', 'UNKNOWN', 'UNKNOWN', 'UNKNOWN', 'UNKNOWN', 'UNKNOWN', 'UNKNOWN', 'UNKNOWN', 'UNKNOWN', 'BAR_CHART', 'UNKNOWN', 'UNKNOWN', 'UNKNOWN', 'UNKNOWN', 'UNKNOWN', 'UNKNOWN', 'UNKNOWN', 'UNKNOWN', 'UNKNOWN', 'UNKNOWN', 'UNKNOWN', 'UNKNOWN', 'UNKNOWN', 'UNKNOWN', 'UNKNOWN', 'UNKNOWN', 'UNKNOWN', 'UNKNOWN', 'UNKNOWN', 'UNKNOWN', 'UNKNOWN', 'UNKNOWN', 'UNKNOWN', 'UNKNOWN', 'UNKNOWN', 'UNKNOWN', 'PTE_CHART', 'UNKNOWN', 'UNKNOWN', 'UNKNOWN', 'UNKNOWN', 'UNKNOWN', 'UNKNOWN', 'UNKNOWN', 'UNKNOWN', 'UNKNOWN', 'UNKNOWN', 'UNKNOWN', 'UNKNOWN', 'UNKNOWN', 'UNKNOWN', 'UNKNOWN', 'UNKNOWN', 'UNKNOWN', 'UNKNOWN', 'UNKNOWN', 'LINE_TABLE', 'UNKNOWN', 'UNKNOWN', 'UNKNOWN', 'UNKNOWN', 'UNKNOWN', 'UNKNOWN', 'LINE_TABLE', 'UNKNOWN', 'UNKNOWN', 'UNKNOWN', 'UNKNOWN', 'UNKNOWN', 'UNKNOWN', 'UNKNOWN', 'UNKNOWN', 'UNKNOWN', 'UNKNOWN', 'UNKNOWN', 'UNKNOWN', 'UNKNOWN']\n"
     ]
    }
   ],
   "source": [
    "print(classes,'\\n'*2,y_unkn_true, '\\n'*2, y_unkn_pred)"
   ]
  },
  {
   "cell_type": "code",
   "execution_count": 159,
   "metadata": {},
   "outputs": [
    {
     "name": "stdout",
     "output_type": "stream",
     "text": [
      "[[213   0   0   2   1   1   0   9]\n",
      " [  0   0   0   0   0   0   0   0]\n",
      " [  0   0   0   0   0   0   0   0]\n",
      " [  0   0   0   0   0   0   0   0]\n",
      " [  0   0   0   0   0   0   0   0]\n",
      " [  0   0   0   0   0   0   0   0]\n",
      " [  0   0   0   0   0   0   0   0]\n",
      " [  0   0   0   0   0   0   0   0]]\n"
     ]
    },
    {
     "data": {
      "image/png": "[encoded data removed]",
      "text/plain": [
       "<matplotlib.figure.Figure at 0x7ff5304ddd68>"
      ]
     },
     "metadata": {},
     "output_type": "display_data"
    }
   ],
   "source": [
    "# UNKNOWN数据的混淆矩阵\n",
    "cm2 = confusion_matrix(y_unkn_true, y_unkn_pred, labels=classes)\n",
    "plot_confusion_matrix(cm2, classes)"
   ]
  },
  {
   "cell_type": "code",
   "execution_count": null,
   "metadata": {},
   "outputs": [],
   "source": []
  },
  {
   "cell_type": "code",
   "execution_count": null,
   "metadata": {},
   "outputs": [],
   "source": []
  },
  {
   "cell_type": "code",
   "execution_count": null,
   "metadata": {},
   "outputs": [],
   "source": []
  },
  {
   "cell_type": "markdown",
   "metadata": {},
   "source": [
    "### predict pie_data"
   ]
  },
  {
   "cell_type": "code",
   "execution_count": 13,
   "metadata": {},
   "outputs": [
    {
     "name": "stdout",
     "output_type": "stream",
     "text": [
      "14914\n"
     ]
    }
   ],
   "source": [
    "pie_set = glob(test_dir_set[3] + '/*')\n",
    "print(len(pie_set))"
   ]
  },
  {
   "cell_type": "code",
   "execution_count": 166,
   "metadata": {},
   "outputs": [],
   "source": [
    "# get y_true\n",
    "y_pie_true = ['PIE_CHART'] * 14914\n",
    "# print(y_lcc_true)"
   ]
  },
  {
   "cell_type": "code",
   "execution_count": 170,
   "metadata": {},
   "outputs": [],
   "source": [
    "def predict_on_set(pie_set):\n",
    "    y_pie_pred = []\n",
    "    y_pie_prob = []\n",
    "\n",
    "    for i, key in tqdm(enumerate(sorted(pie_set))):\n",
    "#     print(key)\n",
    "        img = Image.open(key).convert(\"RGB\")\n",
    "        img_arr = np.array(img.resize((299, 299))) / 255.\n",
    "        y_pie_pred0 = model.predict(np.expand_dims(img_arr, axis=0))\n",
    "        y_pie_prob.append(y_pie_pred0[0])\n",
    "        label_index = np.array(get_max_index(y_pie_pred0[0]))[0]\n",
    "        y_pie_pred.append(classes[int(label_index)])\n",
    "#     print(y_pie_pred)\n",
    "    return y_pie_pred"
   ]
  },
  {
   "cell_type": "code",
   "execution_count": 171,
   "metadata": {},
   "outputs": [
    {
     "name": "stderr",
     "output_type": "stream",
     "text": [
      "14914it [07:02, 35.30it/s]"
     ]
    },
    {
     "name": "stdout",
     "output_type": "stream",
     "text": [
      "excute time:440.88160700000003\n"
     ]
    },
    {
     "name": "stderr",
     "output_type": "stream",
     "text": [
      "\n"
     ]
    }
   ],
   "source": [
    "from tqdm import tqdm\n",
    "from PIL import Image\n",
    "import numpy as np\n",
    "import time\n",
    "\n",
    "start = time.clock()\n",
    "\n",
    "y_pie_pred = predict_on_set(pie_set)\n",
    "\n",
    "print('excute time:%s'%(time.clock()-start))"
   ]
  },
  {
   "cell_type": "code",
   "execution_count": 172,
   "metadata": {},
   "outputs": [
    {
     "name": "stdout",
     "output_type": "stream",
     "text": [
      "[[    0     0     0     0     0     0     0     0]\n",
      " [    0     0     0     0     0     0     0     0]\n",
      " [    0     0     0     0     0     0     0     0]\n",
      " [    0     0     0     0     0     0     0     0]\n",
      " [    0     0     0     0     0     0     0     0]\n",
      " [  353   136    27   111   273 13981    16    17]\n",
      " [    0     0     0     0     0     0     0     0]\n",
      " [    0     0     0     0     0     0     0     0]]\n"
     ]
    },
    {
     "data": {
      "image/png": "[encoded data removed]",
      "text/plain": [
       "<matplotlib.figure.Figure at 0x7ff5302c4240>"
      ]
     },
     "metadata": {},
     "output_type": "display_data"
    }
   ],
   "source": [
    "# UNKNOWN数据的混淆矩阵\n",
    "cm = confusion_matrix(y_pie_true, y_pie_pred, labels=classes)\n",
    "plot_confusion_matrix(cm, classes)"
   ]
  },
  {
   "cell_type": "markdown",
   "metadata": {},
   "source": [
    "### predict line_column_combine 组合图预测类别"
   ]
  },
  {
   "cell_type": "code",
   "execution_count": 160,
   "metadata": {},
   "outputs": [
    {
     "name": "stdout",
     "output_type": "stream",
     "text": [
      "509\n"
     ]
    }
   ],
   "source": [
    "line_column_set = glob(test_dir_set[4] + '/*')\n",
    "print(len(line_column_set))"
   ]
  },
  {
   "cell_type": "code",
   "execution_count": 162,
   "metadata": {},
   "outputs": [],
   "source": [
    "# get y_true\n",
    "y_lcc_true = ['COLUMN_CHART'] * 509\n",
    "# print(y_lcc_true)"
   ]
  },
  {
   "cell_type": "code",
   "execution_count": 163,
   "metadata": {},
   "outputs": [
    {
     "name": "stderr",
     "output_type": "stream",
     "text": [
      "4it [00:00, 14.68it/s]"
     ]
    },
    {
     "name": "stdout",
     "output_type": "stream",
     "text": [
      "false unknown images: 0 /home/abc/pzw/data/test/LINE_CHART_COLUMN_CHART/58aaf8aecafd5b740c55dcaa_51_0.png [  1.09602405e-09   9.99995947e-01   1.19339268e-06   2.00210866e-06\n",
      "   6.03386695e-07   2.59278732e-08   4.30283187e-09   2.03401456e-07]\n",
      "false unknown images: 1 /home/abc/pzw/data/test/LINE_CHART_COLUMN_CHART/58aaf977cafd5b740c55fe05_75_0.png [  3.47177568e-03   1.28903761e-04   5.17399826e-07   2.19068966e-07\n",
      "   9.96386647e-01   1.91253366e-06   6.36381685e-07   9.49389141e-06]\n",
      "false unknown images: 2 /home/abc/pzw/data/test/LINE_CHART_COLUMN_CHART/58aaf993cafd5b740c560298_66_0.png [  5.81611600e-03   2.53148843e-04   6.17425894e-06   2.72355738e-08\n",
      "   9.93029535e-01   1.10363104e-07   7.42109085e-04   1.52831213e-04]\n",
      "false unknown images: 3 /home/abc/pzw/data/test/LINE_CHART_COLUMN_CHART/58aaf99ccafd5b740c56053b_14_0.png [  3.91997211e-02   1.07829215e-03   1.68830957e-05   1.08903572e-04\n",
      "   9.58086610e-01   1.91046820e-06   1.50546432e-03   2.12964756e-06]\n"
     ]
    },
    {
     "name": "stderr",
     "output_type": "stream",
     "text": [
      "\r",
      "6it [00:00, 14.51it/s]"
     ]
    },
    {
     "name": "stdout",
     "output_type": "stream",
     "text": [
      "false unknown images: 4 /home/abc/pzw/data/test/LINE_CHART_COLUMN_CHART/58aafa0ccafd5b740c561c00_6_0.png [  5.08543337e-04   1.34275667e-02   1.90948751e-02   3.71768983e-04\n",
      "   7.25351155e-01   1.08567883e-06   2.41149291e-01   9.57023512e-05]\n",
      "false unknown images: 5 /home/abc/pzw/data/test/LINE_CHART_COLUMN_CHART/58aafa0ccafd5b740c561c00_8_0.png [  2.01457227e-03   1.11101875e-02   6.88311458e-03   7.61689385e-04\n",
      "   2.13667918e-02   4.77762524e-06   9.57624316e-01   2.34623454e-04]\n",
      "false unknown images: 6 /home/abc/pzw/data/test/LINE_CHART_COLUMN_CHART/58aafa19cafd5b740c562016_102_1.png [  5.98135674e-21   2.47002419e-08   1.28952280e-08   3.52929963e-10\n",
      "   1.00000000e+00   6.58896104e-10   1.12853815e-09   5.88238569e-09]\n",
      "false unknown images: 7 /home/abc/pzw/data/test/LINE_CHART_COLUMN_CHART/58aafa77cafd5b740c5637bd_107_0.png [  5.65373749e-02   2.11967454e-05   1.14696973e-03   8.85403861e-05\n",
      "   6.90089464e-01   1.78252577e-07   2.52089828e-01   2.64241626e-05]\n"
     ]
    },
    {
     "name": "stderr",
     "output_type": "stream",
     "text": [
      "12it [00:00, 17.92it/s]"
     ]
    },
    {
     "name": "stdout",
     "output_type": "stream",
     "text": [
      "false unknown images: 8 /home/abc/pzw/data/test/LINE_CHART_COLUMN_CHART/58aafa77cafd5b740c5637bd_108_0.png [  4.29519527e-02   1.19382739e-05   2.77414406e-03   7.27615989e-05\n",
      "   7.33823776e-01   1.41765909e-07   2.20298544e-01   6.67363784e-05]\n",
      "false unknown images: 9 /home/abc/pzw/data/test/LINE_CHART_COLUMN_CHART/58aafa77cafd5b740c5637bd_133_0.png [  1.26359431e-04   3.24562155e-02   6.73346594e-03   6.38474536e-04\n",
      "   9.59791541e-01   9.61316076e-08   2.51052843e-04   2.67569521e-06]\n",
      "false unknown images: 10 /home/abc/pzw/data/test/LINE_CHART_COLUMN_CHART/58aafa93cafd5b740c564067_42_0.png [  2.06536906e-11   4.45311287e-07   1.95475387e-08   1.01189634e-09\n",
      "   9.99999404e-01   4.40878306e-10   4.11744452e-08   8.88968756e-08]\n",
      "false unknown images: 11 /home/abc/pzw/data/test/LINE_CHART_COLUMN_CHART/58aafa93cafd5b740c564067_45_0.png [  1.13457280e-12   2.37860931e-07   5.49478543e-08   1.74571468e-09\n",
      "   9.99999642e-01   1.99186712e-09   3.05623864e-08   8.95052921e-08]\n",
      "false unknown images: 12 /home/abc/pzw/data/test/LINE_CHART_COLUMN_CHART/58aafaaacafd5b740c564800_332_0.png [  1.29858987e-13   1.04726428e-06   2.91549298e-07   1.95825067e-09\n",
      "   9.99990344e-01   7.48789475e-09   4.63327211e-07   7.85729208e-06]\n",
      "false unknown images: 13 /home/abc/pzw/data/test/LINE_CHART_COLUMN_CHART/58aafaaacafd5b740c564800_339_0.png [  3.83294823e-13   3.40964039e-06   1.41012350e-07   1.24731216e-07\n",
      "   9.99902368e-01   9.23748615e-08   1.49243879e-05   7.89419501e-05]\n"
     ]
    },
    {
     "name": "stderr",
     "output_type": "stream",
     "text": [
      "20it [00:00, 21.78it/s]"
     ]
    },
    {
     "name": "stdout",
     "output_type": "stream",
     "text": [
      "false unknown images: 14 /home/abc/pzw/data/test/LINE_CHART_COLUMN_CHART/58aafac8cafd5b740c5651b8_62_0.png [  9.00891393e-07   9.99973059e-01   1.02195985e-08   9.08196611e-08\n",
      "   1.62893045e-07   5.36220401e-10   2.52729569e-05   4.55295549e-07]\n",
      "false unknown images: 15 /home/abc/pzw/data/test/LINE_CHART_COLUMN_CHART/58aafad5cafd5b740c56561b_115_0.png [  7.64274657e-13   9.99999881e-01   3.03070041e-10   1.71408165e-11\n",
      "   8.01723914e-08   2.12243160e-13   2.45479942e-10   8.22316035e-11]\n",
      "false unknown images: 16 /home/abc/pzw/data/test/LINE_CHART_COLUMN_CHART/58aafb1ccafd5b740c5666aa_49_0.png [  7.40137606e-13   9.99997854e-01   1.05216653e-08   1.14307579e-06\n",
      "   8.97927862e-07   4.80058271e-10   1.93286187e-08   2.20656418e-08]\n",
      "false unknown images: 17 /home/abc/pzw/data/test/LINE_CHART_COLUMN_CHART/58aafb43cafd5b740c566ce5_67_1.png [  4.49606823e-03   2.13953062e-05   9.71624535e-03   2.51766414e-06\n",
      "   4.01349217e-02   2.57166648e-05   9.40569878e-01   5.03324205e-03]\n",
      "false unknown images: 19 /home/abc/pzw/data/test/LINE_CHART_COLUMN_CHART/58aafc0dcafd5b740c569221_75_0.png [  6.92432500e-10   2.68255069e-04   5.11986151e-08   6.93755098e-08\n",
      "   9.99712408e-01   3.37583437e-08   2.91984094e-07   1.89283310e-05]\n",
      "false unknown images: 20 /home/abc/pzw/data/test/LINE_CHART_COLUMN_CHART/58aafcc8cafd5b740c56a106_77_0.png [  1.72540382e-09   1.07805045e-06   2.04363630e-07   2.10177453e-09\n",
      "   9.99994516e-01   2.48485038e-10   3.90649802e-06   2.67820297e-07]\n"
     ]
    },
    {
     "name": "stderr",
     "output_type": "stream",
     "text": [
      "28it [00:01, 24.40it/s]"
     ]
    },
    {
     "name": "stdout",
     "output_type": "stream",
     "text": [
      "false unknown images: 21 /home/abc/pzw/data/test/LINE_CHART_COLUMN_CHART/58aafd99cafd5b740c56bf34_55_0.png [  3.26934154e-04   5.56717441e-06   1.43971947e-05   1.79679560e-07\n",
      "   9.99587476e-01   4.69203565e-09   5.77483734e-05   7.68747213e-06]\n",
      "false unknown images: 22 /home/abc/pzw/data/test/LINE_CHART_COLUMN_CHART/58aafd9ecafd5b740c56c001_50_0.png [  3.08795914e-12   2.69306440e-07   4.15707930e-08   2.93020580e-10\n",
      "   9.99998808e-01   5.67341674e-10   3.83018346e-07   3.99540568e-07]\n",
      "false unknown images: 23 /home/abc/pzw/data/test/LINE_CHART_COLUMN_CHART/58aafdffcafd5b740c56d52c_77_0.png [  3.58763577e-06   1.01021560e-05   3.42417252e-03   2.29151258e-08\n",
      "   9.83253345e-02   2.03710982e-07   8.64477813e-01   3.37587595e-02]\n",
      "false unknown images: 24 /home/abc/pzw/data/test/LINE_CHART_COLUMN_CHART/58aafdffcafd5b740c56d547_64_0.png [  1.06557457e-06   1.47528825e-08   8.90515750e-08   4.72852557e-09\n",
      "   9.99998689e-01   1.92825245e-09   5.65374023e-08   7.05892376e-08]\n",
      "false unknown images: 25 /home/abc/pzw/data/test/LINE_CHART_COLUMN_CHART/58aafdffcafd5b740c56d547_66_0.png [  1.14540398e-05   1.02305216e-06   2.33345327e-05   1.32556963e-07\n",
      "   9.99945402e-01   7.47587450e-08   1.43459538e-05   4.08669757e-06]\n",
      "false unknown images: 26 /home/abc/pzw/data/test/LINE_CHART_COLUMN_CHART/58aafe10cafd5b740c56da4d_46_0.png [  6.78965842e-11   4.11922883e-05   6.78460665e-08   5.80096859e-08\n",
      "   9.99953270e-01   5.32007078e-08   2.82005601e-07   5.10573363e-06]\n",
      "false unknown images: 27 /home/abc/pzw/data/test/LINE_CHART_COLUMN_CHART/58aafe36cafd5b740c56e464_60_0.png [  9.30773722e-11   3.68836112e-07   1.81389055e-07   1.03258344e-06\n",
      "   9.99993801e-01   3.36210562e-08   1.12765235e-07   4.52798531e-06]\n"
     ]
    },
    {
     "name": "stderr",
     "output_type": "stream",
     "text": [
      "\r",
      "32it [00:01, 25.40it/s]"
     ]
    },
    {
     "name": "stdout",
     "output_type": "stream",
     "text": [
      "false unknown images: 28 /home/abc/pzw/data/test/LINE_CHART_COLUMN_CHART/58aafe36cafd5b740c56e464_61_0.png [  1.33264019e-13   2.55490846e-07   2.59868536e-08   3.62894099e-07\n",
      "   9.99998331e-01   1.90362903e-09   1.14797125e-07   9.39365577e-07]\n",
      "false unknown images: 29 /home/abc/pzw/data/test/LINE_CHART_COLUMN_CHART/58aafed3cafd5b740c5709ee_69_0.png [  6.71477101e-05   4.30779750e-07   6.67757183e-09   1.60970615e-09\n",
      "   9.99932408e-01   1.00051594e-08   8.41579340e-09   4.86335630e-08]\n",
      "false unknown images: 30 /home/abc/pzw/data/test/LINE_CHART_COLUMN_CHART/58aaffc4cafd5b740c5746e5_57_0.png [  1.28338160e-03   2.65884933e-06   3.40785760e-07   1.40220251e-07\n",
      "   9.98420835e-01   2.78796364e-07   7.09441792e-06   2.85353308e-04]\n",
      "false unknown images: 31 /home/abc/pzw/data/test/LINE_CHART_COLUMN_CHART/58ab000dcafd5b740c575904_71_1.png [  9.16864848e-12   4.78300601e-01   2.24102896e-05   1.09243160e-03\n",
      "   5.20562708e-01   1.09827181e-06   7.65242112e-06   1.30810595e-05]\n",
      "false unknown images: 33 /home/abc/pzw/data/test/LINE_CHART_COLUMN_CHART/58ab017bcafd5b740c57a577_15_0.png [  7.36112669e-02   5.45386970e-03   9.83740465e-05   6.61069003e-04\n",
      "   2.13915017e-02   1.61134210e-06   8.98630500e-01   1.51816159e-04]\n"
     ]
    },
    {
     "name": "stderr",
     "output_type": "stream",
     "text": [
      "43it [00:01, 26.00it/s]"
     ]
    },
    {
     "name": "stdout",
     "output_type": "stream",
     "text": [
      "false unknown images: 36 /home/abc/pzw/data/test/LINE_CHART_COLUMN_CHART/58ab01bdcafd5b740c57b376_6_0.png [  4.68136109e-02   9.28408682e-01   7.45172019e-06   5.68633259e-05\n",
      "   1.84913442e-04   5.31010755e-06   1.22158055e-03   2.33016256e-02]\n",
      "false unknown images: 37 /home/abc/pzw/data/test/LINE_CHART_COLUMN_CHART/58aba468cafd5b740c60639c_38_3.png [  8.39767009e-02   1.09615949e-05   5.03922347e-05   7.33585921e-07\n",
      "   9.15958285e-01   3.94081667e-07   1.01509124e-06   1.54916722e-06]\n",
      "false unknown images: 38 /home/abc/pzw/data/test/LINE_CHART_COLUMN_CHART/58abb034cafd5b740c60e4cc_49_0.png [  1.67332144e-06   4.73556295e-02   1.26053292e-05   2.21023626e-08\n",
      "   9.52622056e-01   1.37982559e-09   7.89228307e-06   4.97751032e-08]\n",
      "false unknown images: 39 /home/abc/pzw/data/test/LINE_CHART_COLUMN_CHART/58b0143d581e3046a79fa216_3_0.png [  1.91093197e-10   9.99885321e-01   1.46187631e-05   5.88988369e-09\n",
      "   3.86966718e-07   1.48865897e-09   9.40831960e-05   5.56485656e-06]\n",
      "false unknown images: 40 /home/abc/pzw/data/test/LINE_CHART_COLUMN_CHART/58b016df581e3046a79fe2cd_2_0.png [  5.58888665e-11   9.99947190e-01   1.30361399e-09   2.66521183e-09\n",
      "   4.39823543e-06   3.06789880e-12   4.80274248e-05   3.74249169e-07]\n",
      "false unknown images: 41 /home/abc/pzw/data/test/LINE_CHART_COLUMN_CHART/58b016df581e3046a79fe2e2_4_0.png [  2.63985123e-09   9.99543488e-01   7.04253145e-09   3.48471190e-08\n",
      "   4.27910309e-05   1.13366226e-11   4.13673639e-04   4.65013663e-08]\n",
      "false unknown images: 42 /home/abc/pzw/data/test/LINE_CHART_COLUMN_CHART/58b016df581e3046a79fe2e3_3_0.png [  5.09881633e-13   9.99994397e-01   5.03402209e-10   1.47649510e-08\n",
      "   5.54858980e-06   4.43400568e-12   2.38437803e-08   5.51330093e-10]\n"
     ]
    },
    {
     "name": "stderr",
     "output_type": "stream",
     "text": [
      "51it [00:01, 27.23it/s]"
     ]
    },
    {
     "name": "stdout",
     "output_type": "stream",
     "text": [
      "false unknown images: 43 /home/abc/pzw/data/test/LINE_CHART_COLUMN_CHART/58b016e5581e3046a79fe362_4_0.png [  1.57550584e-10   9.99999285e-01   7.70086483e-09   8.58042739e-08\n",
      "   4.54817979e-07   9.60386718e-12   3.85254815e-08   7.76759066e-08]\n",
      "false unknown images: 44 /home/abc/pzw/data/test/LINE_CHART_COLUMN_CHART/58b016fa581e3046a79fe541_4_0.png [  5.53041522e-04   9.13048744e-01   1.44447426e-06   2.94731336e-07\n",
      "   1.31308152e-05   1.18910801e-08   8.63200426e-02   6.33114687e-05]\n",
      "false unknown images: 45 /home/abc/pzw/data/test/LINE_CHART_COLUMN_CHART/58b016fa581e3046a79fe544_3_0.png [  4.77939572e-08   9.99672532e-01   3.82842416e-08   1.23595996e-07\n",
      "   2.19943555e-04   1.19064862e-11   1.07379979e-04   6.78164085e-08]\n",
      "false unknown images: 46 /home/abc/pzw/data/test/LINE_CHART_COLUMN_CHART/58b016fa581e3046a79fe54a_3_0.png [  8.55240878e-10   9.99754727e-01   1.07970699e-07   2.65946142e-07\n",
      "   1.91286861e-04   5.98864083e-11   5.35773470e-05   1.60305156e-08]\n",
      "false unknown images: 47 /home/abc/pzw/data/test/LINE_CHART_COLUMN_CHART/58b01700581e3046a79fe5cd_3_0.png [  1.48137769e-04   9.99845266e-01   5.05957987e-09   1.09361486e-06\n",
      "   2.15231992e-07   4.19667356e-10   1.56360397e-06   3.65439791e-06]\n",
      "false unknown images: 48 /home/abc/pzw/data/test/LINE_CHART_COLUMN_CHART/58b01718581e3046a79fe7e7_3_0.png [  1.44696901e-06   9.99738395e-01   1.05101105e-06   1.32747100e-05\n",
      "   2.42958296e-04   8.41667980e-09   2.11715451e-06   7.99226314e-07]\n",
      "false unknown images: 49 /home/abc/pzw/data/test/LINE_CHART_COLUMN_CHART/58b0171f581e3046a79fe8a7_3_0.png [  4.88568519e-10   9.99999523e-01   1.52547849e-10   1.03959619e-09\n",
      "   3.50432181e-08   2.83348188e-13   4.16355959e-07   1.38553879e-08]\n",
      "false unknown images: 50 /home/abc/pzw/data/test/LINE_CHART_COLUMN_CHART/58b01732581e3046a79feac4_4_1.png [  2.34581748e-05   9.98949707e-01   5.63547246e-06   1.00514200e-03\n",
      "   1.09815264e-05   1.16121932e-07   3.62012452e-06   1.40017926e-06]\n"
     ]
    },
    {
     "name": "stderr",
     "output_type": "stream",
     "text": [
      "59it [00:02, 28.18it/s]"
     ]
    },
    {
     "name": "stdout",
     "output_type": "stream",
     "text": [
      "false unknown images: 51 /home/abc/pzw/data/test/LINE_CHART_COLUMN_CHART/58b01738581e3046a79feb73_3_0.png [  1.53430235e-09   9.99998927e-01   1.24308315e-08   1.01809576e-07\n",
      "   8.95244852e-07   3.21863612e-11   1.94700576e-08   8.90636542e-08]\n",
      "false unknown images: 52 /home/abc/pzw/data/test/LINE_CHART_COLUMN_CHART/58b0174b581e3046a79fece3_3_0.png [  3.69068576e-09   9.99996424e-01   1.87864238e-10   6.48009868e-09\n",
      "   9.00996611e-07   6.31071324e-12   2.67897053e-06   1.96331218e-08]\n",
      "false unknown images: 53 /home/abc/pzw/data/test/LINE_CHART_COLUMN_CHART/58b0174c581e3046a79fed09_4_0.png [  3.00053991e-08   9.99564707e-01   5.74076289e-08   1.55331694e-08\n",
      "   3.28354072e-04   1.16487833e-10   1.06713553e-04   5.68066021e-08]\n",
      "false unknown images: 54 /home/abc/pzw/data/test/LINE_CHART_COLUMN_CHART/58b0174c581e3046a79fed22_3_0.png [  2.35989255e-08   9.99956608e-01   2.33726505e-09   3.74945195e-08\n",
      "   1.12252801e-05   3.98329460e-11   3.21113330e-05   1.81132958e-08]\n",
      "false unknown images: 55 /home/abc/pzw/data/test/LINE_CHART_COLUMN_CHART/58b0175e581e3046a79fee99_3_0.png [  6.15214368e-13   9.99998569e-01   4.36147923e-11   2.50841881e-09\n",
      "   8.04498882e-07   9.26059793e-13   6.01791839e-07   6.70518618e-09]\n",
      "false unknown images: 56 /home/abc/pzw/data/test/LINE_CHART_COLUMN_CHART/58b0175e581e3046a79fee9b_3_0.png [  4.08944016e-12   9.99999404e-01   2.37364239e-10   5.78127324e-09\n",
      "   3.43170996e-07   7.47949662e-13   2.75686176e-07   1.30302569e-09]\n",
      "false unknown images: 57 /home/abc/pzw/data/test/LINE_CHART_COLUMN_CHART/58b0176a581e3046a79fefc9_3_0.png [  5.23886327e-13   9.99998450e-01   9.94875710e-11   4.51121540e-09\n",
      "   1.12245027e-06   7.05369574e-13   4.32494716e-07   4.53206006e-09]\n",
      "false unknown images: 58 /home/abc/pzw/data/test/LINE_CHART_COLUMN_CHART/58b01770581e3046a79ff01f_3_0.png [  6.16725674e-03   9.93730545e-01   1.41252094e-08   8.43837843e-05\n",
      "   5.48751245e-07   1.65849077e-08   8.56933002e-06   8.73418776e-06]\n"
     ]
    },
    {
     "name": "stderr",
     "output_type": "stream",
     "text": [
      "\r",
      "63it [00:02, 28.47it/s]"
     ]
    },
    {
     "name": "stdout",
     "output_type": "stream",
     "text": [
      "false unknown images: 59 /home/abc/pzw/data/test/LINE_CHART_COLUMN_CHART/58b0177d581e3046a79ff0fd_4_0.png [  1.58826777e-04   9.99825060e-01   1.52363441e-07   3.10531163e-06\n",
      "   4.97758811e-06   2.06979711e-10   5.97872440e-06   1.94269296e-06]\n",
      "false unknown images: 60 /home/abc/pzw/data/test/LINE_CHART_COLUMN_CHART/58b0177d581e3046a79ff112_2_0.png [  5.96115726e-08   9.99761522e-01   1.08677944e-09   4.50857879e-10\n",
      "   5.57994099e-07   2.09704268e-11   2.36909400e-04   9.22777247e-07]\n",
      "false unknown images: 61 /home/abc/pzw/data/test/LINE_CHART_COLUMN_CHART/58b01783581e3046a79ff184_3_0.png [  1.34204578e-10   9.99999404e-01   4.08541601e-09   7.75490161e-09\n",
      "   6.11434459e-08   1.65271911e-11   5.04555658e-07   9.76996173e-09]\n",
      "false unknown images: 62 /home/abc/pzw/data/test/LINE_CHART_COLUMN_CHART/58b01783581e3046a79ff18b_3_0.png [  8.78683758e-12   9.99997497e-01   4.77441801e-11   8.75024844e-11\n",
      "   3.92128676e-08   2.12938472e-13   2.47925527e-06   4.69137351e-09]\n",
      "false unknown images: 63 /home/abc/pzw/data/test/LINE_CHART_COLUMN_CHART/58b01783581e3046a79ff199_3_0.png [  8.85325833e-04   9.99063551e-01   3.94000978e-07   2.65607232e-05\n",
      "   1.25998404e-05   1.26027055e-08   8.33645572e-06   3.20472236e-06]\n",
      "false unknown images: 64 /home/abc/pzw/data/test/LINE_CHART_COLUMN_CHART/58b01783581e3046a79ff1a4_3_0.png [  7.93616339e-10   9.99985814e-01   2.69541611e-09   2.25158914e-09\n",
      "   1.69678628e-06   3.42191531e-12   1.24781973e-05   2.15385345e-08]\n",
      "false unknown images: 65 /home/abc/pzw/data/test/LINE_CHART_COLUMN_CHART/58b017b5581e3046a79ff502_3_0.png [  2.39345326e-07   9.99988556e-01   2.50285240e-07   3.08882790e-07\n",
      "   1.02300801e-05   1.71908224e-10   1.42640602e-07   2.70331157e-07]\n"
     ]
    },
    {
     "name": "stderr",
     "output_type": "stream",
     "text": [
      "71it [00:02, 28.85it/s]"
     ]
    },
    {
     "name": "stdout",
     "output_type": "stream",
     "text": [
      "false unknown images: 66 /home/abc/pzw/data/test/LINE_CHART_COLUMN_CHART/58b017bb581e3046a79ff598_4_0.png [  3.49204085e-04   9.99645948e-01   1.70980397e-09   2.47785874e-06\n",
      "   8.46097308e-08   8.16651080e-10   1.93007327e-06   4.10356677e-07]\n",
      "false unknown images: 67 /home/abc/pzw/data/test/LINE_CHART_COLUMN_CHART/58b017bb581e3046a79ff5ba_4_0.png [  8.83830165e-09   9.99999285e-01   1.83329307e-09   4.54860071e-07\n",
      "   1.60900498e-07   1.02279490e-10   7.16180359e-09   6.60922694e-08]\n",
      "false unknown images: 68 /home/abc/pzw/data/test/LINE_CHART_COLUMN_CHART/58b017c7581e3046a79ff68c_3_0.png [  4.71049987e-07   9.99998689e-01   3.06463271e-10   7.21127549e-07\n",
      "   8.70608972e-08   4.95694111e-11   1.22887700e-08   2.76150018e-08]\n",
      "false unknown images: 69 /home/abc/pzw/data/test/LINE_CHART_COLUMN_CHART/58b017c7581e3046a79ff694_3_0.png [  3.74264288e-04   9.99468386e-01   2.78189525e-08   9.15919216e-08\n",
      "   2.58445721e-06   1.96379490e-09   1.54108508e-04   5.72138447e-07]\n",
      "false unknown images: 70 /home/abc/pzw/data/test/LINE_CHART_COLUMN_CHART/58b017cd581e3046a79ff72a_3_0.png [  6.26874396e-07   9.99994993e-01   1.43142946e-08   8.90105355e-07\n",
      "   3.26239092e-06   1.36077621e-10   3.41717303e-08   1.62528863e-07]\n",
      "false unknown images: 71 /home/abc/pzw/data/test/LINE_CHART_COLUMN_CHART/58b017df581e3046a79ff881_3_0.png [  1.42162837e-10   9.99999523e-01   1.92261866e-11   8.56513138e-10\n",
      "   4.15282635e-08   1.28869094e-12   3.83092072e-07   4.11183726e-10]\n",
      "false unknown images: 72 /home/abc/pzw/data/test/LINE_CHART_COLUMN_CHART/58b017f2581e3046a79ffa06_3_0.png [  1.74185499e-09   9.99953032e-01   3.71916564e-09   1.62920610e-08\n",
      "   1.75586028e-05   2.25497260e-11   2.93201065e-05   1.25818900e-07]\n"
     ]
    },
    {
     "name": "stderr",
     "output_type": "stream",
     "text": [
      "79it [00:02, 29.41it/s]"
     ]
    },
    {
     "name": "stdout",
     "output_type": "stream",
     "text": [
      "false unknown images: 73 /home/abc/pzw/data/test/LINE_CHART_COLUMN_CHART/58b017f8581e3046a79ffa83_4_0.png [  6.20815044e-08   9.99876380e-01   4.87012652e-09   9.00732022e-09\n",
      "   9.96223662e-06   3.69498598e-11   1.12774964e-04   8.05771833e-07]\n",
      "false unknown images: 74 /home/abc/pzw/data/test/LINE_CHART_COLUMN_CHART/58b01804581e3046a79ffb64_3_0.png [  4.34431513e-06   7.13151574e-01   2.06589379e-04   3.22779260e-06\n",
      "   2.67797053e-01   1.91994562e-08   1.86518840e-02   1.85332887e-04]\n",
      "false unknown images: 75 /home/abc/pzw/data/test/LINE_CHART_COLUMN_CHART/58b01804581e3046a79ffb71_3_0.png [  3.68119824e-09   9.99999285e-01   3.71414462e-11   1.09185239e-09\n",
      "   1.89222131e-08   2.12951553e-12   6.98584699e-07   2.79391514e-08]\n",
      "false unknown images: 76 /home/abc/pzw/data/test/LINE_CHART_COLUMN_CHART/58b0180d581e3046a79ffc4f_5_0.png [  1.51018240e-03   9.98086929e-01   7.79954973e-07   2.44178809e-04\n",
      "   1.12297348e-04   1.10552740e-08   3.01654472e-05   1.54497320e-05]\n",
      "false unknown images: 77 /home/abc/pzw/data/test/LINE_CHART_COLUMN_CHART/58b0180d581e3046a79ffc51_3_0.png [  6.36102073e-03   9.93272781e-01   2.90998969e-06   2.47546530e-04\n",
      "   8.45431059e-05   1.19186744e-07   1.98153102e-05   1.12094431e-05]\n",
      "false unknown images: 78 /home/abc/pzw/data/test/LINE_CHART_COLUMN_CHART/58b01819581e3046a79ffd36_3_0.png [  1.37305062e-03   9.98586178e-01   1.18929712e-07   2.03403160e-05\n",
      "   8.55292819e-06   8.41118197e-09   6.36575169e-06   5.47669924e-06]\n",
      "false unknown images: 79 /home/abc/pzw/data/test/LINE_CHART_COLUMN_CHART/58b01821581e3046a79ffdf0_4_0.png [  3.96406813e-06   9.99995470e-01   5.31464095e-10   5.28436487e-07\n",
      "   7.59663408e-08   3.53957780e-10   4.14464338e-08   4.05111997e-08]\n"
     ]
    },
    {
     "name": "stderr",
     "output_type": "stream",
     "text": [
      "87it [00:02, 29.78it/s]"
     ]
    },
    {
     "name": "stdout",
     "output_type": "stream",
     "text": [
      "false unknown images: 80 /home/abc/pzw/data/test/LINE_CHART_COLUMN_CHART/58b01821581e3046a79ffe06_3_0.png [  2.71956191e-09   9.99996662e-01   4.73689976e-10   2.32106014e-08\n",
      "   3.06355719e-06   3.87874932e-12   2.18168765e-07   1.00046185e-08]\n",
      "false unknown images: 81 /home/abc/pzw/data/test/LINE_CHART_COLUMN_CHART/58b01828581e3046a79ffeba_3_1.png [  1.10087647e-04   9.99401569e-01   8.74747911e-07   4.84722783e-04\n",
      "   1.50721576e-06   3.07129433e-08   3.11433467e-07   8.39755614e-07]\n",
      "false unknown images: 82 /home/abc/pzw/data/test/LINE_CHART_COLUMN_CHART/58b01835581e3046a7a0007f_3_0.png [  1.90546326e-02   3.48156225e-03   9.75948036e-01   3.72965178e-06\n",
      "   1.91701518e-04   1.27575686e-03   2.71650079e-05   1.74320066e-05]\n",
      "false unknown images: 83 /home/abc/pzw/data/test/LINE_CHART_COLUMN_CHART/58b01839581e3046a7a000b2_4_0.png [  1.35998867e-04   9.99859333e-01   7.85171679e-08   2.98211990e-06\n",
      "   3.59133935e-07   6.89309498e-10   3.74327641e-07   8.60104649e-07]\n",
      "false unknown images: 84 /home/abc/pzw/data/test/LINE_CHART_COLUMN_CHART/58b01840581e3046a7a001d4_3_0.png [  7.02362214e-12   9.99993920e-01   5.54362822e-09   1.01433621e-07\n",
      "   4.46481408e-06   2.17580520e-11   1.45502668e-06   1.44900287e-08]\n",
      "false unknown images: 85 /home/abc/pzw/data/test/LINE_CHART_COLUMN_CHART/58b01848581e3046a7a00255_3_0.png [  2.98098719e-08   9.97548401e-01   7.17187447e-08   1.59625060e-07\n",
      "   2.36663094e-04   1.88100147e-10   2.21445295e-03   2.37979492e-07]\n",
      "false unknown images: 86 /home/abc/pzw/data/test/LINE_CHART_COLUMN_CHART/58b0184b581e3046a7a002e5_3_0.png [  7.43533064e-06   7.39969015e-01   5.30880925e-07   8.97047016e-07\n",
      "   4.13572998e-04   1.18523964e-08   2.59591103e-01   1.74664074e-05]\n"
     ]
    },
    {
     "name": "stderr",
     "output_type": "stream",
     "text": [
      "95it [00:03, 30.08it/s]"
     ]
    },
    {
     "name": "stdout",
     "output_type": "stream",
     "text": [
      "false unknown images: 87 /home/abc/pzw/data/test/LINE_CHART_COLUMN_CHART/58b0184b581e3046a7a002eb_3_0.png [  1.19448375e-12   9.99985814e-01   9.36241862e-10   9.51421431e-09\n",
      "   5.15909520e-08   2.16075356e-12   1.41194914e-05   1.66563900e-08]\n",
      "false unknown images: 88 /home/abc/pzw/data/test/LINE_CHART_COLUMN_CHART/58b0184f581e3046a7a00352_3_0.png [  1.10565190e-04   9.99857903e-01   7.36008516e-08   2.85503052e-06\n",
      "   6.13256907e-06   1.67970984e-10   2.12714967e-05   1.06054028e-06]\n",
      "false unknown images: 89 /home/abc/pzw/data/test/LINE_CHART_COLUMN_CHART/58b0184f581e3046a7a00369_2_0.png [  1.03563748e-10   9.99982357e-01   7.48642037e-09   4.92088290e-08\n",
      "   1.30323597e-05   2.51378649e-12   4.58462000e-06   1.09932952e-09]\n",
      "false unknown images: 90 /home/abc/pzw/data/test/LINE_CHART_COLUMN_CHART/58b01853581e3046a7a003b1_4_0.png [  7.27257086e-03   9.92716789e-01   1.04362936e-08   7.22137202e-06\n",
      "   2.12068855e-07   2.68143263e-09   1.81593919e-07   3.00204465e-06]\n",
      "false unknown images: 91 /home/abc/pzw/data/test/LINE_CHART_COLUMN_CHART/58b01853581e3046a7a003bc_4_0.png [  6.78808938e-05   9.99928832e-01   2.74975909e-09   1.37657082e-06\n",
      "   2.40279434e-07   1.93325023e-10   1.15825628e-06   4.94811218e-07]\n",
      "false unknown images: 92 /home/abc/pzw/data/test/LINE_CHART_COLUMN_CHART/58b01856581e3046a7a00421_3_0.png [  1.10999336e-02   9.88454521e-01   5.12664940e-07   3.92754446e-04\n",
      "   2.26614793e-05   2.12451866e-07   1.68936149e-05   1.25446350e-05]\n",
      "false unknown images: 93 /home/abc/pzw/data/test/LINE_CHART_COLUMN_CHART/58b0185e581e3046a7a00514_5_0.png [  9.40837635e-05   9.99893308e-01   2.14149165e-09   1.18305361e-05\n",
      "   2.11851557e-07   8.13282219e-10   1.70915612e-07   4.60454856e-07]\n",
      "false unknown images: 94 /home/abc/pzw/data/test/LINE_CHART_COLUMN_CHART/58b01862581e3046a7a005b8_5_0.png [  9.51012935e-10   9.99911666e-01   2.56774468e-09   2.81551156e-08\n",
      "   2.31271906e-06   2.49435351e-11   8.59477368e-05   9.18010130e-08]\n"
     ]
    },
    {
     "name": "stderr",
     "output_type": "stream",
     "text": [
      "103it [00:03, 30.47it/s]"
     ]
    },
    {
     "name": "stdout",
     "output_type": "stream",
     "text": [
      "false unknown images: 95 /home/abc/pzw/data/test/LINE_CHART_COLUMN_CHART/58b01866581e3046a7a00615_3_0.png [  2.16206518e-05   9.99738514e-01   4.00538624e-07   2.38581051e-04\n",
      "   3.95956022e-07   4.27305551e-08   4.11874232e-08   4.46019953e-07]\n",
      "false unknown images: 96 /home/abc/pzw/data/test/LINE_CHART_COLUMN_CHART/58b01866581e3046a7a00626_4_0.png [  2.50573881e-04   9.99743402e-01   3.59361851e-09   2.92276059e-06\n",
      "   3.59106991e-07   8.95215346e-10   1.63023537e-06   1.03609739e-06]\n",
      "false unknown images: 97 /home/abc/pzw/data/test/LINE_CHART_COLUMN_CHART/58b0186a581e3046a7a00648_3_0.png [  1.60714600e-03   9.98332441e-01   1.41918139e-08   1.84419823e-05\n",
      "   9.38585345e-07   3.71671627e-09   3.89911474e-05   2.02049637e-06]\n",
      "false unknown images: 98 /home/abc/pzw/data/test/LINE_CHART_COLUMN_CHART/58b0186a581e3046a7a00653_4_0.png [  3.77408278e-11   9.99580324e-01   5.59895019e-09   5.97311853e-08\n",
      "   3.49463691e-04   3.91592921e-12   7.00225937e-05   6.30759516e-08]\n",
      "false unknown images: 99 /home/abc/pzw/data/test/LINE_CHART_COLUMN_CHART/58b01871581e3046a7a006e2_3_0.png [  1.39788771e-03   9.97557402e-01   5.50987522e-07   6.16121179e-05\n",
      "   2.29180005e-04   2.48613019e-09   7.42984586e-04   1.02804152e-05]\n",
      "false unknown images: 100 /home/abc/pzw/data/test/LINE_CHART_COLUMN_CHART/58b01879581e3046a7a007a6_3_0.png [  1.52122448e-09   9.99998927e-01   6.79219958e-10   7.19118304e-07\n",
      "   2.58724356e-07   2.51744375e-10   4.12987555e-09   7.01957248e-08]\n",
      "false unknown images: 101 /home/abc/pzw/data/test/LINE_CHART_COLUMN_CHART/58b01879581e3046a7a007bf_3_0.png [  7.66939152e-08   9.99931693e-01   1.41557814e-08   1.16752361e-07\n",
      "   2.37031181e-05   5.72234933e-11   4.42619785e-05   5.50477601e-08]\n",
      "false unknown images: 102 /home/abc/pzw/data/test/LINE_CHART_COLUMN_CHART/58b01879581e3046a7a007d7_3_0.png [  1.02392423e-08   9.99995470e-01   2.54325672e-09   3.80969550e-06\n",
      "   6.88916714e-07   2.43770254e-10   2.91663649e-09   3.51284690e-08]\n"
     ]
    },
    {
     "name": "stderr",
     "output_type": "stream",
     "text": [
      "\r",
      "107it [00:03, 30.63it/s]"
     ]
    },
    {
     "name": "stdout",
     "output_type": "stream",
     "text": [
      "false unknown images: 103 /home/abc/pzw/data/test/LINE_CHART_COLUMN_CHART/58b0187c581e3046a7a00831_3_0.png [  4.19231871e-10   9.99980092e-01   9.40464329e-09   2.31943282e-08\n",
      "   4.05886612e-06   5.26684208e-12   1.55802190e-05   2.26752675e-07]\n",
      "false unknown images: 104 /home/abc/pzw/data/test/LINE_CHART_COLUMN_CHART/58b01880581e3046a7a008ad_3_0.png [  4.26995708e-03   9.95280445e-01   1.96908168e-05   3.25652771e-04\n",
      "   2.43369996e-05   2.84029067e-08   5.76348793e-05   2.21220325e-05]\n",
      "false unknown images: 105 /home/abc/pzw/data/test/LINE_CHART_COLUMN_CHART/58b01880581e3046a7a008b0_3_0.png [  1.59649414e-06   9.99994874e-01   1.44850332e-09   1.81752625e-06\n",
      "   1.42735621e-06   9.10755082e-10   2.68497359e-07   6.35659845e-08]\n",
      "false unknown images: 106 /home/abc/pzw/data/test/LINE_CHART_COLUMN_CHART/58b01892581e3046a7a00a62_4_0.png [  4.88243490e-09   9.99999166e-01   3.66118386e-10   6.07912341e-07\n",
      "   1.60431327e-07   1.69388559e-10   1.43731196e-08   2.12130224e-08]\n",
      "false unknown images: 107 /home/abc/pzw/data/test/LINE_CHART_COLUMN_CHART/58b01896581e3046a7a00ae1_4_0.png [  3.06267830e-05   9.99967575e-01   3.59589203e-09   1.01153751e-06\n",
      "   1.79497093e-07   2.48875309e-10   3.98926574e-07   1.33157045e-07]\n",
      "false unknown images: 108 /home/abc/pzw/data/test/LINE_CHART_COLUMN_CHART/58b018a6581e3046a7a00c49_4_0.png [  2.34474683e-05   9.98110175e-01   5.76158391e-06   1.23983109e-03\n",
      "   5.92383149e-04   9.31035231e-08   1.79497019e-05   1.02891727e-05]\n",
      "false unknown images: 109 /home/abc/pzw/data/test/LINE_CHART_COLUMN_CHART/58b018be581e3046a7a00e5a_4_0.png [  1.17131975e-02   9.87739980e-01   9.42230690e-06   3.18659993e-04\n",
      "   2.81569328e-06   4.96008994e-08   1.92669744e-04   2.31873510e-05]\n"
     ]
    },
    {
     "name": "stderr",
     "output_type": "stream",
     "text": [
      "115it [00:03, 30.89it/s]"
     ]
    },
    {
     "name": "stdout",
     "output_type": "stream",
     "text": [
      "false unknown images: 110 /home/abc/pzw/data/test/LINE_CHART_COLUMN_CHART/58b018cb581e3046a7a00fe4_3_0.png [  8.11107966e-05   9.99917507e-01   1.30088518e-09   8.00879604e-07\n",
      "   6.54275283e-08   1.48289447e-09   3.22773076e-07   1.84431684e-07]\n",
      "false unknown images: 111 /home/abc/pzw/data/test/LINE_CHART_COLUMN_CHART/58b018d4581e3046a7a0109a_3_0.png [  1.52522675e-10   9.99998569e-01   2.15741558e-09   9.89639261e-07\n",
      "   4.27169169e-07   3.67014474e-10   7.79963383e-09   2.14386784e-08]\n",
      "false unknown images: 112 /home/abc/pzw/data/test/LINE_CHART_COLUMN_CHART/58b018ea581e3046a7a01321_3_0.png [  1.52269777e-05   7.90551887e-04   2.05730885e-06   9.11162559e-08\n",
      "   9.25604945e-06   6.59338140e-09   8.47114205e-01   1.52068511e-01]\n",
      "false unknown images: 113 /home/abc/pzw/data/test/LINE_CHART_COLUMN_CHART/58b018ef581e3046a7a013b5_3_0.png [  4.23048641e-06   9.99923944e-01   1.72796121e-07   7.11447210e-05\n",
      "   3.76054345e-07   1.39364751e-08   1.08269056e-07   1.54238535e-07]\n",
      "false unknown images: 114 /home/abc/pzw/data/test/LINE_CHART_COLUMN_CHART/58b018fb581e3046a7a014b4_4_0.png [  3.95454481e-06   9.99864817e-01   3.17678285e-07   1.29751701e-04\n",
      "   9.67865276e-07   4.09189411e-08   3.94989712e-08   1.48774149e-07]\n",
      "false unknown images: 115 /home/abc/pzw/data/test/LINE_CHART_COLUMN_CHART/58b018fb581e3046a7a014c2_3_0.png [  2.26198948e-09   9.99999523e-01   2.36400538e-10   1.02807952e-07\n",
      "   2.65610993e-07   1.65997993e-10   5.73614436e-08   1.54911284e-08]\n",
      "false unknown images: 116 /home/abc/pzw/data/test/LINE_CHART_COLUMN_CHART/58b01902581e3046a7a015be_4_0.png [  6.63047613e-05   9.99587476e-01   4.36838945e-07   3.44779837e-04\n",
      "   3.63281629e-07   7.52596296e-09   4.01886069e-07   3.24468630e-07]\n",
      "false unknown images: 117 /home/abc/pzw/data/test/LINE_CHART_COLUMN_CHART/58b01902581e3046a7a015be_4_1.png [  9.18174686e-04   9.98900175e-01   2.72195211e-06   1.66522805e-04\n",
      "   4.68782400e-06   3.43483393e-08   5.47025684e-06   2.17425622e-06]\n"
     ]
    },
    {
     "name": "stderr",
     "output_type": "stream",
     "text": [
      "123it [00:03, 31.13it/s]"
     ]
    },
    {
     "name": "stdout",
     "output_type": "stream",
     "text": [
      "false unknown images: 118 /home/abc/pzw/data/test/LINE_CHART_COLUMN_CHART/58b01906581e3046a7a01613_3_0.png [  1.94597289e-01   8.02891493e-01   2.06358127e-05   1.59742043e-03\n",
      "   2.93146528e-04   3.09203324e-06   4.73437685e-04   1.23479986e-04]\n",
      "false unknown images: 119 /home/abc/pzw/data/test/LINE_CHART_COLUMN_CHART/58b0190d581e3046a7a016a8_3_0.png [  2.38887541e-08   9.99996185e-01   1.80051540e-09   3.51972039e-06\n",
      "   1.78079517e-07   5.55122448e-10   8.56701909e-09   2.98071363e-08]\n",
      "false unknown images: 120 /home/abc/pzw/data/test/LINE_CHART_COLUMN_CHART/58b0190d581e3046a7a016ad_4_0.png [  8.63618869e-03   9.89178896e-01   1.87752698e-06   1.41144276e-03\n",
      "   3.71606147e-04   4.66946872e-08   3.87978595e-04   1.20187224e-05]\n",
      "false unknown images: 121 /home/abc/pzw/data/test/LINE_CHART_COLUMN_CHART/58b01914581e3046a7a01748_3_0.png [  1.65853271e-05   9.99921918e-01   3.23799014e-07   6.04431116e-05\n",
      "   4.82347332e-07   2.34685196e-08   3.66546686e-08   1.82257551e-07]\n",
      "false unknown images: 122 /home/abc/pzw/data/test/LINE_CHART_COLUMN_CHART/58b01918581e3046a7a017db_4_0.png [  7.68368482e-05   9.99769509e-01   1.47497133e-06   1.46203529e-04\n",
      "   4.02186060e-06   3.90446786e-08   1.19508684e-06   6.89577973e-07]\n",
      "false unknown images: 123 /home/abc/pzw/data/test/LINE_CHART_COLUMN_CHART/58b01925581e3046a7a018c1_3_0.png [  4.04968159e-05   9.99945879e-01   3.86286217e-07   9.75753574e-06\n",
      "   1.98108228e-06   7.61262786e-09   1.12630710e-06   3.02604178e-07]\n",
      "false unknown images: 124 /home/abc/pzw/data/test/LINE_CHART_COLUMN_CHART/58b01929581e3046a7a0194a_3_0.png [  9.52158916e-06   7.54023960e-04   3.69384041e-04   7.84300846e-06\n",
      "   1.89929386e-04   2.47960406e-06   9.94328439e-01   4.33845865e-03]\n"
     ]
    },
    {
     "name": "stderr",
     "output_type": "stream",
     "text": [
      "131it [00:04, 31.25it/s]"
     ]
    },
    {
     "name": "stdout",
     "output_type": "stream",
     "text": [
      "false unknown images: 125 /home/abc/pzw/data/test/LINE_CHART_COLUMN_CHART/58b0192f581e3046a7a019b3_3_0.png [  2.60821660e-04   9.99735892e-01   9.00437236e-09   2.40706527e-06\n",
      "   7.10870154e-08   1.97605976e-09   6.07305594e-07   2.04034862e-07]\n",
      "false unknown images: 126 /home/abc/pzw/data/test/LINE_CHART_COLUMN_CHART/58b01945581e3046a7a01bf1_2_0.png [  1.11588640e-02   9.88664091e-01   2.37205356e-07   2.21733586e-07\n",
      "   1.17825914e-06   5.71453356e-08   1.70407788e-04   4.91057426e-06]\n",
      "false unknown images: 127 /home/abc/pzw/data/test/LINE_CHART_COLUMN_CHART/58b01945581e3046a7a01c05_3_0.png [  6.22798863e-04   9.96569514e-01   4.88363075e-05   2.08983477e-03\n",
      "   3.47596651e-04   2.96888686e-07   2.83897563e-04   3.73207804e-05]\n",
      "false unknown images: 128 /home/abc/pzw/data/test/LINE_CHART_COLUMN_CHART/58b01955581e3046a7a01d8b_3_0.png [  1.16919093e-01   2.13664621e-02   3.49223986e-02   9.97307798e-05\n",
      "   7.43239969e-02   3.38552709e-05   7.32879102e-01   1.94554627e-02]\n",
      "false unknown images: 129 /home/abc/pzw/data/test/LINE_CHART_COLUMN_CHART/58b01aa2581e3046a7a0437f_4_0.png [  1.31517947e-06   1.51587883e-04   8.66677403e-01   1.93817459e-06\n",
      "   7.80151691e-04   5.33063371e-08   1.31828949e-01   5.58548199e-04]\n",
      "false unknown images: 130 /home/abc/pzw/data/test/LINE_CHART_COLUMN_CHART/58b01bb0581e3046a7a055ac_5_0.png [  2.48364052e-10   9.99902368e-01   2.14280510e-10   2.75334582e-08\n",
      "   2.97394358e-08   2.37256013e-11   9.75023358e-05   9.60823243e-08]\n",
      "false unknown images: 131 /home/abc/pzw/data/test/LINE_CHART_COLUMN_CHART/58b01bbd581e3046a7a05727_5_0.png [  9.27335932e-05   9.99853373e-01   4.17946566e-08   2.62841127e-07\n",
      "   1.31959609e-06   2.19739449e-10   5.11630060e-05   9.75628495e-07]\n"
     ]
    },
    {
     "name": "stderr",
     "output_type": "stream",
     "text": [
      "139it [00:04, 31.43it/s]"
     ]
    },
    {
     "name": "stdout",
     "output_type": "stream",
     "text": [
      "false unknown images: 132 /home/abc/pzw/data/test/LINE_CHART_COLUMN_CHART/58b01bc1581e3046a7a05761_5_0.png [  5.36969878e-07   9.99362886e-01   2.95801339e-08   6.93259040e-07\n",
      "   4.18537275e-05   1.76707690e-10   5.93812554e-04   1.49135744e-07]\n",
      "false unknown images: 133 /home/abc/pzw/data/test/LINE_CHART_COLUMN_CHART/58b01bc5581e3046a7a057cd_7_0.png [  5.79559943e-04   9.97931600e-01   1.59669635e-05   8.49318283e-04\n",
      "   4.26784536e-05   1.24447041e-07   5.60680812e-04   1.99604947e-05]\n",
      "false unknown images: 134 /home/abc/pzw/data/test/LINE_CHART_COLUMN_CHART/58b01bcd581e3046a7a05890_7_0.png [  1.56550400e-03   8.60899687e-01   2.02633091e-05   1.76204194e-05\n",
      "   6.94193542e-02   2.81264590e-07   6.80687800e-02   8.54906102e-06]\n",
      "false unknown images: 135 /home/abc/pzw/data/test/LINE_CHART_COLUMN_CHART/58b01bd5581e3046a7a05944_7_1.png [  4.63085871e-06   9.99898911e-01   8.48130952e-08   2.71935335e-07\n",
      "   1.79887647e-05   1.69669681e-10   7.78688482e-05   2.51214999e-07]\n",
      "false unknown images: 136 /home/abc/pzw/data/test/LINE_CHART_COLUMN_CHART/58b01bdd581e3046a7a05a3d_6_0.png [  6.51899796e-08   9.97880697e-01   2.16024844e-07   4.30217767e-07\n",
      "   1.89481874e-03   7.73042685e-10   2.23188210e-04   5.69314693e-07]\n",
      "false unknown images: 137 /home/abc/pzw/data/test/LINE_CHART_COLUMN_CHART/58b01bed581e3046a7a05bd2_4_0.png [  1.40514857e-07   9.99979615e-01   2.16074856e-08   2.88290956e-08\n",
      "   4.98397731e-06   4.94334539e-11   1.50888100e-05   2.19505068e-07]\n",
      "false unknown images: 138 /home/abc/pzw/data/test/LINE_CHART_COLUMN_CHART/58b01bed581e3046a7a05bd2_5_0.png [  4.63085871e-06   9.99898911e-01   8.48130952e-08   2.71935335e-07\n",
      "   1.79887647e-05   1.69669681e-10   7.78688482e-05   2.51214999e-07]\n"
     ]
    },
    {
     "name": "stderr",
     "output_type": "stream",
     "text": [
      "\r",
      "143it [00:04, 31.45it/s]"
     ]
    },
    {
     "name": "stdout",
     "output_type": "stream",
     "text": [
      "false unknown images: 139 /home/abc/pzw/data/test/LINE_CHART_COLUMN_CHART/58b01bf1581e3046a7a05c21_4_0.png [  6.51899796e-08   9.97880697e-01   2.16024844e-07   4.30217767e-07\n",
      "   1.89481874e-03   7.73042685e-10   2.23188210e-04   5.69314693e-07]\n",
      "false unknown images: 140 /home/abc/pzw/data/test/LINE_CHART_COLUMN_CHART/58b01c1a581e3046a7a05f67_7_0.png [  4.33104969e-10   9.99994755e-01   2.21402549e-10   9.49683976e-09\n",
      "   1.30779398e-07   1.23959792e-11   5.06384913e-06   4.91525896e-08]\n",
      "false unknown images: 141 /home/abc/pzw/data/test/LINE_CHART_COLUMN_CHART/58b01c40581e3046a7a0628a_7_0.png [  3.88690160e-06   1.02923281e-01   3.71565693e-05   1.07634594e-06\n",
      "   8.93671274e-01   1.18390309e-09   3.36247985e-03   7.93820277e-07]\n",
      "false unknown images: 142 /home/abc/pzw/data/test/LINE_CHART_COLUMN_CHART/58b01c44581e3046a7a062c4_6_0.png [  2.38892355e-08   9.99995470e-01   2.78933454e-09   6.33333497e-10\n",
      "   5.30386899e-07   7.50976191e-12   4.03532295e-06   1.38953204e-08]\n",
      "false unknown images: 143 /home/abc/pzw/data/test/LINE_CHART_COLUMN_CHART/58b01c4c581e3046a7a06393_8_1.png [  1.49365915e-02   9.54944551e-01   1.38312101e-03   1.75197348e-02\n",
      "   5.30562887e-04   1.37821689e-06   9.84051451e-03   8.43543210e-04]\n",
      "false unknown images: 144 /home/abc/pzw/data/test/LINE_CHART_COLUMN_CHART/58b01c65581e3046a7a06580_8_0.png [  4.13786054e-08   9.99986529e-01   2.57715822e-08   6.58675532e-08\n",
      "   6.07702077e-06   4.20236693e-11   7.19308673e-06   1.27807581e-07]\n",
      "false unknown images: 145 /home/abc/pzw/data/test/LINE_CHART_COLUMN_CHART/58b01c65581e3046a7a06586_4_0.png [  1.12835579e-07   9.99993682e-01   1.17040484e-08   6.71684361e-08\n",
      "   4.59752926e-07   3.13242543e-10   5.22723349e-06   3.71189373e-07]\n"
     ]
    },
    {
     "name": "stderr",
     "output_type": "stream",
     "text": [
      "151it [00:04, 31.53it/s]"
     ]
    },
    {
     "name": "stdout",
     "output_type": "stream",
     "text": [
      "false unknown images: 146 /home/abc/pzw/data/test/LINE_CHART_COLUMN_CHART/58b01c76581e3046a7a0672b_4_0.png [  3.42546826e-08   9.99819815e-01   2.14450990e-09   1.50082879e-09\n",
      "   2.56150383e-06   1.81367837e-11   1.77597438e-04   1.03821165e-07]\n",
      "false unknown images: 147 /home/abc/pzw/data/test/LINE_CHART_COLUMN_CHART/58b01c9f581e3046a7a06a47_6_0.png [  3.03437155e-05   8.71013224e-01   1.04076689e-05   2.67409109e-06\n",
      "   1.17898665e-01   1.88180973e-08   1.10372202e-02   7.54470329e-06]\n",
      "false unknown images: 148 /home/abc/pzw/data/test/LINE_CHART_COLUMN_CHART/58b01c9f581e3046a7a06a4b_6_0.png [  3.70968962e-07   9.98666286e-01   6.88873882e-08   8.99446775e-08\n",
      "   2.31464132e-04   6.26122557e-11   1.10139081e-03   3.62914989e-07]\n",
      "false unknown images: 149 /home/abc/pzw/data/test/LINE_CHART_COLUMN_CHART/58b01ca4581e3046a7a06a91_5_0.png [  3.99837364e-03   9.76514816e-01   5.46100746e-05   1.49715750e-03\n",
      "   3.62050533e-03   2.85494252e-07   1.40514625e-02   2.62840040e-04]\n",
      "false unknown images: 150 /home/abc/pzw/data/test/LINE_CHART_COLUMN_CHART/58b01cc0581e3046a7a06d1d_7_0.png [  4.70022684e-07   9.99872446e-01   3.96610005e-07   1.02232661e-05\n",
      "   1.11629699e-04   4.15065005e-09   4.51969163e-06   3.24694298e-07]\n",
      "false unknown images: 151 /home/abc/pzw/data/test/LINE_CHART_COLUMN_CHART/58b01cce581e3046a7a06dd8_7_0.png [  5.81439643e-04   7.82663763e-01   6.43743488e-06   7.79726008e-07\n",
      "   3.91080044e-03   2.17459828e-08   2.12834686e-01   2.10898179e-06]\n",
      "false unknown images: 152 /home/abc/pzw/data/test/LINE_CHART_COLUMN_CHART/58b01cdc581e3046a7a06f15_7_0.png [  8.53301665e-11   9.99953270e-01   9.89466908e-09   1.06118527e-07\n",
      "   3.78992481e-05   9.88778677e-12   8.57171472e-06   1.82723070e-07]\n"
     ]
    },
    {
     "name": "stderr",
     "output_type": "stream",
     "text": [
      "159it [00:05, 31.71it/s]"
     ]
    },
    {
     "name": "stdout",
     "output_type": "stream",
     "text": [
      "false unknown images: 153 /home/abc/pzw/data/test/LINE_CHART_COLUMN_CHART/58b01ce3581e3046a7a06f87_5_0.png [  1.59378615e-07   9.99086857e-01   2.32936586e-08   6.03021544e-09\n",
      "   4.62027383e-05   2.29474661e-10   8.64310656e-04   2.51900565e-06]\n",
      "false unknown images: 154 /home/abc/pzw/data/test/LINE_CHART_COLUMN_CHART/58b01d20581e3046a7a074e5_7_0.png [  1.15978206e-03   9.96189415e-01   2.75670500e-05   1.27177208e-03\n",
      "   1.36446964e-04   3.04364306e-07   1.09686423e-03   1.17938122e-04]\n",
      "false unknown images: 155 /home/abc/pzw/data/test/LINE_CHART_COLUMN_CHART/58b01d38581e3046a7a076e5_5_0.png [  4.73463064e-04   9.97980177e-01   7.22923278e-06   4.55662957e-04\n",
      "   1.68149068e-04   1.11946875e-07   8.62842018e-04   5.23465715e-05]\n",
      "false unknown images: 156 /home/abc/pzw/data/test/LINE_CHART_COLUMN_CHART/58b01d65581e3046a7a07abe_7_0.png [  4.42718128e-12   9.99999166e-01   2.04772990e-10   1.86100273e-08\n",
      "   7.78701917e-07   1.44529977e-13   9.28600841e-08   4.07938039e-09]\n",
      "false unknown images: 157 /home/abc/pzw/data/test/LINE_CHART_COLUMN_CHART/58b01d72581e3046a7a07c01_5_0.png [  1.46038862e-10   9.99997854e-01   6.26089944e-11   5.30034150e-09\n",
      "   4.52352111e-07   4.44899380e-14   1.73042508e-06   3.33485950e-09]\n",
      "false unknown images: 158 /home/abc/pzw/data/test/LINE_CHART_COLUMN_CHART/58b01d77581e3046a7a07c45_7_0.png [  9.50487831e-08   9.99892354e-01   4.43960158e-09   1.35830946e-08\n",
      "   5.38890308e-05   7.31039014e-12   5.35792060e-05   4.80325077e-08]\n",
      "false unknown images: 159 /home/abc/pzw/data/test/LINE_CHART_COLUMN_CHART/58b01e6f581e3046a7a09300_4_0.png [  1.06302068e-04   9.99764860e-01   7.70740189e-06   7.97056055e-05\n",
      "   1.68050810e-05   2.87488930e-08   2.26092216e-05   1.98155499e-06]\n",
      "false unknown images: 160 /home/abc/pzw/data/test/LINE_CHART_COLUMN_CHART/58b0205b581e3046a7a0b4ba_4_0.png [  1.40104457e-04   9.34882820e-01   4.45155799e-03   5.73549513e-03\n",
      "   5.47012053e-02   2.63791708e-06   6.98797812e-05   1.63453169e-05]\n"
     ]
    },
    {
     "name": "stderr",
     "output_type": "stream",
     "text": [
      "167it [00:05, 31.91it/s]"
     ]
    },
    {
     "name": "stdout",
     "output_type": "stream",
     "text": [
      "false unknown images: 161 /home/abc/pzw/data/test/LINE_CHART_COLUMN_CHART/58b0208c581e3046a7a0b7b0_7_0.png [  1.54330493e-09   9.99454081e-01   2.12592863e-06   1.20462448e-06\n",
      "   5.42153721e-04   4.94023815e-11   1.15419120e-07   3.38244234e-07]\n",
      "false unknown images: 162 /home/abc/pzw/data/test/LINE_CHART_COLUMN_CHART/599e33a7077a8b5be2bdd111_7_2.png [  6.01133361e-05   9.99924183e-01   2.14599520e-08   1.96568739e-09\n",
      "   7.45727402e-06   1.81541573e-10   7.96641598e-06   2.64434476e-07]\n",
      "false unknown images: 163 /home/abc/pzw/data/test/LINE_CHART_COLUMN_CHART/599e4969077a8b5be2bdd36d_5_0.png [  3.68691102e-12   9.99998927e-01   3.03113541e-11   1.07735418e-10\n",
      "   1.20301834e-07   9.53093941e-13   8.98261192e-07   9.26167942e-09]\n",
      "false unknown images: 164 /home/abc/pzw/data/test/LINE_CHART_COLUMN_CHART/599e496c077a8b5be2bdd382_5_0.png [  2.08135748e-06   8.35327864e-01   1.02683925e-05   1.10901874e-05\n",
      "   2.16292422e-02   2.23326211e-08   1.42977878e-01   4.16018265e-05]\n",
      "false unknown images: 165 /home/abc/pzw/data/test/LINE_CHART_COLUMN_CHART/599eb6ba077a8b5be2bdd724_7_0.png [  4.55393911e-06   9.99936819e-01   3.80202977e-07   2.82503925e-06\n",
      "   5.32865888e-05   2.09643658e-09   1.93971846e-06   1.89279007e-07]\n",
      "false unknown images: 166 /home/abc/pzw/data/test/LINE_CHART_COLUMN_CHART/599eb6ba077a8b5be2bdd726_8_0.png [  2.19820026e-06   9.99963403e-01   5.40898043e-07   1.55620073e-05\n",
      "   1.21444727e-05   1.33026767e-09   5.40951987e-06   7.97006805e-07]\n",
      "false unknown images: 167 /home/abc/pzw/data/test/LINE_CHART_COLUMN_CHART/599ebdb9077a8b5be2bdd773_7_0.png [  2.83652867e-07   9.99968767e-01   2.28701637e-07   1.22459314e-05\n",
      "   1.69499217e-05   2.83363430e-08   1.03659772e-06   4.44248684e-07]\n",
      "false unknown images: 168 /home/abc/pzw/data/test/LINE_CHART_COLUMN_CHART/599ec14e077a8b5be2bdd7a8_5_0.png [  3.02185130e-04   9.99314070e-01   2.58183377e-06   1.84672026e-04\n",
      "   1.52175817e-05   5.33493427e-08   1.65924575e-04   1.52343246e-05]\n"
     ]
    },
    {
     "name": "stderr",
     "output_type": "stream",
     "text": [
      "175it [00:05, 31.99it/s]"
     ]
    },
    {
     "name": "stdout",
     "output_type": "stream",
     "text": [
      "false unknown images: 169 /home/abc/pzw/data/test/LINE_CHART_COLUMN_CHART/59a3ebe6077a8b0fad046fba_5_0.png [  1.89692758e-11   9.99993801e-01   2.41486969e-10   1.02425455e-08\n",
      "   5.10377413e-06   1.30908966e-12   1.02899037e-06   3.76410867e-08]\n",
      "false unknown images: 170 /home/abc/pzw/data/test/LINE_CHART_COLUMN_CHART/59a3ebe6077a8b0fad046fd9_4_0.png [  8.75582543e-07   9.99985933e-01   3.08882562e-07   4.86551380e-06\n",
      "   7.61132605e-06   4.42984704e-10   2.96810725e-07   2.34096547e-07]\n",
      "false unknown images: 171 /home/abc/pzw/data/test/LINE_CHART_COLUMN_CHART/59a3ebea077a8b0fad047006_5_0.png [  6.31603325e-06   9.98417735e-01   5.16536005e-08   8.71950832e-08\n",
      "   3.18673236e-04   2.63220695e-11   1.25437905e-03   2.76677497e-06]\n",
      "false unknown images: 172 /home/abc/pzw/data/test/LINE_CHART_COLUMN_CHART/59a3ebf0077a8b0fad047066_5_0.png [  3.31409230e-14   9.99994516e-01   1.38282508e-09   8.75933193e-09\n",
      "   4.59745661e-06   9.25132692e-13   8.01537283e-07   3.03444132e-08]\n",
      "false unknown images: 173 /home/abc/pzw/data/test/LINE_CHART_COLUMN_CHART/59a3ec00077a8b0fad047184_5_0.png [  1.76779182e-07   9.99879003e-01   1.46259964e-08   2.19099956e-08\n",
      "   6.01135162e-06   1.81953175e-10   1.14451628e-04   4.53740881e-07]\n",
      "false unknown images: 174 /home/abc/pzw/data/test/LINE_CHART_COLUMN_CHART/59a3ec22077a8b0fad047357_4_0.png [  5.28657473e-09   9.99975801e-01   1.03334830e-09   9.08465392e-09\n",
      "   2.29913121e-06   1.37892614e-11   2.19369904e-05   1.14772245e-08]\n",
      "false unknown images: 175 /home/abc/pzw/data/test/LINE_CHART_COLUMN_CHART/59a3ec25077a8b0fad047398_4_0.png [  7.32749697e-07   9.99892592e-01   3.69431348e-07   1.19208084e-06\n",
      "   6.42280793e-05   1.41829964e-10   3.48026733e-05   6.13305610e-06]\n"
     ]
    },
    {
     "name": "stderr",
     "output_type": "stream",
     "text": [
      "183it [00:05, 32.03it/s]"
     ]
    },
    {
     "name": "stdout",
     "output_type": "stream",
     "text": [
      "false unknown images: 176 /home/abc/pzw/data/test/LINE_CHART_COLUMN_CHART/59a3ec28077a8b0fad0473d2_5_0.png [  4.88954902e-06   9.93416905e-01   1.32861402e-07   1.40990124e-07\n",
      "   4.31110064e-04   2.69701883e-09   6.14665262e-03   2.39922855e-07]\n",
      "false unknown images: 177 /home/abc/pzw/data/test/LINE_CHART_COLUMN_CHART/59a3ec32077a8b0fad047455_6_0.png [  3.83729275e-06   9.97959018e-01   2.93549647e-07   7.15254487e-07\n",
      "   9.10371891e-05   8.53439319e-10   1.94206741e-03   3.13912551e-06]\n",
      "false unknown images: 178 /home/abc/pzw/data/test/LINE_CHART_COLUMN_CHART/59a3ec39077a8b0fad0474c2_4_0.png [  6.09517020e-11   9.99999523e-01   2.80240009e-09   7.35511740e-09\n",
      "   3.05544461e-07   3.70544741e-12   1.50229170e-07   4.91204677e-09]\n",
      "false unknown images: 179 /home/abc/pzw/data/test/LINE_CHART_COLUMN_CHART/59a3ec58077a8b0fad047672_9_0.png [  5.85507198e-09   9.99999881e-01   1.60455968e-10   2.65655817e-08\n",
      "   6.41723545e-08   1.96337998e-11   4.09044105e-08   7.52972884e-09]\n",
      "false unknown images: 180 /home/abc/pzw/data/test/LINE_CHART_COLUMN_CHART/59a3ec5e077a8b0fad0476ff_7_0.png [  2.99805019e-04   9.85753417e-01   1.48590290e-04   2.10600998e-03\n",
      "   1.02779353e-02   7.64624133e-07   1.06962165e-03   3.43889958e-04]\n",
      "false unknown images: 181 /home/abc/pzw/data/test/LINE_CHART_COLUMN_CHART/59a3ec62077a8b0fad047712_9_0.png [  4.60472393e-06   9.87509727e-01   4.47648091e-07   2.72381271e-06\n",
      "   1.47091015e-03   1.41252998e-09   1.09706661e-02   4.09114800e-05]\n",
      "false unknown images: 182 /home/abc/pzw/data/test/LINE_CHART_COLUMN_CHART/59a3ec65077a8b0fad04775f_8_1.png [  8.91707689e-02   9.00254071e-01   2.45006395e-05   8.00045673e-03\n",
      "   1.29096082e-03   1.16880919e-07   1.22030778e-03   3.88167500e-05]\n"
     ]
    },
    {
     "name": "stderr",
     "output_type": "stream",
     "text": [
      "191it [00:05, 32.18it/s]"
     ]
    },
    {
     "name": "stdout",
     "output_type": "stream",
     "text": [
      "false unknown images: 183 /home/abc/pzw/data/test/LINE_CHART_COLUMN_CHART/59a3ec79077a8b0fad04786a_6_0.png [  3.28747253e-03   1.60386100e-01   5.83125337e-04   1.82711472e-06\n",
      "   3.33676130e-01   3.05697569e-07   5.01526952e-01   5.38167311e-04]\n",
      "false unknown images: 184 /home/abc/pzw/data/test/LINE_CHART_COLUMN_CHART/59a3ec79077a8b0fad047895_6_0.png [  1.81514270e-09   9.99439538e-01   7.33268593e-08   2.55088878e-07\n",
      "   1.33025140e-04   3.55805302e-10   4.26716899e-04   3.38392283e-07]\n",
      "false unknown images: 185 /home/abc/pzw/data/test/LINE_CHART_COLUMN_CHART/59a3ec79077a8b0fad04789a_4_0.png [  2.52746974e-14   9.99998808e-01   3.74250214e-11   1.47242232e-10\n",
      "   1.63850213e-08   2.66074857e-12   1.15180501e-06   5.32841415e-09]\n",
      "false unknown images: 186 /home/abc/pzw/data/test/LINE_CHART_COLUMN_CHART/59a3ec7c077a8b0fad0478f1_4_0.png [  3.85017629e-05   9.99489784e-01   6.33296531e-06   1.14759932e-04\n",
      "   3.38838610e-04   2.69575517e-09   9.93854610e-06   1.82994506e-06]\n",
      "false unknown images: 187 /home/abc/pzw/data/test/LINE_CHART_COLUMN_CHART/59a3ec7c077a8b0fad04790d_5_0.png [  1.98787325e-06   9.99852538e-01   2.12072337e-07   2.53753342e-06\n",
      "   1.33221198e-04   7.01959657e-10   6.00246221e-06   3.44406521e-06]\n",
      "false unknown images: 188 /home/abc/pzw/data/test/LINE_CHART_COLUMN_CHART/59a3ec83077a8b0fad0479dd_6_0.png [  8.86901733e-11   9.99748409e-01   4.28330022e-05   1.20181172e-08\n",
      "   5.04267916e-07   1.57540581e-09   1.94085733e-04   1.40441925e-05]\n",
      "false unknown images: 189 /home/abc/pzw/data/test/LINE_CHART_COLUMN_CHART/59a3ec8d077a8b0fad047a61_4_0.png [  1.35540730e-14   9.99997616e-01   2.47855320e-10   9.97815386e-10\n",
      "   2.99936147e-08   6.46599365e-13   2.40342843e-06   9.03355080e-09]\n",
      "false unknown images: 190 /home/abc/pzw/data/test/LINE_CHART_COLUMN_CHART/59a3ec8d077a8b0fad047a70_4_0.png [  2.32971828e-08   9.97105658e-01   2.59513371e-07   3.88674266e-07\n",
      "   4.99234338e-05   1.28196898e-10   2.84154341e-03   2.24366067e-06]\n"
     ]
    },
    {
     "name": "stderr",
     "output_type": "stream",
     "text": [
      "\r",
      "195it [00:06, 32.17it/s]"
     ]
    },
    {
     "name": "stdout",
     "output_type": "stream",
     "text": [
      "false unknown images: 191 /home/abc/pzw/data/test/LINE_CHART_COLUMN_CHART/59a3ec9b077a8b0fad047b2f_5_0.png [  3.87590550e-11   9.99997020e-01   1.33090117e-09   7.94434385e-09\n",
      "   3.44797598e-07   4.62397048e-13   2.62036019e-06   1.01950208e-08]\n",
      "false unknown images: 192 /home/abc/pzw/data/test/LINE_CHART_COLUMN_CHART/59a3eca4077a8b0fad047bd1_4_0.png [  4.70504802e-10   9.99954104e-01   1.85499993e-09   5.35227827e-08\n",
      "   8.62331547e-07   2.74588047e-10   4.50502303e-05   1.42392613e-08]\n",
      "false unknown images: 193 /home/abc/pzw/data/test/LINE_CHART_COLUMN_CHART/59a77477077a8b0b5649a44f_5_0.png [  2.32679241e-07   9.99695301e-01   1.01545389e-07   5.00833295e-08\n",
      "   2.76790579e-05   2.62792649e-10   2.76134990e-04   5.19357570e-07]\n",
      "false unknown images: 194 /home/abc/pzw/data/test/LINE_CHART_COLUMN_CHART/59a7747e077a8b0b5649a4cb_4_0.png [  4.16808263e-07   9.99152541e-01   1.47969559e-09   4.39243353e-09\n",
      "   1.92443122e-06   2.26404201e-10   8.45009403e-04   1.36868664e-07]\n",
      "false unknown images: 195 /home/abc/pzw/data/test/LINE_CHART_COLUMN_CHART/59aec8e1077a8b4a414fba99_111_0.png [  3.29431325e-01   4.37764465e-05   6.15021520e-07   1.08686827e-05\n",
      "   9.27855508e-05   3.68108908e-06   6.68610811e-01   1.80610141e-03]\n",
      "false unknown images: 196 /home/abc/pzw/data/test/LINE_CHART_COLUMN_CHART/59bfb1948b2a1135d8ee4841_31_0.png [  7.40369988e-10   9.93025780e-01   6.83833798e-03   4.00191630e-06\n",
      "   1.31109511e-04   1.09867649e-07   2.53331763e-07   3.54158288e-07]\n",
      "false unknown images: 197 /home/abc/pzw/data/test/LINE_CHART_COLUMN_CHART/59bfc9d18b2a1135d8ee80e2_46_0.png [  7.97978509e-03   8.27586177e-07   1.93810388e-06   2.28230221e-07\n",
      "   9.92014110e-01   8.06569602e-08   7.77583921e-07   2.28388399e-06]\n"
     ]
    },
    {
     "name": "stderr",
     "output_type": "stream",
     "text": [
      "203it [00:06, 32.27it/s]"
     ]
    },
    {
     "name": "stdout",
     "output_type": "stream",
     "text": [
      "false unknown images: 198 /home/abc/pzw/data/test/LINE_CHART_COLUMN_CHART/59c0994d8b2a1135d8f06e67_7_0.png [  7.50942752e-10   3.24948388e-07   5.04359889e-07   6.34012634e-11\n",
      "   9.99989986e-01   1.59268279e-10   8.99057522e-06   2.14864215e-07]\n",
      "false unknown images: 199 /home/abc/pzw/data/test/LINE_CHART_COLUMN_CHART/59c1f87a8b2a1135d8f39fd8_5_0.png [  1.50772906e-03   9.97045338e-01   2.79687970e-06   1.43879629e-03\n",
      "   3.01510249e-06   3.88546795e-08   4.48865080e-07   1.80702079e-06]\n",
      "false unknown images: 200 /home/abc/pzw/data/test/LINE_CHART_COLUMN_CHART/59c212ed8b2a1135d8f3dc8f_1_0.png [  1.32765228e-04   9.99635100e-01   7.60836144e-07   2.29559038e-04\n",
      "   8.25083930e-07   2.42027607e-08   1.43086311e-07   7.62730053e-07]\n",
      "false unknown images: 201 /home/abc/pzw/data/test/LINE_CHART_COLUMN_CHART/59c214b98b2a1135d8f3dd5d_1_0.png [  1.07547967e-04   9.99660254e-01   8.78036246e-07   2.28187710e-04\n",
      "   2.34648633e-06   1.80510273e-08   1.73195943e-07   6.31744058e-07]\n",
      "false unknown images: 202 /home/abc/pzw/data/test/LINE_CHART_COLUMN_CHART/59c263dc077a8b7665b8efd7_579_0.png [  1.62989272e-05   3.32398558e-05   2.69784497e-08   1.42120697e-07\n",
      "   9.99949455e-01   1.72483663e-08   8.12761130e-08   6.99155748e-07]\n",
      "false unknown images: 203 /home/abc/pzw/data/test/LINE_CHART_COLUMN_CHART/59c31c318b2a1135d8f6284e_3_0.png [  1.27880643e-13   9.99998331e-01   1.19657048e-10   1.51161910e-08\n",
      "   1.39612860e-06   1.32581587e-12   2.28131341e-07   4.96761077e-09]\n",
      "false unknown images: 204 /home/abc/pzw/data/test/LINE_CHART_COLUMN_CHART/59c3266c8b2a1135d8f63f4f_10_1.png [  6.02653290e-13   9.99978781e-01   5.86541871e-10   2.15832472e-08\n",
      "   1.96925484e-05   1.13889301e-10   1.52553730e-06   1.35247040e-08]\n",
      "false unknown images: 205 /home/abc/pzw/data/test/LINE_CHART_COLUMN_CHART/59c437fa8b2a1135d8f87d5d_42_1.png [  4.53442262e-08   9.99420643e-01   4.77550202e-07   9.21462913e-07\n",
      "   5.77117899e-04   1.73086567e-09   7.40584312e-07   5.19868202e-08]\n"
     ]
    },
    {
     "name": "stderr",
     "output_type": "stream",
     "text": [
      "211it [00:06, 32.19it/s]"
     ]
    },
    {
     "name": "stdout",
     "output_type": "stream",
     "text": [
      "false unknown images: 206 /home/abc/pzw/data/test/LINE_CHART_COLUMN_CHART/59c4c3c88b2a1135d8f99698_31_0.png [  4.04739082e-01   8.45116004e-02   8.71411248e-06   1.16273943e-04\n",
      "   5.10582149e-01   4.97252643e-07   1.00517082e-06   4.06651670e-05]\n",
      "false unknown images: 207 /home/abc/pzw/data/test/LINE_CHART_COLUMN_CHART/59c521ed8b2a1135d8fa45c4_3_0.png [  4.02150244e-01   4.80954051e-02   2.43078126e-03   4.26686630e-02\n",
      "   1.93925609e-03   2.23453448e-04   1.44183487e-01   3.58308703e-01]\n",
      "false unknown images: 208 /home/abc/pzw/data/test/LINE_CHART_COLUMN_CHART/59c541fa8b2a1135d8fa8060_1_0.png [  1.12624094e-01   8.10118198e-01   4.44761536e-05   7.06990585e-02\n",
      "   5.14834130e-04   3.94046447e-06   5.62675949e-03   3.68669775e-04]\n",
      "false unknown images: 209 /home/abc/pzw/data/test/LINE_CHART_COLUMN_CHART/59c554b38b2a1135d8faa2a8_4_0.png [  4.23521912e-11   9.99955416e-01   6.32299759e-08   1.05999405e-07\n",
      "   3.80475940e-05   1.34678640e-11   6.37769699e-06   5.77320636e-09]\n",
      "false unknown images: 210 /home/abc/pzw/data/test/LINE_CHART_COLUMN_CHART/59c697258b2a1135d8fd196c_5_0.png [  5.18426787e-05   9.29217458e-01   2.04819860e-03   1.41497925e-02\n",
      "   5.36566712e-02   2.08172114e-05   6.87710999e-04   1.67589475e-04]\n",
      "false unknown images: 211 /home/abc/pzw/data/test/LINE_CHART_COLUMN_CHART/59c6992e8b2a1135d8fd1de6_5_0.png [  1.51252592e-04   9.92530286e-01   1.88033155e-05   7.19203195e-03\n",
      "   2.96488470e-05   5.25431801e-07   4.11585170e-05   3.62917599e-05]\n"
     ]
    },
    {
     "name": "stderr",
     "output_type": "stream",
     "text": [
      "\r",
      "215it [00:06, 32.20it/s]"
     ]
    },
    {
     "name": "stdout",
     "output_type": "stream",
     "text": [
      "false unknown images: 212 /home/abc/pzw/data/test/LINE_CHART_COLUMN_CHART/59c8696e8b2a1122a57a38f9_1_1.png [  1.50015381e-07   9.99645591e-01   7.81881738e-07   3.14530304e-08\n",
      "   3.53236886e-04   1.17039471e-08   1.56342367e-07   8.01912350e-08]\n",
      "false unknown images: 213 /home/abc/pzw/data/test/LINE_CHART_COLUMN_CHART/59c969bd8b2a1133971b1a34_58_0.png [  1.20659679e-05   9.99419689e-01   2.17996831e-06   5.49963734e-04\n",
      "   9.21640913e-06   1.14489360e-07   3.72392924e-06   3.11808344e-06]\n",
      "false unknown images: 214 /home/abc/pzw/data/test/LINE_CHART_COLUMN_CHART/59cdcf0e8b2a111f33f84908_83_0.png [  1.67696003e-03   9.95618224e-01   1.22028837e-06   2.07380173e-04\n",
      "   2.02093623e-04   6.92639759e-08   2.18924903e-03   1.04864994e-04]\n",
      "false unknown images: 215 /home/abc/pzw/data/test/LINE_CHART_COLUMN_CHART/59cee0ab8b2a117460dcd50a_8_0.png [  1.24963604e-01   4.51448709e-02   2.69376067e-03   1.43444142e-03\n",
      "   8.24059725e-01   3.90692094e-06   1.06113753e-03   6.38487516e-04]\n",
      "false unknown images: 216 /home/abc/pzw/data/test/LINE_CHART_COLUMN_CHART/59cf0d88077a8b7e8607b3b0_81_0.png [  1.10522069e-05   9.55479264e-01   2.17978686e-05   7.45016541e-06\n",
      "   4.44683097e-02   4.64223993e-09   1.09688126e-05   1.13458361e-06]\n"
     ]
    },
    {
     "name": "stderr",
     "output_type": "stream",
     "text": [
      "223it [00:06, 32.02it/s]"
     ]
    },
    {
     "name": "stdout",
     "output_type": "stream",
     "text": [
      "false unknown images: 217 /home/abc/pzw/data/test/LINE_CHART_COLUMN_CHART/59d2dc048b2a111f33fa8a40_11_0.png [  3.52478783e-05   9.99960780e-01   1.29702267e-08   7.39874565e-07\n",
      "   1.52459938e-06   1.03993612e-10   4.46523899e-07   1.26820544e-06]\n",
      "false unknown images: 218 /home/abc/pzw/data/test/LINE_CHART_COLUMN_CHART/59d3b0c18b2a111f33fae89a_19_0.png [  7.00598424e-09   9.99991894e-01   5.26560706e-09   5.78145091e-07\n",
      "   3.13989261e-07   5.15568865e-10   6.82042128e-06   4.01642041e-07]\n",
      "false unknown images: 219 /home/abc/pzw/data/test/LINE_CHART_COLUMN_CHART/59d3b4e98b2a111f33faeafa_10_0.png [  7.14728230e-05   5.32850208e-05   1.76912129e-01   7.97273742e-07\n",
      "   2.91506603e-06   1.11416884e-05   8.22204888e-01   7.43383775e-04]\n",
      "false unknown images: 220 /home/abc/pzw/data/test/LINE_CHART_COLUMN_CHART/59d468598b2a111f33fb4819_20_0.png [  9.72763821e-03   1.56761743e-02   9.54442978e-01   1.02041253e-04\n",
      "   4.84859338e-04   9.41366889e-03   7.78129371e-03   2.37140572e-03]\n",
      "false unknown images: 221 /home/abc/pzw/data/test/LINE_CHART_COLUMN_CHART/59d69ee48b2a111f33fc5a83_43_0.png [  2.82283686e-03   8.77136469e-01   1.33560070e-06   8.57708255e-06\n",
      "   4.34310932e-05   9.36143110e-08   1.19565845e-01   4.21325880e-04]\n",
      "false unknown images: 223 /home/abc/pzw/data/test/LINE_CHART_COLUMN_CHART/59e6237c077a8b0c50762ca6_146_0.png [  1.21639732e-09   7.70714514e-09   3.96877420e-09   5.53920659e-11\n",
      "   1.00000000e+00   2.38164228e-11   4.47872246e-08   1.71598735e-09]\n"
     ]
    },
    {
     "name": "stderr",
     "output_type": "stream",
     "text": [
      "231it [00:07, 32.12it/s]"
     ]
    },
    {
     "name": "stdout",
     "output_type": "stream",
     "text": [
      "false unknown images: 224 /home/abc/pzw/data/test/LINE_CHART_COLUMN_CHART/59e736598b2a111f33fff23d_82_0.png [  6.68082095e-04   2.50239918e-06   1.03283253e-06   5.81537307e-08\n",
      "   9.98865366e-01   1.32278410e-08   3.05307534e-04   1.57612274e-04]\n",
      "false unknown images: 225 /home/abc/pzw/data/test/LINE_CHART_COLUMN_CHART/59ef3686077a8b4a9c901155_3_0.png [  3.55769331e-10   9.99883771e-01   6.87109203e-10   2.96892777e-09\n",
      "   2.57241851e-07   6.27842873e-12   1.15819959e-04   8.80548541e-08]\n",
      "false unknown images: 226 /home/abc/pzw/data/test/LINE_CHART_COLUMN_CHART/59f01e0e8b2a111f3301933a_27_0.png [  9.21684667e-04   1.12366781e-03   2.66792154e-06   1.39394487e-07\n",
      "   9.97917950e-01   1.08541644e-06   8.89570458e-07   3.19016654e-05]\n",
      "false unknown images: 227 /home/abc/pzw/data/test/LINE_CHART_COLUMN_CHART/59f0435c077a8b4a9c901b8f_4_0.png [  6.64396405e-09   9.99998450e-01   5.69290504e-10   3.47094478e-08\n",
      "   1.22222525e-06   1.05046900e-11   3.11645294e-07   6.86942059e-09]\n",
      "false unknown images: 228 /home/abc/pzw/data/test/LINE_CHART_COLUMN_CHART/59f084fe077a8b4a9c901d54_4_0.png [  2.72520744e-08   9.99994636e-01   1.53608418e-10   1.37936986e-08\n",
      "   5.58140520e-08   2.32541547e-12   5.27415295e-06   1.68912386e-08]\n",
      "false unknown images: 229 /home/abc/pzw/data/test/LINE_CHART_COLUMN_CHART/59f175a1077a8b4a9c903028_4_0.png [  1.03174088e-12   9.99999762e-01   3.55618068e-09   2.14451146e-09\n",
      "   1.45691871e-07   4.62407326e-12   1.16554382e-07   1.29238122e-08]\n",
      "false unknown images: 230 /home/abc/pzw/data/test/LINE_CHART_COLUMN_CHART/59f184e5077a8b4a9c9030ee_3_0.png [  2.11094697e-10   9.99989510e-01   1.82426541e-09   2.36693491e-08\n",
      "   6.34371645e-07   5.35318187e-12   9.81159974e-06   9.14915343e-09]\n"
     ]
    },
    {
     "name": "stderr",
     "output_type": "stream",
     "text": [
      "\r",
      "235it [00:07, 32.12it/s]"
     ]
    },
    {
     "name": "stdout",
     "output_type": "stream",
     "text": [
      "false unknown images: 231 /home/abc/pzw/data/test/LINE_CHART_COLUMN_CHART/59f184e9077a8b4a9c903128_3_0.png [  2.38809039e-15   9.99999166e-01   2.36290931e-10   3.40092354e-09\n",
      "   5.75056163e-07   1.65272813e-11   1.98655997e-07   1.08126281e-08]\n",
      "false unknown images: 232 /home/abc/pzw/data/test/LINE_CHART_COLUMN_CHART/59f184f6077a8b4a9c9031a7_5_1.png [  8.70431541e-04   9.14726973e-01   1.39252379e-05   4.35171602e-03\n",
      "   6.41996303e-05   8.62368879e-08   7.97428936e-02   2.29805126e-04]\n",
      "false unknown images: 233 /home/abc/pzw/data/test/LINE_CHART_COLUMN_CHART/59f18517077a8b4a9c90333d_4_0.png [  1.24540441e-06   9.99908447e-01   8.49374904e-10   1.66188308e-08\n",
      "   1.91066007e-07   1.01010887e-10   8.99543811e-05   1.80004506e-07]\n",
      "false unknown images: 234 /home/abc/pzw/data/test/LINE_CHART_COLUMN_CHART/59f18517077a8b4a9c903345_3_0.png [  6.36638688e-15   9.99999881e-01   7.50471560e-11   2.34079173e-10\n",
      "   6.53452474e-08   4.75666327e-13   8.65607497e-09   2.09657972e-10]\n",
      "false unknown images: 235 /home/abc/pzw/data/test/LINE_CHART_COLUMN_CHART/59f193c9077a8b4a9c903393_4_0.png [  3.76566467e-09   9.99991655e-01   2.78430057e-09   2.68942504e-08\n",
      "   3.60468739e-08   1.41212276e-11   8.16375177e-06   8.63248033e-08]\n",
      "false unknown images: 236 /home/abc/pzw/data/test/LINE_CHART_COLUMN_CHART/59f2a405077a8b4a9c903700_3_0.png [  7.80359915e-06   9.96225715e-01   3.95686357e-06   3.36201106e-06\n",
      "   3.75207793e-03   1.14757981e-09   6.20683932e-06   7.65791640e-07]\n",
      "false unknown images: 237 /home/abc/pzw/data/test/LINE_CHART_COLUMN_CHART/59f2a409077a8b4a9c903724_3_0.png [  4.30325073e-08   9.99955535e-01   2.53496211e-08   6.77978074e-09\n",
      "   2.82521887e-06   3.00255182e-10   4.16515177e-05   4.06335552e-08]\n"
     ]
    },
    {
     "name": "stderr",
     "output_type": "stream",
     "text": [
      "243it [00:07, 32.21it/s]"
     ]
    },
    {
     "name": "stdout",
     "output_type": "stream",
     "text": [
      "false unknown images: 238 /home/abc/pzw/data/test/LINE_CHART_COLUMN_CHART/59f2b270077a8b4a9c903776_3_0.png [  3.29785895e-12   9.99998450e-01   9.15931844e-11   2.74427980e-10\n",
      "   1.26936038e-06   4.90766770e-13   2.37152818e-07   1.18006254e-08]\n",
      "false unknown images: 239 /home/abc/pzw/data/test/LINE_CHART_COLUMN_CHART/59f2b27d077a8b4a9c903823_4_0.png [  1.97173376e-05   9.99647975e-01   6.56305644e-07   1.04480969e-05\n",
      "   2.95184524e-04   7.80962583e-09   2.45222964e-05   1.54962174e-06]\n",
      "false unknown images: 240 /home/abc/pzw/data/test/LINE_CHART_COLUMN_CHART/59f2b284077a8b4a9c90387f_3_0.png [  1.69073464e-04   9.99180734e-01   8.91339005e-06   3.11725191e-04\n",
      "   2.98360566e-04   1.39336834e-07   2.50154899e-05   6.06516733e-06]\n",
      "false unknown images: 241 /home/abc/pzw/data/test/LINE_CHART_COLUMN_CHART/59f2b284077a8b4a9c90389f_3_0.png [  2.75098901e-05   9.53939378e-01   6.32472656e-05   1.65038407e-04\n",
      "   4.55674008e-02   3.83402238e-07   1.91543804e-04   4.55774098e-05]\n",
      "false unknown images: 242 /home/abc/pzw/data/test/LINE_CHART_COLUMN_CHART/59f62f088b2a111f3302dc45_28_0.png [  6.66242672e-10   1.32541220e-06   5.85399675e-08   2.03178399e-08\n",
      "   9.99996901e-01   2.94553848e-09   1.28727777e-06   3.45275311e-07]\n",
      "false unknown images: 243 /home/abc/pzw/data/test/LINE_CHART_COLUMN_CHART/59f86a6d8b2a111f3303566a_288_1.png [  2.19511236e-07   1.67392922e-04   6.83665576e-07   3.30007777e-09\n",
      "   9.99830246e-01   5.80559489e-10   1.40435418e-06   1.23654367e-08]\n",
      "false unknown images: 244 /home/abc/pzw/data/test/LINE_CHART_COLUMN_CHART/59f8bbfb8b2a111f33036586_3_0.png [  1.29084778e-03   9.98447001e-01   3.74718667e-07   1.38025541e-06\n",
      "   1.64857656e-08   7.64692132e-09   2.56393396e-04   3.95524648e-06]\n",
      "false unknown images: 245 /home/abc/pzw/data/test/LINE_CHART_COLUMN_CHART/59f92dc7077a8b4a9c90582a_54_0.png [  1.91012799e-16   9.99999762e-01   5.20059773e-10   2.61111716e-10\n",
      "   1.73102404e-08   7.62578314e-13   2.59929493e-07   3.84667409e-09]\n"
     ]
    },
    {
     "name": "stderr",
     "output_type": "stream",
     "text": [
      "255it [00:07, 32.36it/s]"
     ]
    },
    {
     "name": "stdout",
     "output_type": "stream",
     "text": [
      "false unknown images: 247 /home/abc/pzw/data/test/LINE_CHART_COLUMN_CHART/59fef0778b2a111f3304e83b_7_0.png [  1.00140404e-07   9.99120176e-01   6.06900023e-04   1.13809642e-06\n",
      "   2.71611003e-04   2.89142417e-08   8.72572148e-09   3.18926419e-09]\n",
      "false unknown images: 248 /home/abc/pzw/data/test/LINE_CHART_COLUMN_CHART/59fef66b8b2a111f3304e9bd_4_1.png [  2.10578274e-03   9.97891128e-01   7.37299359e-08   9.25690635e-09\n",
      "   2.07306343e-07   3.80059983e-09   2.70921123e-06   5.16097831e-09]\n",
      "false unknown images: 249 /home/abc/pzw/data/test/LINE_CHART_COLUMN_CHART/5a01a538e5465bb569106b6c_38_0.png [  8.06014043e-07   9.99984264e-01   4.13202894e-09   1.46331178e-08\n",
      "   1.26267537e-06   6.45207915e-11   1.35603404e-05   1.34424610e-07]\n",
      "false unknown images: 250 /home/abc/pzw/data/test/LINE_CHART_COLUMN_CHART/5a01a538e5465bb569106b6c_39_0.png [  4.18162438e-09   9.99986887e-01   4.13596463e-10   2.47564913e-10\n",
      "   4.29776492e-07   1.03597356e-11   1.27095254e-05   1.60750560e-08]\n",
      "false unknown images: 251 /home/abc/pzw/data/test/LINE_CHART_COLUMN_CHART/5a032eaa8b2a111f33068269_21_0.png [  2.02410240e-02   9.59674597e-01   6.41708129e-06   1.61612661e-06\n",
      "   8.35927017e-03   2.43393458e-07   1.16672311e-02   4.95551431e-05]\n",
      "false unknown images: 252 /home/abc/pzw/data/test/LINE_CHART_COLUMN_CHART/5a04f02c8b2a111f3307da83_26_0.png [  8.21834183e-05   6.41856517e-04   4.64576124e-06   7.83654195e-06\n",
      "   9.99233603e-01   1.12520262e-07   1.85870408e-06   2.79468095e-05]\n",
      "false unknown images: 253 /home/abc/pzw/data/test/LINE_CHART_COLUMN_CHART/5a052f12e5465bb5692d1fa5_9_0.png [  6.01156902e-11   9.99999762e-01   9.17087184e-10   2.75525158e-09\n",
      "   8.72355201e-08   3.46716384e-12   1.03515355e-07   4.48861392e-09]\n",
      "false unknown images: 254 /home/abc/pzw/data/test/LINE_CHART_COLUMN_CHART/5a0560b5e5465bb5692ef39a_6_0.png [  7.41688666e-13   9.99989510e-01   8.65503946e-10   3.24648504e-08\n",
      "   3.59793830e-06   4.59319908e-12   6.86039357e-06   4.93948988e-08]\n"
     ]
    },
    {
     "name": "stderr",
     "output_type": "stream",
     "text": [
      "263it [00:08, 32.45it/s]"
     ]
    },
    {
     "name": "stdout",
     "output_type": "stream",
     "text": [
      "false unknown images: 255 /home/abc/pzw/data/test/LINE_CHART_COLUMN_CHART/5a057565e5465bb5692fc258_8_0.png [  3.31694672e-09   9.99981165e-01   6.38087139e-10   5.12456699e-09\n",
      "   6.52860399e-06   2.55156356e-12   1.22825049e-05   8.12209944e-09]\n",
      "false unknown images: 256 /home/abc/pzw/data/test/LINE_CHART_COLUMN_CHART/5a05758ee5465bb5692fc396_8_0.png [  4.61536445e-08   9.97103989e-01   1.03516729e-09   1.70330168e-08\n",
      "   4.98349607e-07   4.84606938e-11   2.89536314e-03   1.51293463e-07]\n",
      "false unknown images: 257 /home/abc/pzw/data/test/LINE_CHART_COLUMN_CHART/5a057d05e5465bb5692ff92f_64_0.png [  2.27515543e-13   9.99999166e-01   5.60080149e-10   1.52507140e-09\n",
      "   8.15015596e-07   1.38887719e-12   5.26538670e-08   7.69955266e-10]\n",
      "false unknown images: 258 /home/abc/pzw/data/test/LINE_CHART_COLUMN_CHART/5a0583a08b2a111f330845e1_30_0.png [  3.25193517e-02   9.64757860e-01   2.81288994e-05   5.77182946e-05\n",
      "   7.64942321e-04   2.70103465e-06   1.25415460e-03   6.15206314e-04]\n",
      "false unknown images: 259 /home/abc/pzw/data/test/LINE_CHART_COLUMN_CHART/5a0587e7e5465bb569304b15_89_0.png [  1.61340995e-06   9.98756647e-01   1.59461759e-08   8.69856152e-08\n",
      "   8.42445297e-05   9.02221076e-11   1.15700939e-03   3.66527104e-07]\n",
      "false unknown images: 260 /home/abc/pzw/data/test/LINE_CHART_COLUMN_CHART/5a058d11e5465bb569307bd3_8_0.png [  6.08449773e-06   9.33637440e-01   4.54905177e-07   1.25998486e-05\n",
      "   3.21244523e-02   2.91435698e-09   3.42162997e-02   2.64894470e-06]\n",
      "false unknown images: 261 /home/abc/pzw/data/test/LINE_CHART_COLUMN_CHART/5a05baace5465bb569320e45_9_0.png [  5.62752012e-10   9.99986172e-01   4.18040891e-09   2.61595456e-08\n",
      "   1.07851001e-05   2.91789054e-12   3.00441729e-06   3.10572168e-09]\n",
      "false unknown images: 262 /home/abc/pzw/data/test/LINE_CHART_COLUMN_CHART/5a05bbffe5465bb569321833_9_0.png [  1.03620175e-06   9.99878407e-01   1.06093992e-07   8.91123477e-07\n",
      "   6.90049201e-05   4.62559907e-10   5.03096999e-05   2.84641487e-07]\n"
     ]
    },
    {
     "name": "stderr",
     "output_type": "stream",
     "text": [
      "\r",
      "267it [00:08, 32.48it/s]"
     ]
    },
    {
     "name": "stdout",
     "output_type": "stream",
     "text": [
      "false unknown images: 263 /home/abc/pzw/data/test/LINE_CHART_COLUMN_CHART/5a05c2bfe5465bb569325651_10_0.png [  1.65548008e-05   7.81279147e-01   5.18126080e-06   2.15858176e-06\n",
      "   2.06646547e-01   9.03334019e-10   1.20350523e-02   1.53319197e-05]\n",
      "false unknown images: 264 /home/abc/pzw/data/test/LINE_CHART_COLUMN_CHART/5a061188e5465bb569356ee1_3_0.png [  4.58241153e-11   9.99968410e-01   2.79765078e-09   3.87040728e-08\n",
      "   1.47379460e-05   6.04761467e-12   1.66340942e-05   2.44648305e-07]\n",
      "false unknown images: 265 /home/abc/pzw/data/test/LINE_CHART_COLUMN_CHART/5a061e5ce5465bb56935d523_3_0.png [  2.50321777e-11   9.99997258e-01   3.12285003e-10   1.17693002e-08\n",
      "   1.52899850e-06   1.88034023e-13   1.22182075e-06   3.43625253e-08]\n",
      "false unknown images: 266 /home/abc/pzw/data/test/LINE_CHART_COLUMN_CHART/5a061fabe5465bb56935df2d_3_0.png [  1.67347912e-06   9.99959946e-01   5.72052308e-08   3.66136703e-07\n",
      "   1.83516640e-05   1.76374040e-10   1.94039530e-05   1.21851059e-07]\n",
      "false unknown images: 267 /home/abc/pzw/data/test/LINE_CHART_COLUMN_CHART/5a061fbbe5465bb56935e023_5_0.png [  7.61473906e-09   9.99996185e-01   9.74612657e-09   6.26304120e-10\n",
      "   1.55100872e-06   7.17950959e-12   2.30406408e-06   8.85871199e-09]\n",
      "false unknown images: 268 /home/abc/pzw/data/test/LINE_CHART_COLUMN_CHART/5a06207ee5465bb56935e974_3_0.png [  2.10560649e-12   9.99999762e-01   1.16571108e-08   1.07276099e-08\n",
      "   9.01718664e-08   3.72872566e-11   8.44735482e-08   6.11841511e-09]\n",
      "false unknown images: 269 /home/abc/pzw/data/test/LINE_CHART_COLUMN_CHART/5a0625cae5465bb569361ed8_3_0.png [  1.35330969e-09   9.99991298e-01   1.37609621e-08   3.82563513e-07\n",
      "   3.63007007e-06   1.05583944e-10   4.71114618e-06   5.29860138e-08]\n"
     ]
    },
    {
     "name": "stderr",
     "output_type": "stream",
     "text": [
      "275it [00:08, 32.51it/s]"
     ]
    },
    {
     "name": "stdout",
     "output_type": "stream",
     "text": [
      "false unknown images: 270 /home/abc/pzw/data/test/LINE_CHART_COLUMN_CHART/5a06a0338b2a111f33094733_41_0.png [  1.42112424e-06   9.99998450e-01   1.93691418e-09   7.40855555e-09\n",
      "   5.89755658e-08   9.40395938e-12   7.12893522e-10   1.11373888e-09]\n",
      "false unknown images: 271 /home/abc/pzw/data/test/LINE_CHART_COLUMN_CHART/5a07d2b48b2a111f330a8f94_25_0.png [  4.21498466e-04   9.97997582e-01   8.03581599e-07   6.05133391e-06\n",
      "   2.80497056e-06   2.40259777e-08   7.28370447e-04   8.42744543e-04]\n",
      "false unknown images: 274 /home/abc/pzw/data/test/LINE_CHART_COLUMN_CHART/5a09ae198b2a111f330c55c7_123_4.png [  1.24174636e-03   9.18154637e-06   2.14351212e-06   1.12191898e-07\n",
      "   9.98742402e-01   2.99657216e-07   3.87093723e-06   2.28769082e-07]\n",
      "false unknown images: 275 /home/abc/pzw/data/test/LINE_CHART_COLUMN_CHART/5a09ae9b8b2a111f330c5625_135_3.png [  7.03078113e-05   3.06607689e-07   3.07521532e-06   1.17907071e-07\n",
      "   9.99923825e-01   2.48804554e-07   1.65593030e-06   4.74088239e-07]\n",
      "false unknown images: 276 /home/abc/pzw/data/test/LINE_CHART_COLUMN_CHART/5a0a0c74e5465bb56941a5fb_6_0.png [  1.98328873e-08   9.91793573e-01   1.44885416e-05   3.00539745e-04\n",
      "   7.88663141e-03   1.08127196e-07   3.53291171e-06   1.10628730e-06]\n"
     ]
    },
    {
     "name": "stderr",
     "output_type": "stream",
     "text": [
      "283it [00:08, 32.58it/s]"
     ]
    },
    {
     "name": "stdout",
     "output_type": "stream",
     "text": [
      "false unknown images: 277 /home/abc/pzw/data/test/LINE_CHART_COLUMN_CHART/5a0a0d2fe5465bb56941abe7_8_0.png [  4.31067848e-09   9.99983072e-01   1.06013295e-10   3.04603720e-09\n",
      "   4.14569342e-07   1.36575294e-13   1.65095953e-05   7.72473374e-09]\n",
      "false unknown images: 278 /home/abc/pzw/data/test/LINE_CHART_COLUMN_CHART/5a0a1524e5465bb56941e65b_8_0.png [  1.75781967e-08   9.99966502e-01   2.40155829e-09   6.23875493e-08\n",
      "   2.32778330e-05   1.38586420e-10   1.00894631e-05   4.71662993e-08]\n",
      "false unknown images: 279 /home/abc/pzw/data/test/LINE_CHART_COLUMN_CHART/5a0a7d428b2a111f330d200d_13_1.png [  1.92822063e-06   7.72637129e-02   1.24072913e-05   1.05367576e-06\n",
      "   9.22582865e-01   1.93989411e-08   1.35663009e-04   2.35468679e-06]\n",
      "false unknown images: 280 /home/abc/pzw/data/test/LINE_CHART_COLUMN_CHART/5a0a8151e5465bb56944c5ec_9_0.png [  5.29091949e-06   9.99786913e-01   9.83739369e-07   2.19976255e-06\n",
      "   2.03992662e-04   4.48130977e-10   5.11471569e-07   7.71806867e-08]\n",
      "false unknown images: 281 /home/abc/pzw/data/test/LINE_CHART_COLUMN_CHART/5a0acd948b2a111f330da4af_43_0.png [  3.03302568e-06   9.99980807e-01   9.05298094e-08   7.14401097e-07\n",
      "   1.22663932e-05   8.61293398e-11   2.98744112e-06   1.32617529e-07]\n",
      "false unknown images: 282 /home/abc/pzw/data/test/LINE_CHART_COLUMN_CHART/5a0b14fc8b2a111f330e29b6_3_0.png [  4.72415849e-08   9.99999166e-01   2.46415901e-08   5.32005160e-08\n",
      "   1.65097571e-08   1.54031302e-10   6.03242484e-07   7.97847122e-08]\n",
      "false unknown images: 283 /home/abc/pzw/data/test/LINE_CHART_COLUMN_CHART/5a0b17e48b2a111f330e2f32_3_0.png [  1.27426663e-03   9.98633683e-01   7.47426384e-07   7.55378687e-06\n",
      "   3.31640933e-07   6.47707177e-09   7.81720155e-05   5.22758728e-06]\n",
      "false unknown images: 284 /home/abc/pzw/data/test/LINE_CHART_COLUMN_CHART/5a0b273c8b2a111f330e4c83_3_0.png [  1.30738551e-03   9.98616457e-01   2.81543339e-06   9.43404302e-06\n",
      "   2.62987072e-07   1.91654870e-08   6.11073337e-05   2.53213511e-06]\n"
     ]
    },
    {
     "name": "stderr",
     "output_type": "stream",
     "text": [
      "291it [00:08, 32.64it/s]"
     ]
    },
    {
     "name": "stdout",
     "output_type": "stream",
     "text": [
      "false unknown images: 285 /home/abc/pzw/data/test/LINE_CHART_COLUMN_CHART/5a0b28be8b2a111f330e4fcd_9_0.png [  1.16457695e-05   9.99983311e-01   1.95777456e-08   1.65286531e-06\n",
      "   2.97731173e-08   1.56885060e-10   2.72261013e-06   5.77298806e-07]\n",
      "false unknown images: 286 /home/abc/pzw/data/test/LINE_CHART_COLUMN_CHART/5a0e1e9c8b2a111f33133c34_102_0.png [  1.53615281e-01   1.38021922e-02   2.75614619e-01   3.53157930e-07\n",
      "   5.56157470e-01   6.57736200e-06   6.74489886e-04   1.29062333e-04]\n",
      "false unknown images: 288 /home/abc/pzw/data/test/LINE_CHART_COLUMN_CHART/5a104a378b2a111f3316bd8d_78_0.png [  3.09941739e-09   9.99979854e-01   4.09259519e-06   2.26354313e-08\n",
      "   1.59319661e-05   3.90786917e-11   2.65456712e-10   9.25362287e-10]\n",
      "false unknown images: 289 /home/abc/pzw/data/test/LINE_CHART_COLUMN_CHART/5a10a6ba8b2a111f33176d16_27_0.png [  7.50221719e-04   9.95713949e-01   6.84349561e-06   4.59495055e-07\n",
      "   3.11221578e-03   1.16091265e-07   4.13049158e-04   3.12361271e-06]\n",
      "false unknown images: 290 /home/abc/pzw/data/test/LINE_CHART_COLUMN_CHART/5a113fb58b2a111f331859e0_7_0.png [  8.80714059e-02   2.10034486e-05   3.09125381e-03   6.41566430e-07\n",
      "   7.51607537e-01   3.23871755e-05   1.52051091e-01   5.12475753e-03]\n",
      "false unknown images: 291 /home/abc/pzw/data/test/LINE_CHART_COLUMN_CHART/5a1192ee8b2a111f3318cb7b_103_0.png [  2.73129400e-16   1.00000000e+00   2.72180376e-08   1.69429892e-08\n",
      "   1.61751867e-09   3.82196670e-11   1.10281576e-10   4.77488500e-11]\n"
     ]
    },
    {
     "name": "stderr",
     "output_type": "stream",
     "text": [
      "299it [00:09, 32.66it/s]"
     ]
    },
    {
     "name": "stdout",
     "output_type": "stream",
     "text": [
      "false unknown images: 292 /home/abc/pzw/data/test/LINE_CHART_COLUMN_CHART/5a11c8eb8b2a111f33191f9c_116_0.png [  1.26201299e-03   9.88092601e-01   9.44285057e-05   2.14903002e-06\n",
      "   1.04923882e-02   2.18960977e-07   4.41832781e-05   1.20388650e-05]\n",
      "false unknown images: 293 /home/abc/pzw/data/test/LINE_CHART_COLUMN_CHART/5a11e9d68b2a111f33195762_87_1.png [  1.29112486e-05   7.81532563e-08   2.13228915e-07   4.82988183e-09\n",
      "   9.99986053e-01   4.97923736e-07   1.54872183e-07   7.61240102e-08]\n",
      "false unknown images: 294 /home/abc/pzw/data/test/LINE_CHART_COLUMN_CHART/5a11ea288b2a111f331957db_98_3.png [  1.78616119e-05   9.34487829e-08   6.41884242e-07   4.09475795e-08\n",
      "   9.99978900e-01   1.83705981e-06   3.79164163e-07   3.44631246e-07]\n",
      "false unknown images: 295 /home/abc/pzw/data/test/LINE_CHART_COLUMN_CHART/5a1235008b2a111f3319d665_4_0.png [  1.35469772e-05   1.53212355e-07   8.71268924e-07   1.28162980e-09\n",
      "   9.99983430e-01   1.44569079e-09   1.76102560e-06   2.78517831e-07]\n",
      "false unknown images: 297 /home/abc/pzw/data/test/LINE_CHART_COLUMN_CHART/5a12bde78b2a117460df5623_451_0.png [  1.25527615e-04   9.99870062e-01   1.16655174e-08   4.33751211e-06\n",
      "   5.41763114e-08   5.62096991e-09   2.47755416e-08   1.53089008e-08]\n",
      "false unknown images: 298 /home/abc/pzw/data/test/LINE_CHART_COLUMN_CHART/5a12bde78b2a117460df562a_122_1.png [  4.35754992e-02   9.56375301e-01   8.69588206e-08   6.01395050e-06\n",
      "   2.50521571e-05   1.66482579e-07   1.76051417e-05   1.62068801e-07]\n"
     ]
    },
    {
     "name": "stderr",
     "output_type": "stream",
     "text": [
      "\r",
      "303it [00:09, 32.68it/s]"
     ]
    },
    {
     "name": "stdout",
     "output_type": "stream",
     "text": [
      "false unknown images: 299 /home/abc/pzw/data/test/LINE_CHART_COLUMN_CHART/5a1309fd8b2a111f331b2adf_25_0.png [  9.54782572e-11   9.99998093e-01   9.54087698e-10   1.36717848e-09\n",
      "   9.88744432e-07   1.68786393e-12   9.18793319e-07   4.75648321e-09]\n",
      "false unknown images: 301 /home/abc/pzw/data/test/LINE_CHART_COLUMN_CHART/5a1356ab8b2a111f331baea1_46_0.png [  3.78262157e-05   9.99960303e-01   3.12973221e-08   6.97530993e-07\n",
      "   1.54970294e-07   2.80776180e-10   8.94398681e-07   1.35378414e-07]\n",
      "false unknown images: 302 /home/abc/pzw/data/test/LINE_CHART_COLUMN_CHART/5a143f138b2a111f331cfb5e_29_1.png [  3.32349045e-05   1.19000045e-03   5.34657602e-07   2.30636870e-05\n",
      "   9.98249412e-01   1.30055071e-07   4.10064131e-05   4.62549302e-04]\n",
      "false unknown images: 304 /home/abc/pzw/data/test/LINE_CHART_COLUMN_CHART/5a145d838b2a111f331d20da_113_0.png [  1.53949277e-05   5.67482821e-05   2.44228031e-05   1.17107028e-07\n",
      "   9.99886394e-01   6.70717270e-07   3.43123520e-06   1.27495459e-05]\n",
      "false unknown images: 305 /home/abc/pzw/data/test/LINE_CHART_COLUMN_CHART/5a152ea88b2a111f331e1f13_43_0.png [  1.13275647e-03   9.98860836e-01   1.24756113e-07   9.19511436e-08\n",
      "   1.36690915e-06   1.12202936e-09   4.76197647e-06   3.54726453e-08]\n"
     ]
    },
    {
     "name": "stderr",
     "output_type": "stream",
     "text": [
      "311it [00:09, 32.68it/s]"
     ]
    },
    {
     "name": "stdout",
     "output_type": "stream",
     "text": [
      "false unknown images: 306 /home/abc/pzw/data/test/LINE_CHART_COLUMN_CHART/5a1546438b2a111f331e3b06_113_0.png [  6.30725879e-07   4.44363302e-08   3.74523661e-05   8.92009222e-09\n",
      "   9.99960303e-01   5.56351949e-07   2.90674905e-07   6.46791818e-07]\n",
      "false unknown images: 307 /home/abc/pzw/data/test/LINE_CHART_COLUMN_CHART/5a159b158b2a111f331e9b82_22_0.png [  1.64476369e-04   5.87953806e-01   1.05423795e-04   4.99042642e-07\n",
      "   4.11659449e-01   8.28094926e-09   1.08554552e-04   7.78288086e-06]\n",
      "false unknown images: 308 /home/abc/pzw/data/test/LINE_CHART_COLUMN_CHART/5a15c3938b2a111f331ecf18_105_1.png [  4.17400372e-07   8.34425791e-08   7.43329167e-07   1.14117924e-08\n",
      "   9.99997616e-01   2.82921604e-07   2.21318658e-07   5.69486872e-07]\n",
      "false unknown images: 310 /home/abc/pzw/data/test/LINE_CHART_COLUMN_CHART/5a166f2f8b2a111f331f9d1a_55_0.png [  8.10805126e-04   9.98631775e-01   1.89021520e-07   2.06937852e-06\n",
      "   3.01857563e-06   1.36622672e-10   5.35918167e-04   1.61977496e-05]\n",
      "false unknown images: 311 /home/abc/pzw/data/test/LINE_CHART_COLUMN_CHART/5a1676638b2a111f331fa487_21_0.png [  1.60423130e-01   3.45811108e-03   7.43228520e-05   2.72363195e-05\n",
      "   1.80041336e-03   2.55861778e-05   3.38066638e-01   4.96124566e-01]\n"
     ]
    },
    {
     "name": "stderr",
     "output_type": "stream",
     "text": [
      "319it [00:09, 32.71it/s]"
     ]
    },
    {
     "name": "stdout",
     "output_type": "stream",
     "text": [
      "false unknown images: 313 /home/abc/pzw/data/test/LINE_CHART_COLUMN_CHART/5a16a52ae5465bb56967b2f1_9_0.png [  1.62926650e-08   9.99986291e-01   1.48190782e-09   1.70675807e-10\n",
      "   4.37820006e-07   8.74294317e-11   1.32280011e-05   4.29721503e-08]\n",
      "false unknown images: 314 /home/abc/pzw/data/test/LINE_CHART_COLUMN_CHART/5a16c2588b2a111f331ff37f_37_0.png [  5.27301570e-04   1.73415500e-03   2.66613992e-04   1.10430824e-06\n",
      "   7.89217465e-03   6.57013715e-08   9.89289820e-01   2.88718962e-04]\n",
      "false unknown images: 315 /home/abc/pzw/data/test/LINE_CHART_COLUMN_CHART/5a16caf58b2a111f331ff9d2_24_0.png [  3.09214834e-02   9.68807220e-01   6.77946844e-07   8.64453068e-06\n",
      "   1.54735210e-06   8.99077179e-07   2.58515909e-04   9.98558789e-07]\n",
      "false unknown images: 317 /home/abc/pzw/data/test/LINE_CHART_COLUMN_CHART/5a16d1b58b2a111f331ffe82_32_0.png [  2.82326422e-04   2.10067938e-05   1.88100580e-06   1.35948039e-06\n",
      "   9.97979820e-01   6.78820911e-08   6.64804422e-04   1.04865723e-03]\n"
     ]
    },
    {
     "name": "stderr",
     "output_type": "stream",
     "text": [
      "327it [00:09, 32.78it/s]"
     ]
    },
    {
     "name": "stdout",
     "output_type": "stream",
     "text": [
      "false unknown images: 320 /home/abc/pzw/data/test/LINE_CHART_COLUMN_CHART/5a177a248b2a111f33209b56_44_0.png [  3.24373941e-05   9.98695314e-01   1.76374749e-06   3.21856805e-06\n",
      "   9.13448690e-04   1.10281633e-07   8.99868974e-05   2.63809576e-04]\n",
      "false unknown images: 321 /home/abc/pzw/data/test/LINE_CHART_COLUMN_CHART/5a178d6d8b2a111f3320b0b1_12_0.png [  4.11222951e-04   4.42363843e-02   2.39040182e-05   4.38023517e-06\n",
      "   8.84888042e-03   4.90351804e-09   9.46354270e-01   1.20991484e-04]\n",
      "false unknown images: 322 /home/abc/pzw/data/test/LINE_CHART_COLUMN_CHART/5a1792408b2a111f3320b594_5_0.png [  8.47897682e-05   9.99851346e-01   7.70423640e-07   1.98906437e-05\n",
      "   8.51081907e-08   2.88279539e-10   4.08623746e-05   2.27667624e-06]\n",
      "false unknown images: 323 /home/abc/pzw/data/test/LINE_CHART_COLUMN_CHART/5a1793388b2a111f3320b691_18_0.png [  1.12971165e-05   9.98949230e-01   1.92744437e-06   2.02968549e-05\n",
      "   1.34355087e-08   1.94863725e-09   8.34753504e-04   1.82419448e-04]\n",
      "false unknown images: 324 /home/abc/pzw/data/test/LINE_CHART_COLUMN_CHART/5a1796818b2a111f3320b9d4_4_0.png [  3.42587335e-03   9.83894289e-01   1.05636742e-03   1.16081974e-02\n",
      "   7.11101120e-06   2.61070483e-07   3.89646038e-06   3.95191046e-06]\n",
      "false unknown images: 325 /home/abc/pzw/data/test/LINE_CHART_COLUMN_CHART/5a1799a38b2a111f3320bcd6_3_0.png [  2.66879331e-03   9.97081697e-01   3.17977378e-06   1.81432843e-05\n",
      "   2.54265142e-05   1.60394976e-07   2.29596935e-06   2.00305949e-04]\n",
      "false unknown images: 326 /home/abc/pzw/data/test/LINE_CHART_COLUMN_CHART/5a179a038b2a111f3320bd28_5_0.png [  2.82445680e-02   9.69015479e-01   6.85924897e-05   1.79238198e-03\n",
      "   2.22945800e-05   4.77489607e-07   3.08762596e-04   5.47476695e-04]\n",
      "false unknown images: 327 /home/abc/pzw/data/test/LINE_CHART_COLUMN_CHART/5a179a328b2a111f3320bd7a_5_0.png [  1.08762957e-01   7.87726402e-01   7.31875916e-05   4.73656040e-03\n",
      "   3.94289491e-05   1.07465830e-07   9.81721729e-02   4.89149301e-04]\n"
     ]
    },
    {
     "name": "stderr",
     "output_type": "stream",
     "text": [
      "335it [00:10, 32.83it/s]"
     ]
    },
    {
     "name": "stdout",
     "output_type": "stream",
     "text": [
      "false unknown images: 328 /home/abc/pzw/data/test/LINE_CHART_COLUMN_CHART/5a179a608b2a111f3320bd9b_2_0.png [  1.76241495e-13   9.99507308e-01   4.87882403e-07   2.37893283e-09\n",
      "   4.92209801e-04   1.07477829e-11   2.34330527e-10   4.69746568e-11]\n",
      "false unknown images: 329 /home/abc/pzw/data/test/LINE_CHART_COLUMN_CHART/5a179a608b2a111f3320bd9e_9_0.png [  3.22495122e-03   9.96708989e-01   4.28822841e-06   1.09280300e-05\n",
      "   2.94516449e-05   3.53338301e-08   5.28221199e-06   1.61096323e-05]\n",
      "false unknown images: 331 /home/abc/pzw/data/test/LINE_CHART_COLUMN_CHART/5a179ab88b2a111f3320be23_21_0.png [  4.32473782e-04   6.70883946e-06   4.93284404e-01   8.41523104e-07\n",
      "   2.26769876e-03   4.96294888e-06   5.03512025e-01   4.90848906e-04]\n",
      "false unknown images: 332 /home/abc/pzw/data/test/LINE_CHART_COLUMN_CHART/5a179bc88b2a111f3320bf3a_4_0.png [  1.44018741e-05   9.99978185e-01   6.59151738e-07   4.00519093e-06\n",
      "   1.19586536e-08   5.63385207e-11   2.60547949e-06   6.80595420e-08]\n",
      "false unknown images: 333 /home/abc/pzw/data/test/LINE_CHART_COLUMN_CHART/5a179bf38b2a111f3320bf66_10_0.png [  2.25631124e-03   9.97695386e-01   1.67911048e-06   5.19859441e-06\n",
      "   8.20631249e-06   3.05754781e-08   7.12832571e-06   2.60795805e-05]\n",
      "false unknown images: 334 /home/abc/pzw/data/test/LINE_CHART_COLUMN_CHART/5a179cdf8b2a111f3320c02e_16_0.png [  9.32333618e-03   7.22084567e-02   1.73030840e-05   4.90130151e-06\n",
      "   9.17746603e-01   3.03157151e-07   6.92760979e-04   6.37664107e-06]\n"
     ]
    },
    {
     "name": "stderr",
     "output_type": "stream",
     "text": [
      "\r",
      "339it [00:10, 32.86it/s]"
     ]
    },
    {
     "name": "stdout",
     "output_type": "stream",
     "text": [
      "false unknown images: 335 /home/abc/pzw/data/test/LINE_CHART_COLUMN_CHART/5a179d358b2a111f3320c0a9_5_0.png [  5.18764975e-03   9.93775368e-01   7.56234101e-07   1.02756370e-04\n",
      "   4.59671719e-06   1.74980499e-07   5.11814724e-04   4.16858617e-04]\n",
      "false unknown images: 336 /home/abc/pzw/data/test/LINE_CHART_COLUMN_CHART/5a179d8b8b2a111f3320c110_4_0.png [  3.11661243e-01   6.74596071e-01   2.76820920e-03   9.03927349e-03\n",
      "   1.26862624e-05   2.70679334e-06   2.65925511e-04   1.65398000e-03]\n",
      "false unknown images: 337 /home/abc/pzw/data/test/LINE_CHART_COLUMN_CHART/5a179d8c8b2a111f3320c123_11_0.png [  1.33069931e-04   9.99841809e-01   1.66672623e-06   2.76224432e-06\n",
      "   6.78816079e-08   6.24302032e-09   1.45116037e-05   6.18022023e-06]\n",
      "false unknown images: 339 /home/abc/pzw/data/test/LINE_CHART_COLUMN_CHART/5a179e4f8b2a111f3320c1bd_5_0.png [  9.82683450e-02   8.97005379e-01   1.13446231e-03   3.37996893e-03\n",
      "   6.04699562e-05   1.49988625e-06   1.80279512e-05   1.31844077e-04]\n",
      "false unknown images: 340 /home/abc/pzw/data/test/LINE_CHART_COLUMN_CHART/5a179ead8b2a111f3320c23a_4_0.png [  3.01421672e-01   6.89498007e-01   1.72348274e-03   4.73252032e-03\n",
      "   2.10079343e-05   2.18975538e-06   1.72643049e-04   2.42843945e-03]\n"
     ]
    },
    {
     "name": "stderr",
     "output_type": "stream",
     "text": [
      "347it [00:10, 32.65it/s]"
     ]
    },
    {
     "name": "stdout",
     "output_type": "stream",
     "text": [
      "false unknown images: 341 /home/abc/pzw/data/test/LINE_CHART_COLUMN_CHART/5a179f048b2a111f3320c2ab_22_0.png [  1.30947644e-03   9.38714424e-04   9.75097775e-01   2.15371642e-06\n",
      "   6.38589961e-04   1.14216141e-06   2.19744686e-02   3.75861528e-05]\n",
      "false unknown images: 342 /home/abc/pzw/data/test/LINE_CHART_COLUMN_CHART/5a17a1d78b2a111f3320c56a_12_0.png [  9.19295109e-12   9.99609292e-01   1.48911194e-08   2.70966527e-10\n",
      "   3.90686706e-04   3.89507523e-11   5.07414599e-09   3.07146614e-10]\n",
      "false unknown images: 343 /home/abc/pzw/data/test/LINE_CHART_COLUMN_CHART/5a17a2438b2a111f3320c5fe_24_0.png [  3.65083758e-03   3.69229913e-02   3.70125473e-03   1.42272791e-06\n",
      "   9.10306394e-01   2.10062922e-06   4.42374200e-02   1.17762177e-03]\n",
      "false unknown images: 344 /home/abc/pzw/data/test/LINE_CHART_COLUMN_CHART/5a17a90a8b2a111f3320ccd2_12_0.png [  2.22383544e-01   7.32158893e-04   3.12877208e-01   8.85511417e-06\n",
      "   1.72222834e-02   4.65943594e-05   4.46323723e-01   4.05688595e-04]\n",
      "false unknown images: 345 /home/abc/pzw/data/test/LINE_CHART_COLUMN_CHART/5a17a9a78b2a111f3320cd51_24_0.png [  8.62904490e-05   1.37830080e-04   9.98107076e-01   3.42256925e-08\n",
      "   6.38321944e-05   5.36247057e-07   1.60360534e-03   8.17817124e-07]\n",
      "false unknown images: 347 /home/abc/pzw/data/test/LINE_CHART_COLUMN_CHART/5a17b0568b2a111f3320d455_13_0.png [  1.31240547e-01   3.05627286e-03   5.55854797e-01   2.42305439e-04\n",
      "   5.46523780e-02   5.10220598e-05   2.47228861e-01   7.67377252e-03]\n"
     ]
    },
    {
     "name": "stderr",
     "output_type": "stream",
     "text": [
      "355it [00:10, 32.64it/s]"
     ]
    },
    {
     "name": "stdout",
     "output_type": "stream",
     "text": [
      "false unknown images: 348 /home/abc/pzw/data/test/LINE_CHART_COLUMN_CHART/5a17b0918b2a111f3320d4b0_16_0.png [  1.53164845e-03   2.44117295e-03   9.48740840e-01   8.61724402e-07\n",
      "   1.47439551e-03   3.66509039e-06   4.55693789e-02   2.38007153e-04]\n",
      "false unknown images: 350 /home/abc/pzw/data/test/LINE_CHART_COLUMN_CHART/5a17b5a48b2a111f3320d940_11_0.png [  2.11996329e-03   9.76513088e-01   8.43379325e-07   2.70358578e-05\n",
      "   3.60893608e-08   3.86754806e-09   2.03641132e-02   9.74974362e-04]\n",
      "false unknown images: 352 /home/abc/pzw/data/test/LINE_CHART_COLUMN_CHART/5a18532d8b2a111f33216669_17_0.png [  4.82262514e-08   9.99979258e-01   1.82532300e-08   6.04357595e-08\n",
      "   2.90518733e-06   1.19050647e-09   1.61229073e-05   1.65010715e-06]\n",
      "false unknown images: 354 /home/abc/pzw/data/test/LINE_CHART_COLUMN_CHART/5a254dba8b2a11545ca1f7ca_94_0.png [  4.74406079e-06   2.19684480e-07   1.15567858e-08   1.27551392e-08\n",
      "   9.99994636e-01   6.73375022e-10   5.99770118e-08   2.70358811e-07]\n"
     ]
    },
    {
     "name": "stderr",
     "output_type": "stream",
     "text": [
      "\r",
      "359it [00:11, 32.53it/s]"
     ]
    },
    {
     "name": "stdout",
     "output_type": "stream",
     "text": [
      "false unknown images: 355 /home/abc/pzw/data/test/LINE_CHART_COLUMN_CHART/5a254dba8b2a11545ca1f7ca_98_0.png [  1.44097663e-04   5.16720775e-07   8.01669398e-09   3.28695400e-08\n",
      "   9.99854207e-01   1.15781240e-09   3.73025387e-07   6.71609598e-07]\n",
      "false unknown images: 356 /home/abc/pzw/data/test/LINE_CHART_COLUMN_CHART/5a255cda8b2a11545ca22194_9_0.png [  7.71313068e-03   9.92096663e-01   1.63136906e-06   2.36368419e-06\n",
      "   5.10672398e-05   3.47178570e-07   1.74195357e-05   1.17295989e-04]\n",
      "false unknown images: 358 /home/abc/pzw/data/test/LINE_CHART_COLUMN_CHART/5a25791c8b2a11545ca270f9_16_0.png [  2.78007500e-02   9.72017050e-01   4.08915810e-07   2.79446726e-06\n",
      "   5.76071488e-06   4.89276530e-09   1.71986219e-04   1.25914471e-06]\n",
      "false unknown images: 359 /home/abc/pzw/data/test/LINE_CHART_COLUMN_CHART/5a25a2c78b2a11545ca2e650_21_0.png [  1.02556860e-05   9.99989748e-01   1.93129290e-10   7.40414041e-09\n",
      "   4.47568560e-09   6.90954715e-12   1.52337076e-09   1.34936151e-09]\n",
      "false unknown images: 360 /home/abc/pzw/data/test/LINE_CHART_COLUMN_CHART/5a25bc328b2a11545ca32ea7_15_0.png [  2.69765078e-05   1.12413754e-05   5.59976790e-04   2.35488343e-07\n",
      "   2.18464083e-05   2.14014378e-07   9.87647653e-01   1.17318593e-02]\n"
     ]
    },
    {
     "name": "stderr",
     "output_type": "stream",
     "text": [
      "367it [00:11, 32.53it/s]"
     ]
    },
    {
     "name": "stdout",
     "output_type": "stream",
     "text": [
      "false unknown images: 361 /home/abc/pzw/data/test/LINE_CHART_COLUMN_CHART/5a2603f48b2a11545ca3f933_115_0.png [  4.78252135e-02   2.62020528e-03   1.16682861e-06   1.34010652e-05\n",
      "   9.48792458e-01   1.72503235e-07   7.38000788e-04   9.29202542e-06]\n",
      "false unknown images: 362 /home/abc/pzw/data/test/LINE_CHART_COLUMN_CHART/5a26122070cff49210503cc2_7_0.png [  3.85156056e-07   9.99988437e-01   8.18171344e-08   1.00679808e-05\n",
      "   2.31861307e-07   2.68437578e-10   2.72716250e-07   5.21618290e-07]\n",
      "false unknown images: 363 /home/abc/pzw/data/test/LINE_CHART_COLUMN_CHART/5a26203f8b2a11545ca44748_12_0.png [  2.43980082e-07   9.99998927e-01   7.93925459e-09   1.11819876e-09\n",
      "   8.21039635e-07   3.87954209e-12   3.67184927e-09   4.21760599e-10]\n",
      "false unknown images: 364 /home/abc/pzw/data/test/LINE_CHART_COLUMN_CHART/5a2621f08b2a11545ca44c04_9_0.png [  1.44048909e-05   9.99985456e-01   2.33198905e-09   1.94528615e-09\n",
      "   7.69142687e-08   1.16792704e-11   7.06196479e-09   4.81975404e-10]\n",
      "false unknown images: 365 /home/abc/pzw/data/test/LINE_CHART_COLUMN_CHART/5a2623108b2a11545ca44ee0_14_0.png [  7.30297324e-05   9.99029636e-01   1.20616903e-06   7.67878561e-08\n",
      "   8.85343063e-04   1.36795899e-08   9.42743009e-06   1.29761293e-06]\n",
      "false unknown images: 366 /home/abc/pzw/data/test/LINE_CHART_COLUMN_CHART/5a2625998b2a11545ca45600_14_0.png [  7.21382376e-09   9.99996305e-01   7.63332064e-10   7.89181165e-09\n",
      "   3.63472691e-06   2.20562860e-10   3.93979960e-08   1.90036009e-09]\n"
     ]
    },
    {
     "name": "stderr",
     "output_type": "stream",
     "text": [
      "375it [00:11, 32.55it/s]"
     ]
    },
    {
     "name": "stdout",
     "output_type": "stream",
     "text": [
      "false unknown images: 368 /home/abc/pzw/data/test/LINE_CHART_COLUMN_CHART/5a264d1170cff49210504feb_40_0.png [  3.47547871e-06   9.99951482e-01   4.16811652e-08   2.23179609e-06\n",
      "   4.13716189e-05   4.75284212e-09   1.15412763e-06   3.12685671e-07]\n",
      "false unknown images: 369 /home/abc/pzw/data/test/LINE_CHART_COLUMN_CHART/5a264e7c70cff49210505026_12_0.png [  9.18495768e-09   5.98270308e-05   8.79132858e-05   1.74357569e-06\n",
      "   9.96307015e-01   5.84682039e-06   2.42438982e-03   1.11328904e-03]\n",
      "false unknown images: 370 /home/abc/pzw/data/test/LINE_CHART_COLUMN_CHART/5a2670698b2a11545ca52484_36_0.png [  1.17599666e-02   4.46570337e-01   8.01162823e-05   3.11006181e-04\n",
      "   5.51859441e-04   3.13561418e-06   5.28550506e-01   1.21730892e-02]\n",
      "false unknown images: 371 /home/abc/pzw/data/test/LINE_CHART_COLUMN_CHART/5a2670d68b2a11545ca525ee_12_1.png [  3.73547286e-01   3.08688905e-04   8.71659140e-04   2.49069581e-06\n",
      "   6.05264664e-01   1.46138666e-06   1.87088195e-02   1.29496271e-03]\n",
      "false unknown images: 372 /home/abc/pzw/data/test/LINE_CHART_COLUMN_CHART/5a267a048b2a11545ca53ec3_20_0.png [  6.91941677e-05   9.99120414e-01   2.68766094e-08   7.40505186e-07\n",
      "   8.09561869e-04   2.50430010e-09   1.24206039e-07   1.50231081e-08]\n",
      "false unknown images: 373 /home/abc/pzw/data/test/LINE_CHART_COLUMN_CHART/5a267c5e8b2a11545ca5450f_36_0.png [  1.20423967e-04   9.99878168e-01   1.66199463e-08   4.66822563e-08\n",
      "   5.37838332e-07   1.49303792e-10   7.53496806e-07   1.98542027e-09]\n",
      "false unknown images: 374 /home/abc/pzw/data/test/LINE_CHART_COLUMN_CHART/5a2682d88b2a11545ca5567a_26_0.png [  4.73729915e-06   9.99953985e-01   1.23133623e-06   2.56828735e-05\n",
      "   1.59114404e-06   1.74339636e-08   1.21569437e-05   5.37459698e-07]\n"
     ]
    },
    {
     "name": "stderr",
     "output_type": "stream",
     "text": [
      "\r",
      "379it [00:11, 32.52it/s]"
     ]
    },
    {
     "name": "stdout",
     "output_type": "stream",
     "text": [
      "false unknown images: 375 /home/abc/pzw/data/test/LINE_CHART_COLUMN_CHART/5a2686a88b2a11545ca5606e_19_0.png [  6.93151960e-03   7.33055731e-06   2.15338201e-08   3.16735481e-07\n",
      "   9.93058205e-01   8.24369550e-08   1.88921285e-06   6.05976993e-07]\n",
      "false unknown images: 376 /home/abc/pzw/data/test/LINE_CHART_COLUMN_CHART/5a2687f78b2a11545ca56410_40_0.png [  3.82662846e-10   9.46366636e-04   5.39158350e-07   7.08983407e-07\n",
      "   9.99029279e-01   2.06797722e-05   2.62149797e-07   2.09053974e-06]\n",
      "false unknown images: 377 /home/abc/pzw/data/test/LINE_CHART_COLUMN_CHART/5a268fca8b2a11545ca578c1_126_0.png [  1.86812224e-06   9.99996901e-01   1.03162980e-08   1.49010646e-07\n",
      "   1.06691186e-06   1.21960123e-10   4.73091455e-10   3.29703509e-09]\n",
      "false unknown images: 379 /home/abc/pzw/data/test/LINE_CHART_COLUMN_CHART/5a268ff18b2a11545ca5796a_123_0.png [  1.07070500e-05   9.99985218e-01   4.63321506e-08   1.34873606e-08\n",
      "   3.97391386e-06   1.88666111e-10   2.49884446e-09   3.41897455e-10]\n"
     ]
    },
    {
     "name": "stderr",
     "output_type": "stream",
     "text": [
      "387it [00:11, 32.49it/s]"
     ]
    },
    {
     "name": "stdout",
     "output_type": "stream",
     "text": [
      "false unknown images: 381 /home/abc/pzw/data/test/LINE_CHART_COLUMN_CHART/5a2693bc8b2a11545ca58305_16_0.png [  2.57923920e-02   1.77102156e-05   1.13459695e-02   1.76942933e-07\n",
      "   1.67638983e-03   6.85286522e-03   9.38391507e-01   1.59229618e-02]\n",
      "false unknown images: 382 /home/abc/pzw/data/test/LINE_CHART_COLUMN_CHART/5a2694548b2a11545ca584af_11_0.png [  9.47532477e-04   3.50841560e-07   2.58854761e-05   1.19326467e-06\n",
      "   1.87208764e-06   6.50482525e-06   9.97547448e-01   1.46923005e-03]\n",
      "false unknown images: 384 /home/abc/pzw/data/test/LINE_CHART_COLUMN_CHART/5a2698838b2a11545ca58fb5_36_0.png [  7.27701932e-04   9.99270976e-01   3.16478577e-08   3.83086132e-07\n",
      "   1.76938912e-07   2.43724352e-09   7.35630806e-07   8.00287268e-08]\n",
      "false unknown images: 386 /home/abc/pzw/data/test/LINE_CHART_COLUMN_CHART/5a26ada28b2a11545ca5c591_6_0.png [  3.97646844e-01   3.03971861e-02   7.75426533e-03   4.85710443e-05\n",
      "   1.96469769e-01   2.23533862e-04   2.45525658e-01   1.21934138e-01]\n",
      "false unknown images: 387 /home/abc/pzw/data/test/LINE_CHART_COLUMN_CHART/5a26b5398b2a11545ca5d909_28_2.png [  6.70794589e-06   5.04403897e-06   9.99384403e-01   2.22792721e-07\n",
      "   3.73077019e-05   3.40286647e-06   5.33609884e-04   2.92492114e-05]\n"
     ]
    },
    {
     "name": "stderr",
     "output_type": "stream",
     "text": [
      "395it [00:12, 32.50it/s]"
     ]
    },
    {
     "name": "stdout",
     "output_type": "stream",
     "text": [
      "false unknown images: 388 /home/abc/pzw/data/test/LINE_CHART_COLUMN_CHART/5a26b5878b2a11545ca5d9fb_38_0.png [ 0.05032161  0.03143062  0.15332328  0.01741198  0.02671257  0.00399428\n",
      "  0.70432341  0.01248219]\n",
      "false unknown images: 389 /home/abc/pzw/data/test/LINE_CHART_COLUMN_CHART/5a26ba168b2a11545ca5e59f_21_0.png [  1.25513956e-01   1.54165129e-04   6.09227754e-07   6.13452971e-01\n",
      "   1.76141032e-06   1.18297430e-06   1.01816900e-01   1.59058422e-01]\n",
      "false unknown images: 390 /home/abc/pzw/data/test/LINE_CHART_COLUMN_CHART/5a26cb088b2a11545ca610ef_351_3.png [  3.14809661e-03   4.10412582e-07   1.15140774e-05   1.73417547e-07\n",
      "   9.96814549e-01   9.56140411e-06   7.97893063e-06   7.83430278e-06]\n",
      "false unknown images: 391 /home/abc/pzw/data/test/LINE_CHART_COLUMN_CHART/5a26cb088b2a11545ca610ef_358_3.png [  4.81838221e-03   1.83675286e-06   1.17401542e-05   1.46997337e-07\n",
      "   9.95161951e-01   2.26150132e-06   2.26993029e-06   1.39297435e-06]\n",
      "false unknown images: 392 /home/abc/pzw/data/test/LINE_CHART_COLUMN_CHART/5a26cb558b2a11545ca6119f_361_0.png [  1.71402808e-05   7.10171122e-09   2.27221815e-08   1.53554525e-09\n",
      "   9.99982715e-01   4.39614967e-09   1.99741947e-08   7.75070959e-08]\n",
      "false unknown images: 393 /home/abc/pzw/data/test/LINE_CHART_COLUMN_CHART/5a26cb578b2a11545ca611d3_352_3.png [  3.14809661e-03   4.10412582e-07   1.15140774e-05   1.73417547e-07\n",
      "   9.96814549e-01   9.56140411e-06   7.97893063e-06   7.83430278e-06]\n",
      "false unknown images: 394 /home/abc/pzw/data/test/LINE_CHART_COLUMN_CHART/5a26cb578b2a11545ca611d3_353_0.png [  4.46500629e-03   2.20504194e-06   1.94100230e-05   1.24046792e-07\n",
      "   9.95503128e-01   2.33543619e-06   5.41304144e-06   2.31648846e-06]\n"
     ]
    },
    {
     "name": "stderr",
     "output_type": "stream",
     "text": [
      "403it [00:12, 32.55it/s]"
     ]
    },
    {
     "name": "stdout",
     "output_type": "stream",
     "text": [
      "false unknown images: 395 /home/abc/pzw/data/test/LINE_CHART_COLUMN_CHART/5a26cb7b8b2a11545ca611f0_351_0.png [  4.46500629e-03   2.20504194e-06   1.94100230e-05   1.24046792e-07\n",
      "   9.95503128e-01   2.33543619e-06   5.41304144e-06   2.31648846e-06]\n",
      "false unknown images: 396 /home/abc/pzw/data/test/LINE_CHART_COLUMN_CHART/5a26cb7b8b2a11545ca611f0_357_2.png [  2.90135155e-03   1.26932093e-07   5.80679352e-06   8.75012063e-08\n",
      "   9.97080624e-01   3.19908509e-06   5.97229018e-06   2.77223921e-06]\n",
      "false unknown images: 397 /home/abc/pzw/data/test/LINE_CHART_COLUMN_CHART/5a26cb7b8b2a11545ca611f0_357_3.png [  4.81838221e-03   1.83675286e-06   1.17401542e-05   1.46997337e-07\n",
      "   9.95161951e-01   2.26150132e-06   2.26993029e-06   1.39297435e-06]\n",
      "false unknown images: 398 /home/abc/pzw/data/test/LINE_CHART_COLUMN_CHART/5a26cb7c8b2a11545ca61211_367_3.png [  6.25050743e-04   4.09105111e-10   9.03416094e-07   4.67793404e-09\n",
      "   9.99371946e-01   3.36747661e-08   2.98152912e-07   1.86174157e-06]\n",
      "false unknown images: 399 /home/abc/pzw/data/test/LINE_CHART_COLUMN_CHART/5a26cb7c8b2a11545ca61211_376_3.png [  8.52979720e-04   4.42731043e-08   1.43310649e-06   3.18475664e-08\n",
      "   9.99141574e-01   8.01818032e-07   1.47758760e-06   1.61548860e-06]\n",
      "false unknown images: 400 /home/abc/pzw/data/test/LINE_CHART_COLUMN_CHART/5a26cb7c8b2a11545ca61213_14_0.png [  7.60458897e-06   9.99979734e-01   4.52453918e-07   2.39419592e-06\n",
      "   3.03542379e-06   4.70612216e-09   6.59958232e-06   1.31303807e-07]\n",
      "false unknown images: 401 /home/abc/pzw/data/test/LINE_CHART_COLUMN_CHART/5a26cb7e8b2a11545ca61230_330_4.png [  1.24308295e-04   2.72815191e-06   1.97152735e-06   2.41110332e-08\n",
      "   9.99869943e-01   4.03952328e-07   4.63266559e-07   1.91871749e-07]\n",
      "false unknown images: 402 /home/abc/pzw/data/test/LINE_CHART_COLUMN_CHART/5a26cb7e8b2a11545ca61230_335_3.png [  2.10285769e-03   2.85715288e-07   6.34618073e-06   6.21738963e-08\n",
      "   9.97856319e-01   2.53048165e-05   5.70050815e-06   3.12937846e-06]\n"
     ]
    },
    {
     "name": "stderr",
     "output_type": "stream",
     "text": [
      "411it [00:12, 32.63it/s]"
     ]
    },
    {
     "name": "stdout",
     "output_type": "stream",
     "text": [
      "false unknown images: 403 /home/abc/pzw/data/test/LINE_CHART_COLUMN_CHART/5a26cb7e8b2a11545ca61230_336_0.png [  4.95615041e-06   6.40892006e-09   1.06621814e-08   3.77399445e-10\n",
      "   9.99994993e-01   1.31416678e-09   1.07002371e-08   2.40036382e-08]\n",
      "false unknown images: 404 /home/abc/pzw/data/test/LINE_CHART_COLUMN_CHART/5a26cb7e8b2a11545ca6123c_313_0.png [  7.94212520e-02   8.66034213e-07   1.78036760e-04   4.78644360e-08\n",
      "   9.20350671e-01   2.25790160e-07   4.13811904e-05   7.57814178e-06]\n",
      "false unknown images: 405 /home/abc/pzw/data/test/LINE_CHART_COLUMN_CHART/5a26cb7e8b2a11545ca6123c_316_4.png [  1.66323134e-05   2.76397145e-06   2.71574095e-06   1.66414562e-08\n",
      "   9.99975681e-01   1.12247710e-06   1.00050011e-06   1.15165044e-07]\n",
      "false unknown images: 406 /home/abc/pzw/data/test/LINE_CHART_COLUMN_CHART/5a26cb7e8b2a11545ca6123c_317_0.png [  1.45432708e-07   1.49836443e-09   8.66454408e-10   3.51070041e-11\n",
      "   9.99999881e-01   2.76862588e-10   9.61629709e-09   7.16619430e-09]\n",
      "false unknown images: 407 /home/abc/pzw/data/test/LINE_CHART_COLUMN_CHART/5a26cb7e8b2a11545ca6123c_322_1.png [  5.43850405e-08   3.67242770e-09   1.16218524e-09   8.38826023e-11\n",
      "   1.00000000e+00   1.26881816e-09   2.37796929e-08   1.84104287e-08]\n",
      "false unknown images: 408 /home/abc/pzw/data/test/LINE_CHART_COLUMN_CHART/5a26cba38b2a11545ca61254_312_3.png [  2.55630841e-03   4.65873910e-07   5.31144542e-06   1.27687239e-08\n",
      "   9.97430861e-01   1.32681714e-06   4.92361551e-06   7.49212120e-07]\n",
      "false unknown images: 409 /home/abc/pzw/data/test/LINE_CHART_COLUMN_CHART/5a26cba38b2a11545ca61254_314_3.png [  1.46436109e-03   8.75207462e-08   6.71798844e-05   6.37693498e-09\n",
      "   9.98458624e-01   1.51499151e-07   6.83176768e-06   2.84075145e-06]\n",
      "false unknown images: 410 /home/abc/pzw/data/test/LINE_CHART_COLUMN_CHART/5a26cba38b2a11545ca61254_317_3.png [  1.59423544e-05   3.35009247e-07   3.77959282e-07   4.64936400e-09\n",
      "   9.99982357e-01   3.29698395e-07   3.35683097e-07   2.24675318e-07]\n"
     ]
    },
    {
     "name": "stderr",
     "output_type": "stream",
     "text": [
      "\r",
      "415it [00:12, 32.22it/s]"
     ]
    },
    {
     "name": "stdout",
     "output_type": "stream",
     "text": [
      "false unknown images: 411 /home/abc/pzw/data/test/LINE_CHART_COLUMN_CHART/5a26cba38b2a11545ca61254_323_1.png [  5.43850405e-08   3.67242770e-09   1.16218524e-09   8.38826023e-11\n",
      "   1.00000000e+00   1.26881816e-09   2.37796929e-08   1.84104287e-08]\n",
      "false unknown images: 412 /home/abc/pzw/data/test/LINE_CHART_COLUMN_CHART/5a26cba38b2a11545ca6126e_313_3.png [  2.55630841e-03   4.65873910e-07   5.31144542e-06   1.27687239e-08\n",
      "   9.97430861e-01   1.32681714e-06   4.92361551e-06   7.49212120e-07]\n",
      "false unknown images: 413 /home/abc/pzw/data/test/LINE_CHART_COLUMN_CHART/5a26cba38b2a11545ca6126e_313_4.png [  3.93243274e-04   5.08716255e-07   8.90006322e-06   1.54323914e-07\n",
      "   9.99593437e-01   6.52358608e-07   2.64520645e-06   5.39062682e-07]\n",
      "false unknown images: 414 /home/abc/pzw/data/test/LINE_CHART_COLUMN_CHART/5a26cba38b2a11545ca6126e_320_2.png [  1.13726480e-06   4.71448769e-10   9.33399747e-07   4.11857215e-10\n",
      "   9.99997616e-01   3.23308349e-08   9.20238392e-08   2.23918931e-07]\n"
     ]
    },
    {
     "name": "stderr",
     "output_type": "stream",
     "text": [
      "\r",
      "419it [00:13, 32.20it/s]"
     ]
    },
    {
     "name": "stdout",
     "output_type": "stream",
     "text": [
      "false unknown images: 415 /home/abc/pzw/data/test/LINE_CHART_COLUMN_CHART/5a26cc1a8b2a11545ca61390_24_0.png [  1.28763914e-02   1.81233250e-02   2.59198578e-06   3.06822389e-04\n",
      "   3.76013418e-06   5.20686740e-07   9.63585913e-01   5.10077551e-03]\n",
      "false unknown images: 416 /home/abc/pzw/data/test/LINE_CHART_COLUMN_CHART/5a26d5cc8b2a11545ca62bd0_5_0.png [  4.92165357e-01   9.80419088e-08   2.16620674e-06   6.71976252e-08\n",
      "   4.80755389e-01   3.66579370e-05   5.42076770e-04   2.64981687e-02]\n",
      "false unknown images: 420 /home/abc/pzw/data/test/LINE_CHART_COLUMN_CHART/5a26eb1270cff49210505bb8_189_0.png [  3.03081280e-12   3.33410317e-05   3.96727927e-07   3.21169011e-08\n",
      "   9.99957919e-01   3.01352614e-08   9.63194566e-07   7.33641264e-06]\n",
      "false unknown images: 421 /home/abc/pzw/data/test/LINE_CHART_COLUMN_CHART/5a26f9f38b2a11545ca68591_42_0.png [  2.72202413e-07   9.99998450e-01   2.51547605e-09   1.48435461e-07\n",
      "   9.16799614e-09   8.42752049e-11   1.14049590e-06   6.06749708e-08]\n"
     ]
    },
    {
     "name": "stderr",
     "output_type": "stream",
     "text": [
      "427it [00:13, 32.24it/s]"
     ]
    },
    {
     "name": "stdout",
     "output_type": "stream",
     "text": [
      "false unknown images: 422 /home/abc/pzw/data/test/LINE_CHART_COLUMN_CHART/5a27072a8b2a11545ca6a5f4_9_0.png [  3.24902139e-05   3.62412461e-10   7.35611877e-07   2.63494365e-11\n",
      "   9.99966741e-01   1.78426234e-08   1.79992676e-09   6.28707264e-09]\n",
      "false unknown images: 423 /home/abc/pzw/data/test/LINE_CHART_COLUMN_CHART/5a2707a88b2a11545ca6a72d_17_0.png [  1.78491399e-02   2.45519742e-01   4.27667292e-05   5.86522474e-05\n",
      "   7.36274123e-01   2.87002592e-07   2.54746323e-04   5.95400536e-07]\n",
      "false unknown images: 424 /home/abc/pzw/data/test/LINE_CHART_COLUMN_CHART/5a270b7f8b2a11545ca6b0e5_15_0.png [  2.35936970e-01   9.73031670e-02   1.83936267e-03   5.91530852e-06\n",
      "   6.35948479e-01   3.62599781e-06   1.29894931e-02   1.59730036e-02]\n",
      "false unknown images: 425 /home/abc/pzw/data/test/LINE_CHART_COLUMN_CHART/5a27129f8b2a11545ca6c2b6_8_3.png [  3.58488522e-02   5.84988447e-04   1.37314453e-06   1.44207675e-04\n",
      "   9.63041842e-01   1.90687342e-06   1.77136644e-05   3.59023805e-04]\n",
      "false unknown images: 426 /home/abc/pzw/data/test/LINE_CHART_COLUMN_CHART/5a271d868b2a11545ca6de2e_158_0.png [  1.73632882e-03   7.06937462e-02   1.37948082e-03   3.44993942e-03\n",
      "   2.10272908e-01   2.12642499e-06   7.05416083e-01   7.04939244e-03]\n",
      "false unknown images: 427 /home/abc/pzw/data/test/LINE_CHART_COLUMN_CHART/5a271dd48b2a11545ca6dec1_137_0.png [  4.16394369e-06   9.93891120e-01   2.28549567e-07   2.33206833e-06\n",
      "   3.61400918e-04   1.46223783e-10   5.73832402e-03   2.38623375e-06]\n",
      "false unknown images: 428 /home/abc/pzw/data/test/LINE_CHART_COLUMN_CHART/5a271dd78b2a11545ca6def7_157_0.png [  5.87211922e-04   8.65365028e-01   4.69408580e-04   3.69668053e-03\n",
      "   7.02905729e-02   8.40739602e-08   5.92956953e-02   2.95326055e-04]\n"
     ]
    },
    {
     "name": "stderr",
     "output_type": "stream",
     "text": [
      "435it [00:13, 32.29it/s]"
     ]
    },
    {
     "name": "stdout",
     "output_type": "stream",
     "text": [
      "false unknown images: 429 /home/abc/pzw/data/test/LINE_CHART_COLUMN_CHART/5a271f1b8b2a11545ca6e1e7_15_0.png [  2.49110271e-05   9.99719441e-01   4.71898964e-09   1.53389781e-08\n",
      "   1.69616371e-07   3.10495553e-11   2.53876206e-04   1.57738759e-06]\n",
      "false unknown images: 430 /home/abc/pzw/data/test/LINE_CHART_COLUMN_CHART/5a27208c8b2a11545ca6e5ad_20_0.png [  1.21946563e-04   9.81768012e-01   8.15966268e-06   5.56601435e-06\n",
      "   1.03283650e-03   2.17554792e-08   1.69945825e-02   6.88701184e-05]\n",
      "false unknown images: 431 /home/abc/pzw/data/test/LINE_CHART_COLUMN_CHART/5a2721038b2a11545ca6e6bc_9_0.png [  5.91411720e-09   9.99999285e-01   5.92691478e-08   5.56184830e-07\n",
      "   4.36049064e-08   4.26507746e-10   4.02083629e-08   4.47644766e-08]\n",
      "false unknown images: 432 /home/abc/pzw/data/test/LINE_CHART_COLUMN_CHART/5a2723398b2a11545ca6ec2b_43_0.png [  9.30146271e-05   9.99598801e-01   9.51599421e-09   2.36757653e-08\n",
      "   2.00186236e-07   6.95182523e-11   3.04622779e-04   3.32069908e-06]\n",
      "false unknown images: 433 /home/abc/pzw/data/test/LINE_CHART_COLUMN_CHART/5a2723628b2a11545ca6eca2_8_0.png [  1.07388509e-07   9.99997497e-01   2.59069033e-08   8.50169954e-07\n",
      "   1.35836933e-08   2.23597963e-11   1.26245720e-06   2.31207594e-07]\n",
      "false unknown images: 434 /home/abc/pzw/data/test/LINE_CHART_COLUMN_CHART/5a2724058b2a11545ca6ee45_3_0.png [  6.70062727e-05   9.99874234e-01   5.21410016e-07   4.23634810e-06\n",
      "   3.36345664e-07   2.73721823e-09   3.49845614e-05   1.87010246e-05]\n"
     ]
    },
    {
     "name": "stderr",
     "output_type": "stream",
     "text": [
      "\r",
      "439it [00:13, 32.07it/s]"
     ]
    },
    {
     "name": "stdout",
     "output_type": "stream",
     "text": [
      "false unknown images: 435 /home/abc/pzw/data/test/LINE_CHART_COLUMN_CHART/5a2726f48b2a11545ca6f557_9_0.png [  3.32102682e-05   9.99957323e-01   1.19573667e-06   6.71849602e-06\n",
      "   2.86015336e-07   7.63442376e-09   8.32674004e-07   4.16845324e-07]\n",
      "false unknown images: 436 /home/abc/pzw/data/test/LINE_CHART_COLUMN_CHART/5a27271b8b2a11545ca6f5a2_9_0.png [  1.56831389e-04   9.99834538e-01   4.89839458e-08   2.45607066e-06\n",
      "   9.17513958e-08   2.93509939e-10   4.66778238e-06   1.32805383e-06]\n",
      "false unknown images: 437 /home/abc/pzw/data/test/LINE_CHART_COLUMN_CHART/5a27271c8b2a11545ca6f5c3_3_0.png [  1.44811338e-07   9.99998212e-01   7.38049124e-08   4.31321951e-07\n",
      "   5.00650756e-08   4.44327158e-10   1.05026697e-06   1.35728328e-07]\n",
      "false unknown images: 438 /home/abc/pzw/data/test/LINE_CHART_COLUMN_CHART/5a27276b8b2a11545ca6f666_55_0.png [  4.88258785e-08   9.99999523e-01   7.90747734e-09   9.73188863e-10\n",
      "   5.33101058e-07   8.14444703e-13   2.26225497e-11   5.76894192e-11]\n",
      "false unknown images: 439 /home/abc/pzw/data/test/LINE_CHART_COLUMN_CHART/5a2729088b2a11545ca6fa55_3_0.png [  7.55229080e-03   9.91997898e-01   2.56875069e-06   8.29943747e-05\n",
      "   5.47209493e-06   3.91418062e-08   2.77485815e-04   8.12434882e-05]\n"
     ]
    },
    {
     "name": "stderr",
     "output_type": "stream",
     "text": [
      "\r",
      "443it [00:13, 32.07it/s]"
     ]
    },
    {
     "name": "stdout",
     "output_type": "stream",
     "text": [
      "false unknown images: 440 /home/abc/pzw/data/test/LINE_CHART_COLUMN_CHART/5a27295b8b2a11545ca6fb14_42_1.png [  1.24755315e-05   9.95086491e-01   2.62838711e-08   1.79435332e-07\n",
      "   8.21652293e-07   7.59088556e-11   4.88515617e-03   1.48919926e-05]\n",
      "false unknown images: 441 /home/abc/pzw/data/test/LINE_CHART_COLUMN_CHART/5a2729ac8b2a11545ca6fbe4_9_0.png [  2.01165876e-10   9.99999642e-01   1.01735878e-07   1.39869229e-07\n",
      "   1.26565155e-07   3.28212368e-09   4.42027970e-09   1.98049914e-08]\n",
      "false unknown images: 442 /home/abc/pzw/data/test/LINE_CHART_COLUMN_CHART/5a2729d48b2a11545ca6fc3c_3_0.png [  3.07625294e-01   6.66227639e-01   2.03459786e-05   1.09659602e-04\n",
      "   2.67117610e-03   7.81365634e-06   2.23304499e-02   1.00759859e-03]\n",
      "false unknown images: 443 /home/abc/pzw/data/test/LINE_CHART_COLUMN_CHART/5a272b738b2a11545ca7003a_113_0.png [  2.28884801e-07   6.17253711e-04   2.96887293e-07   3.17753113e-08\n",
      "   9.99372423e-01   1.99994554e-09   9.75087096e-06   2.40681644e-08]\n",
      "false unknown images: 444 /home/abc/pzw/data/test/LINE_CHART_COLUMN_CHART/5a272c658b2a11545ca7029d_3_0.png [  3.23472887e-05   9.99958277e-01   9.25810696e-07   7.43816554e-06\n",
      "   1.19644454e-07   1.15672600e-08   3.09663534e-07   6.56757379e-07]\n"
     ]
    },
    {
     "name": "stderr",
     "output_type": "stream",
     "text": [
      "449it [00:14, 31.65it/s]"
     ]
    },
    {
     "name": "stdout",
     "output_type": "stream",
     "text": [
      "false unknown images: 445 /home/abc/pzw/data/test/LINE_CHART_COLUMN_CHART/5a272c8e8b2a11545ca7030c_7_0.png [  4.93945479e-01   4.48718369e-01   1.79520430e-04   1.79704148e-05\n",
      "   1.29197782e-03   1.41992439e-06   5.53936623e-02   4.51623899e-04]\n",
      "false unknown images: 446 /home/abc/pzw/data/test/LINE_CHART_COLUMN_CHART/5a272cb98b2a11545ca703a0_3_0.png [  6.96836796e-04   9.99298096e-01   9.61824540e-08   9.42934776e-07\n",
      "   4.25032226e-07   4.23477892e-10   2.78591324e-06   6.86783210e-07]\n",
      "false unknown images: 447 /home/abc/pzw/data/test/LINE_CHART_COLUMN_CHART/5a272d0a8b2a11545ca70469_16_0.png [  1.17696718e-05   9.99436200e-01   2.54339594e-09   1.97626342e-08\n",
      "   1.69756067e-08   2.49154187e-11   5.48396783e-04   3.54234226e-06]\n",
      "false unknown images: 448 /home/abc/pzw/data/test/LINE_CHART_COLUMN_CHART/5a272d578b2a11545ca704ee_3_0.png [  4.20084363e-03   9.95639682e-01   2.24533608e-07   5.32424747e-06\n",
      "   2.43711838e-06   2.99698755e-09   1.36472241e-04   1.49116304e-05]\n"
     ]
    },
    {
     "name": "stderr",
     "output_type": "stream",
     "text": [
      "456it [00:14, 31.60it/s]"
     ]
    },
    {
     "name": "stdout",
     "output_type": "stream",
     "text": [
      "false unknown images: 449 /home/abc/pzw/data/test/LINE_CHART_COLUMN_CHART/5a272f938b2a11545ca70a81_40_0.png [  1.69283579e-04   9.99265850e-01   1.73983885e-08   3.63082826e-08\n",
      "   2.10667849e-07   1.41060066e-10   5.60561370e-04   4.05373976e-06]\n",
      "false unknown images: 450 /home/abc/pzw/data/test/LINE_CHART_COLUMN_CHART/5a272f938b2a11545ca70a89_3_0.png [  2.34756328e-04   9.99740422e-01   5.00842589e-06   6.41700262e-06\n",
      "   2.87967453e-07   3.19972990e-08   1.10080291e-05   1.96595897e-06]\n",
      "false unknown images: 451 /home/abc/pzw/data/test/LINE_CHART_COLUMN_CHART/5a2730ac8b2a11545ca70d2e_3_0.png [  1.16737583e-03   9.98787224e-01   1.68349561e-06   2.02010724e-05\n",
      "   1.53586271e-07   3.24685239e-08   1.82599870e-05   4.98917507e-06]\n",
      "false unknown images: 452 /home/abc/pzw/data/test/LINE_CHART_COLUMN_CHART/5a2730af8b2a11545ca70d6c_9_0.png [  6.01640920e-07   9.99996662e-01   2.46935997e-07   1.38744826e-06\n",
      "   1.16223909e-07   2.41375431e-09   7.65681193e-07   2.28135306e-07]\n",
      "false unknown images: 453 /home/abc/pzw/data/test/LINE_CHART_COLUMN_CHART/5a2730af8b2a11545ca70d71_2_0.png [  4.13920693e-02   9.58540499e-01   1.83724342e-06   6.00673884e-05\n",
      "   1.55560633e-06   2.33635529e-08   1.18255730e-06   2.74697527e-06]\n",
      "false unknown images: 454 /home/abc/pzw/data/test/LINE_CHART_COLUMN_CHART/5a2730af8b2a11545ca70d71_8_0.png [  1.23030059e-05   9.99982834e-01   8.91669245e-08   3.37526649e-06\n",
      "   1.15615660e-06   5.09313036e-09   1.87792359e-08   2.39437981e-07]\n",
      "false unknown images: 455 /home/abc/pzw/data/test/LINE_CHART_COLUMN_CHART/5a2731c68b2a11545ca71010_3_0.png [  4.11188556e-03   9.95761454e-01   1.17292757e-06   1.17846157e-05\n",
      "   1.60210377e-07   1.51920243e-09   1.13063652e-04   4.96301254e-07]\n",
      "false unknown images: 456 /home/abc/pzw/data/test/LINE_CHART_COLUMN_CHART/5a2731c68b2a11545ca71017_3_0.png [  1.89021835e-03   9.97892201e-01   3.10899486e-06   7.03874030e-05\n",
      "   1.26366069e-06   4.24685680e-07   2.90179159e-05   1.13401155e-04]\n"
     ]
    },
    {
     "name": "stderr",
     "output_type": "stream",
     "text": [
      "464it [00:14, 31.65it/s]"
     ]
    },
    {
     "name": "stdout",
     "output_type": "stream",
     "text": [
      "false unknown images: 457 /home/abc/pzw/data/test/LINE_CHART_COLUMN_CHART/5a27321a8b2a11545ca710cd_5_0.png [  4.15829331e-01   5.45426011e-01   7.90275299e-05   9.91994239e-05\n",
      "   4.30826843e-03   5.85983071e-05   1.83660688e-03   3.23629156e-02]\n",
      "false unknown images: 458 /home/abc/pzw/data/test/LINE_CHART_COLUMN_CHART/5a2732948b2a11545ca711f1_3_0.png [  6.04063226e-03   9.93533731e-01   6.82691905e-07   1.14110280e-05\n",
      "   9.05267257e-07   3.72419473e-09   3.44149536e-04   6.85318228e-05]\n",
      "false unknown images: 459 /home/abc/pzw/data/test/LINE_CHART_COLUMN_CHART/5a2732958b2a11545ca71201_9_0.png [  8.69797732e-05   9.99882221e-01   2.52175283e-07   8.00347061e-06\n",
      "   1.42357203e-05   2.75247491e-09   7.45262378e-06   7.83596590e-07]\n",
      "false unknown images: 460 /home/abc/pzw/data/test/LINE_CHART_COLUMN_CHART/5a2732968b2a11545ca7121c_14_0.png [  1.58986441e-04   9.97922361e-01   5.49532553e-09   8.49443182e-08\n",
      "   7.53372120e-08   9.77962780e-11   1.91119185e-03   7.30643342e-06]\n",
      "false unknown images: 461 /home/abc/pzw/data/test/LINE_CHART_COLUMN_CHART/5a2733fe8b2a11545ca71595_3_0.png [  2.42155278e-03   9.96746302e-01   7.65064499e-07   1.29287500e-05\n",
      "   9.44125077e-07   5.86509108e-09   8.07696721e-04   9.76006231e-06]\n",
      "false unknown images: 462 /home/abc/pzw/data/test/LINE_CHART_COLUMN_CHART/5a27344d8b2a11545ca71647_9_0.png [  2.29504003e-04   9.98577118e-01   2.85769289e-07   1.17740093e-03\n",
      "   3.84727656e-07   4.70882577e-09   1.25107067e-06   1.40431048e-05]\n",
      "false unknown images: 463 /home/abc/pzw/data/test/LINE_CHART_COLUMN_CHART/5a2736ac8b2a11545ca71c44_9_0.png [  4.59007133e-05   9.99916077e-01   2.51769414e-08   1.67664200e-06\n",
      "   1.53782594e-07   1.20869301e-10   3.47537753e-05   1.44140120e-06]\n"
     ]
    },
    {
     "name": "stderr",
     "output_type": "stream",
     "text": [
      "472it [00:14, 31.71it/s]"
     ]
    },
    {
     "name": "stdout",
     "output_type": "stream",
     "text": [
      "false unknown images: 464 /home/abc/pzw/data/test/LINE_CHART_COLUMN_CHART/5a2736fb8b2a11545ca71ce9_3_0.png [  2.83502787e-03   9.97008622e-01   1.19375909e-06   1.53567758e-04\n",
      "   7.31227317e-07   9.29777977e-10   5.20966921e-07   4.36823200e-07]\n",
      "false unknown images: 465 /home/abc/pzw/data/test/LINE_CHART_COLUMN_CHART/5a27458c8b2a11545ca74138_44_0.png [  1.12141171e-10   9.99986649e-01   2.27858958e-08   5.77714331e-07\n",
      "   1.53300027e-06   7.48954440e-11   1.12035004e-05   5.29389936e-08]\n",
      "false unknown images: 466 /home/abc/pzw/data/test/LINE_CHART_COLUMN_CHART/5a274d338b2a11545ca753c6_55_0.png [  1.17528521e-06   9.99928117e-01   1.33789566e-08   1.59499905e-05\n",
      "   1.47625033e-05   2.64296829e-09   3.68824585e-05   3.11916710e-06]\n",
      "false unknown images: 467 /home/abc/pzw/data/test/LINE_CHART_COLUMN_CHART/5a274d5c8b2a11545ca75434_10_0.png [  1.39444636e-03   2.61066780e-05   5.83534071e-04   1.31252207e-07\n",
      "   9.97400403e-01   1.30795129e-07   4.85299679e-04   1.09991131e-04]\n",
      "false unknown images: 468 /home/abc/pzw/data/test/LINE_CHART_COLUMN_CHART/5a274d5c8b2a11545ca75434_14_0.png [  2.39553119e-05   2.14102056e-06   1.79155148e-04   2.37259368e-08\n",
      "   9.99752939e-01   1.30456021e-06   1.15187058e-05   2.90099324e-05]\n",
      "false unknown images: 469 /home/abc/pzw/data/test/LINE_CHART_COLUMN_CHART/5a274db08b2a11545ca75507_53_0.png [  4.61428908e-06   1.10789952e-04   6.09723429e-07   1.46348256e-07\n",
      "   9.99772489e-01   1.34348738e-07   3.31034244e-07   1.10815097e-04]\n",
      "false unknown images: 470 /home/abc/pzw/data/test/LINE_CHART_COLUMN_CHART/5a274db08b2a11545ca75507_64_0.png [  1.98527669e-05   7.20904645e-05   3.03195264e-07   1.54270751e-07\n",
      "   9.99834418e-01   1.60171169e-07   2.68235453e-07   7.27557272e-05]\n",
      "false unknown images: 471 /home/abc/pzw/data/test/LINE_CHART_COLUMN_CHART/5a274f928b2a11545ca759ae_12_0.png [  1.68681197e-07   9.89094198e-01   1.19315309e-05   1.63156747e-05\n",
      "   4.98467730e-03   8.06398219e-08   5.89060877e-03   2.02158253e-06]\n"
     ]
    },
    {
     "name": "stderr",
     "output_type": "stream",
     "text": [
      "480it [00:15, 31.79it/s]"
     ]
    },
    {
     "name": "stdout",
     "output_type": "stream",
     "text": [
      "false unknown images: 472 /home/abc/pzw/data/test/LINE_CHART_COLUMN_CHART/5a27500c8b2a11545ca75afa_105_0.png [  1.31842151e-01   6.43744022e-02   1.68445185e-05   2.19197856e-04\n",
      "   8.03244770e-01   1.15795478e-06   7.41123513e-05   2.27373486e-04]\n",
      "false unknown images: 473 /home/abc/pzw/data/test/LINE_CHART_COLUMN_CHART/5a27530b8b2a11545ca76272_6_0.png [  3.48875928e-03   2.44479124e-02   1.60236486e-05   3.00377797e-05\n",
      "   9.71401215e-01   2.30209466e-07   1.78944931e-04   4.36821894e-04]\n",
      "false unknown images: 474 /home/abc/pzw/data/test/LINE_CHART_COLUMN_CHART/5a27544b8b2a11545ca76576_7_0.png [  6.38239086e-03   1.56232578e-04   1.09094537e-06   1.09114728e-06\n",
      "   9.92770851e-01   1.31117622e-06   6.62350431e-05   6.20745122e-04]\n",
      "false unknown images: 476 /home/abc/pzw/data/test/LINE_CHART_COLUMN_CHART/5a2757278b2a11545ca76cac_16_0.png [  1.56069917e-04   9.76854503e-01   1.01823471e-05   1.15449005e-07\n",
      "   2.29642689e-02   4.45633930e-09   1.28099236e-05   2.12849386e-06]\n",
      "false unknown images: 477 /home/abc/pzw/data/test/LINE_CHART_COLUMN_CHART/5a2758718b2a11545ca76fe8_17_0.png [  7.14032410e-07   6.66468024e-01   2.77840809e-05   1.24136207e-07\n",
      "   3.33438277e-01   1.13765317e-08   6.49486901e-05   9.48290690e-08]\n",
      "false unknown images: 479 /home/abc/pzw/data/test/LINE_CHART_COLUMN_CHART/5a275ad28b2a11545ca775c4_15_0.png [  3.38371962e-07   3.74530882e-01   1.47291576e-05   4.46883881e-08\n",
      "   6.25453115e-01   4.22358926e-10   8.93796766e-07   1.41903440e-08]\n"
     ]
    },
    {
     "name": "stderr",
     "output_type": "stream",
     "text": [
      "\r",
      "484it [00:15, 31.81it/s]"
     ]
    },
    {
     "name": "stdout",
     "output_type": "stream",
     "text": [
      "false unknown images: 480 /home/abc/pzw/data/test/LINE_CHART_COLUMN_CHART/5a275c988b2a11545ca77a1a_13_0.png [  2.06556870e-05   9.85401511e-01   4.06243271e-05   1.24633715e-07\n",
      "   1.45303970e-02   2.46478415e-09   6.16760417e-06   4.68392216e-07]\n",
      "false unknown images: 481 /home/abc/pzw/data/test/LINE_CHART_COLUMN_CHART/5a275dc98b2a11545ca77ccc_23_0.png [  3.03730165e-04   4.11031544e-01   5.95602207e-04   7.15102317e-07\n",
      "   5.88053942e-01   3.68526507e-08   1.27959283e-05   1.61056937e-06]\n",
      "false unknown images: 482 /home/abc/pzw/data/test/LINE_CHART_COLUMN_CHART/5a275e198b2a11545ca77d7b_17_0.png [  1.52908967e-06   9.99724090e-01   6.05326591e-07   5.08555509e-08\n",
      "   1.85454439e-04   7.33704708e-10   8.75426849e-05   6.17563046e-07]\n",
      "false unknown images: 483 /home/abc/pzw/data/test/LINE_CHART_COLUMN_CHART/5a275e948b2a11545ca77e9d_18_0.png [  5.18219487e-04   7.39415467e-04   6.92195899e-05   3.14531228e-08\n",
      "   9.98628974e-01   2.23125394e-08   3.60227750e-05   8.11050268e-06]\n",
      "false unknown images: 484 /home/abc/pzw/data/test/LINE_CHART_COLUMN_CHART/5a2761798b2a11545ca78590_16_0.png [  3.92055370e-07   9.99996901e-01   6.17626039e-09   1.39540024e-09\n",
      "   2.74655372e-06   8.15621355e-12   1.22049597e-08   2.07980277e-09]\n",
      "false unknown images: 485 /home/abc/pzw/data/test/LINE_CHART_COLUMN_CHART/5a27629c8b2a11545ca78896_19_0.png [  4.15503969e-08   9.87266362e-01   4.70820987e-06   3.04662109e-07\n",
      "   8.21086857e-03   2.17864482e-09   4.43585915e-03   8.18695771e-05]\n",
      "false unknown images: 486 /home/abc/pzw/data/test/LINE_CHART_COLUMN_CHART/5a2762f28b2a11545ca7890d_20_0.png [  2.16452661e-03   6.52700419e-06   1.52589598e-06   1.07519362e-07\n",
      "   9.97641802e-01   2.81526045e-05   2.35236584e-07   1.57103059e-04]\n"
     ]
    },
    {
     "name": "stderr",
     "output_type": "stream",
     "text": [
      "492it [00:15, 31.81it/s]"
     ]
    },
    {
     "name": "stdout",
     "output_type": "stream",
     "text": [
      "false unknown images: 487 /home/abc/pzw/data/test/LINE_CHART_COLUMN_CHART/5a2762f68b2a11545ca7895f_71_0.png [  2.45978563e-12   3.88942753e-05   4.74869739e-06   1.72810033e-07\n",
      "   9.98504519e-01   1.50793664e-06   1.42562715e-06   1.44872547e-03]\n",
      "false unknown images: 488 /home/abc/pzw/data/test/LINE_CHART_COLUMN_CHART/5a2763208b2a11545ca789c5_10_2.png [  7.91766495e-03   9.91808593e-01   1.01867352e-06   1.43293948e-06\n",
      "   2.12027560e-04   6.22357721e-09   5.91366188e-05   7.71014257e-08]\n",
      "false unknown images: 489 /home/abc/pzw/data/test/LINE_CHART_COLUMN_CHART/5a2763488b2a11545ca789d4_18_0.png [  8.38420168e-03   6.03368998e-01   3.79394951e-05   7.16427394e-07\n",
      "   3.04437846e-01   3.46578787e-07   5.25850244e-02   3.11849285e-02]\n",
      "false unknown images: 490 /home/abc/pzw/data/test/LINE_CHART_COLUMN_CHART/5a2765488b2a11545ca78e84_18_0.png [  2.19650380e-03   2.90129811e-01   5.21390029e-06   9.52179732e-07\n",
      "   6.73445523e-01   1.98116282e-07   3.41013446e-02   1.20480268e-04]\n",
      "false unknown images: 491 /home/abc/pzw/data/test/LINE_CHART_COLUMN_CHART/5a27659a8b2a11545ca78f5b_18_0.png [  5.24739502e-04   9.99245882e-01   7.24372512e-06   5.63231204e-08\n",
      "   2.13432999e-04   3.30612271e-09   8.36674099e-06   3.54653935e-07]\n",
      "false unknown images: 492 /home/abc/pzw/data/test/LINE_CHART_COLUMN_CHART/5a2766ec8b2a11545ca79294_20_0.png [  4.90064267e-04   9.99325514e-01   2.36651863e-06   8.52654978e-08\n",
      "   9.31454051e-05   7.33860261e-09   8.61252920e-05   2.64553410e-06]\n",
      "false unknown images: 493 /home/abc/pzw/data/test/LINE_CHART_COLUMN_CHART/5a27843c8b2a11545ca7d907_5_0.png [  5.93881805e-06   9.99832988e-01   2.45323747e-07   1.14041484e-06\n",
      "   3.87508301e-08   8.29962654e-10   1.55921152e-04   3.67843745e-06]\n"
     ]
    },
    {
     "name": "stderr",
     "output_type": "stream",
     "text": [
      "500it [00:15, 31.80it/s]"
     ]
    },
    {
     "name": "stdout",
     "output_type": "stream",
     "text": [
      "false unknown images: 494 /home/abc/pzw/data/test/LINE_CHART_COLUMN_CHART/5a2784928b2a11545ca7d9bc_4_0.png [  1.09315733e-04   9.99861717e-01   2.08083307e-07   1.49663538e-05\n",
      "   1.27590400e-08   2.24409447e-09   1.25716988e-05   1.22645520e-06]\n",
      "false unknown images: 495 /home/abc/pzw/data/test/LINE_CHART_COLUMN_CHART/5a27853c8b2a11545ca7db3d_50_0.png [  3.36683326e-09   9.99999404e-01   6.02083050e-10   1.01247011e-08\n",
      "   2.72807421e-09   3.28521342e-11   5.45878947e-07   1.87980032e-08]\n",
      "false unknown images: 496 /home/abc/pzw/data/test/LINE_CHART_COLUMN_CHART/5a2785df8b2a11545ca7dcbe_5_0.png [  1.25710375e-03   9.98608887e-01   2.45212505e-07   2.91466295e-05\n",
      "   7.75723450e-08   8.27099012e-09   1.02932194e-04   1.59976582e-06]\n",
      "false unknown images: 497 /home/abc/pzw/data/test/LINE_CHART_COLUMN_CHART/5a278e058b2a11545ca7f083_6_0.png [  2.80005834e-03   9.97096658e-01   6.44499096e-06   3.56363489e-05\n",
      "   5.69152803e-07   2.33659065e-08   5.74841288e-05   3.08350286e-06]\n",
      "false unknown images: 498 /home/abc/pzw/data/test/LINE_CHART_COLUMN_CHART/5a2791af8b2a11545ca7f8e7_6_0.png [  2.80961348e-03   9.97183263e-01   3.95559937e-07   1.69079215e-06\n",
      "   1.35570531e-07   2.36210322e-08   3.92940638e-06   8.69377914e-07]\n",
      "false unknown images: 499 /home/abc/pzw/data/test/LINE_CHART_COLUMN_CHART/5a2794068b2a11545ca7fe5d_5_0.png [  4.50608246e-02   9.54869747e-01   3.17441518e-05   3.50520277e-05\n",
      "   2.19308546e-07   6.11106330e-08   9.76208412e-07   1.32501748e-06]\n",
      "false unknown images: 500 /home/abc/pzw/data/test/LINE_CHART_COLUMN_CHART/5a27976c8b2a11545ca80664_82_0.png [  4.93973221e-06   1.25055463e-04   3.03785640e-07   1.60978107e-06\n",
      "   9.99782860e-01   4.12751888e-07   1.50810067e-07   8.47432966e-05]\n"
     ]
    },
    {
     "name": "stderr",
     "output_type": "stream",
     "text": [
      "509it [00:15, 31.87it/s]"
     ]
    },
    {
     "name": "stdout",
     "output_type": "stream",
     "text": [
      "false unknown images: 501 /home/abc/pzw/data/test/LINE_CHART_COLUMN_CHART/5a27a1f38b2a11545ca81fce_76_0.png [  1.05193953e-06   1.01635089e-06   2.31581041e-07   1.01627847e-07\n",
      "   9.99995828e-01   1.30660982e-09   8.75939463e-07   8.82491349e-07]\n",
      "false unknown images: 503 /home/abc/pzw/data/test/LINE_CHART_COLUMN_CHART/5a27e6268b2a11545ca8b4cd_5_0.png [  2.55371629e-06   5.74150472e-05   7.76815114e-07   6.44484658e-07\n",
      "   9.99781907e-01   2.43872819e-06   2.22810468e-06   1.52165841e-04]\n",
      "false unknown images: 504 /home/abc/pzw/data/test/LINE_CHART_COLUMN_CHART/5a27f04370cff4921051c591_9_0.png [  6.12098347e-07   9.99740422e-01   3.63277919e-09   5.16786125e-09\n",
      "   5.94421681e-06   4.81807406e-11   2.52911035e-04   9.52637293e-08]\n",
      "false unknown images: 506 /home/abc/pzw/data/test/LINE_CHART_COLUMN_CHART/5a281c148b2a11545ca929eb_4_1.png [  5.56067750e-03   8.69655132e-01   3.97325406e-04   1.93920841e-05\n",
      "   4.78977971e-02   1.98657872e-04   7.52184093e-02   1.05256261e-03]\n",
      "false unknown images: 507 /home/abc/pzw/data/test/LINE_CHART_COLUMN_CHART/5a2822b58b2a11545ca937f5_2_1.png [  1.06798243e-02   6.85713485e-06   1.76143344e-03   1.52409557e-05\n",
      "   7.64687895e-04   2.35220682e-06   3.48490141e-02   9.51920629e-01]\n",
      "false unknown images: 508 /home/abc/pzw/data/test/LINE_CHART_COLUMN_CHART/5a28562a8b2a11545ca99b49_8_0.png [  8.45319480e-02   8.28529336e-03   8.29801679e-01   8.75823142e-04\n",
      "   4.44372417e-04   6.08897805e-02   1.37158409e-02   1.45523786e-03]\n",
      "['LINE_TABLE', 'COLUMN_CHART', 'COLUMN_CHART', 'COLUMN_CHART', 'COLUMN_CHART', 'GRID_TABLE', 'COLUMN_CHART', 'COLUMN_CHART', 'COLUMN_CHART', 'COLUMN_CHART', 'COLUMN_CHART', 'COLUMN_CHART', 'COLUMN_CHART', 'COLUMN_CHART', 'LINE_TABLE', 'LINE_TABLE', 'LINE_TABLE', 'GRID_TABLE', 'UNKNOWN', 'COLUMN_CHART', 'COLUMN_CHART', 'COLUMN_CHART', 'COLUMN_CHART', 'GRID_TABLE', 'COLUMN_CHART', 'COLUMN_CHART', 'COLUMN_CHART', 'COLUMN_CHART', 'COLUMN_CHART', 'COLUMN_CHART', 'COLUMN_CHART', 'COLUMN_CHART', 'UNKNOWN', 'GRID_TABLE', 'UNKNOWN', 'UNKNOWN', 'LINE_TABLE', 'COLUMN_CHART', 'COLUMN_CHART', 'LINE_TABLE', 'LINE_TABLE', 'LINE_TABLE', 'LINE_TABLE', 'LINE_TABLE', 'LINE_TABLE', 'LINE_TABLE', 'LINE_TABLE', 'LINE_TABLE', 'LINE_TABLE', 'LINE_TABLE', 'LINE_TABLE', 'LINE_TABLE', 'LINE_TABLE', 'LINE_TABLE', 'LINE_TABLE', 'LINE_TABLE', 'LINE_TABLE', 'LINE_TABLE', 'LINE_TABLE', 'LINE_TABLE', 'LINE_TABLE', 'LINE_TABLE', 'LINE_TABLE', 'LINE_TABLE', 'LINE_TABLE', 'LINE_TABLE', 'LINE_TABLE', 'LINE_TABLE', 'LINE_TABLE', 'LINE_TABLE', 'LINE_TABLE', 'LINE_TABLE', 'LINE_TABLE', 'LINE_TABLE', 'LINE_TABLE', 'LINE_TABLE', 'LINE_TABLE', 'LINE_TABLE', 'LINE_TABLE', 'LINE_TABLE', 'LINE_TABLE', 'LINE_TABLE', 'AREA_ChART', 'LINE_TABLE', 'LINE_TABLE', 'LINE_TABLE', 'LINE_TABLE', 'LINE_TABLE', 'LINE_TABLE', 'LINE_TABLE', 'LINE_TABLE', 'LINE_TABLE', 'LINE_TABLE', 'LINE_TABLE', 'LINE_TABLE', 'LINE_TABLE', 'LINE_TABLE', 'LINE_TABLE', 'LINE_TABLE', 'LINE_TABLE', 'LINE_TABLE', 'LINE_TABLE', 'LINE_TABLE', 'LINE_TABLE', 'LINE_TABLE', 'LINE_TABLE', 'LINE_TABLE', 'LINE_TABLE', 'LINE_TABLE', 'LINE_TABLE', 'LINE_TABLE', 'LINE_TABLE', 'GRID_TABLE', 'LINE_TABLE', 'LINE_TABLE', 'LINE_TABLE', 'LINE_TABLE', 'LINE_TABLE', 'LINE_TABLE', 'LINE_TABLE', 'LINE_TABLE', 'LINE_TABLE', 'LINE_TABLE', 'LINE_TABLE', 'GRID_TABLE', 'LINE_TABLE', 'LINE_TABLE', 'LINE_TABLE', 'GRID_TABLE', 'AREA_ChART', 'LINE_TABLE', 'LINE_TABLE', 'LINE_TABLE', 'LINE_TABLE', 'LINE_TABLE', 'LINE_TABLE', 'LINE_TABLE', 'LINE_TABLE', 'LINE_TABLE', 'LINE_TABLE', 'LINE_TABLE', 'COLUMN_CHART', 'LINE_TABLE', 'LINE_TABLE', 'LINE_TABLE', 'LINE_TABLE', 'LINE_TABLE', 'LINE_TABLE', 'LINE_TABLE', 'LINE_TABLE', 'LINE_TABLE', 'LINE_TABLE', 'LINE_TABLE', 'LINE_TABLE', 'LINE_TABLE', 'LINE_TABLE', 'LINE_TABLE', 'LINE_TABLE', 'LINE_TABLE', 'LINE_TABLE', 'LINE_TABLE', 'LINE_TABLE', 'LINE_TABLE', 'LINE_TABLE', 'LINE_TABLE', 'LINE_TABLE', 'LINE_TABLE', 'LINE_TABLE', 'LINE_TABLE', 'LINE_TABLE', 'LINE_TABLE', 'LINE_TABLE', 'LINE_TABLE', 'LINE_TABLE', 'LINE_TABLE', 'LINE_TABLE', 'LINE_TABLE', 'LINE_TABLE', 'LINE_TABLE', 'LINE_TABLE', 'LINE_TABLE', 'LINE_TABLE', 'LINE_TABLE', 'GRID_TABLE', 'LINE_TABLE', 'LINE_TABLE', 'LINE_TABLE', 'LINE_TABLE', 'LINE_TABLE', 'LINE_TABLE', 'LINE_TABLE', 'LINE_TABLE', 'LINE_TABLE', 'LINE_TABLE', 'LINE_TABLE', 'GRID_TABLE', 'LINE_TABLE', 'COLUMN_CHART', 'COLUMN_CHART', 'LINE_TABLE', 'LINE_TABLE', 'LINE_TABLE', 'COLUMN_CHART', 'LINE_TABLE', 'LINE_TABLE', 'LINE_TABLE', 'COLUMN_CHART', 'UNKNOWN', 'LINE_TABLE', 'LINE_TABLE', 'LINE_TABLE', 'LINE_TABLE', 'LINE_TABLE', 'LINE_TABLE', 'LINE_TABLE', 'COLUMN_CHART', 'LINE_TABLE', 'LINE_TABLE', 'LINE_TABLE', 'GRID_TABLE', 'AREA_ChART', 'LINE_TABLE', 'UNKNOWN', 'COLUMN_CHART', 'COLUMN_CHART', 'LINE_TABLE', 'COLUMN_CHART', 'LINE_TABLE', 'LINE_TABLE', 'LINE_TABLE', 'LINE_TABLE', 'LINE_TABLE', 'LINE_TABLE', 'LINE_TABLE', 'LINE_TABLE', 'LINE_TABLE', 'LINE_TABLE', 'LINE_TABLE', 'LINE_TABLE', 'LINE_TABLE', 'LINE_TABLE', 'LINE_TABLE', 'COLUMN_CHART', 'COLUMN_CHART', 'LINE_TABLE', 'LINE_TABLE', 'UNKNOWN', 'LINE_TABLE', 'LINE_TABLE', 'LINE_TABLE', 'LINE_TABLE', 'LINE_TABLE', 'COLUMN_CHART', 'LINE_TABLE', 'LINE_TABLE', 'LINE_TABLE', 'LINE_TABLE', 'LINE_TABLE', 'LINE_TABLE', 'LINE_TABLE', 'LINE_TABLE', 'LINE_TABLE', 'LINE_TABLE', 'LINE_TABLE', 'LINE_TABLE', 'LINE_TABLE', 'LINE_TABLE', 'LINE_TABLE', 'LINE_TABLE', 'LINE_TABLE', 'LINE_TABLE', 'LINE_TABLE', 'UNKNOWN', 'UNKNOWN', 'COLUMN_CHART', 'COLUMN_CHART', 'LINE_TABLE', 'LINE_TABLE', 'LINE_TABLE', 'COLUMN_CHART', 'LINE_TABLE', 'LINE_TABLE', 'LINE_TABLE', 'LINE_TABLE', 'LINE_TABLE', 'LINE_TABLE', 'COLUMN_CHART', 'UNKNOWN', 'LINE_TABLE', 'LINE_TABLE', 'COLUMN_CHART', 'LINE_TABLE', 'LINE_TABLE', 'COLUMN_CHART', 'COLUMN_CHART', 'COLUMN_CHART', 'UNKNOWN', 'LINE_TABLE', 'LINE_TABLE', 'LINE_TABLE', 'UNKNOWN', 'LINE_TABLE', 'COLUMN_CHART', 'UNKNOWN', 'COLUMN_CHART', 'LINE_TABLE', 'COLUMN_CHART', 'LINE_TABLE', 'COLUMN_CHART', 'UNKNOWN', 'LINE_TABLE', 'LINE_TABLE', 'UNKNOWN', 'LINE_TABLE', 'GRID_TABLE', 'LINE_TABLE', 'UNKNOWN', 'COLUMN_CHART', 'UNKNOWN', 'UNKNOWN', 'LINE_TABLE', 'GRID_TABLE', 'LINE_TABLE', 'LINE_TABLE', 'LINE_TABLE', 'LINE_TABLE', 'LINE_TABLE', 'LINE_TABLE', 'LINE_TABLE', 'LINE_TABLE', 'UNKNOWN', 'GRID_TABLE', 'LINE_TABLE', 'LINE_TABLE', 'COLUMN_CHART', 'LINE_TABLE', 'LINE_TABLE', 'LINE_TABLE', 'UNKNOWN', 'LINE_TABLE', 'LINE_TABLE', 'AREA_ChART', 'LINE_TABLE', 'COLUMN_CHART', 'GRID_TABLE', 'AREA_ChART', 'UNKNOWN', 'AREA_ChART', 'AREA_ChART', 'UNKNOWN', 'LINE_TABLE', 'UNKNOWN', 'LINE_TABLE', 'UNKNOWN', 'COLUMN_CHART', 'COLUMN_CHART', 'LINE_TABLE', 'UNKNOWN', 'LINE_TABLE', 'LINE_TABLE', 'GRID_TABLE', 'COLUMN_CHART', 'LINE_TABLE', 'LINE_TABLE', 'LINE_TABLE', 'LINE_TABLE', 'LINE_TABLE', 'UNKNOWN', 'LINE_TABLE', 'COLUMN_CHART', 'GRID_TABLE', 'COLUMN_CHART', 'LINE_TABLE', 'LINE_TABLE', 'LINE_TABLE', 'COLUMN_CHART', 'COLUMN_CHART', 'LINE_TABLE', 'UNKNOWN', 'LINE_TABLE', 'UNKNOWN', 'GRID_TABLE', 'GRID_TABLE', 'UNKNOWN', 'LINE_TABLE', 'UNKNOWN', 'UNKNOWN', 'AREA_ChART', 'GRID_TABLE', 'BAR_CHART', 'COLUMN_CHART', 'COLUMN_CHART', 'COLUMN_CHART', 'COLUMN_CHART', 'COLUMN_CHART', 'COLUMN_CHART', 'COLUMN_CHART', 'COLUMN_CHART', 'COLUMN_CHART', 'COLUMN_CHART', 'LINE_TABLE', 'COLUMN_CHART', 'COLUMN_CHART', 'COLUMN_CHART', 'COLUMN_CHART', 'COLUMN_CHART', 'COLUMN_CHART', 'COLUMN_CHART', 'COLUMN_CHART', 'COLUMN_CHART', 'COLUMN_CHART', 'COLUMN_CHART', 'COLUMN_CHART', 'COLUMN_CHART', 'COLUMN_CHART', 'GRID_TABLE', 'UNKNOWN', 'UNKNOWN', 'UNKNOWN', 'UNKNOWN', 'COLUMN_CHART', 'LINE_TABLE', 'COLUMN_CHART', 'COLUMN_CHART', 'COLUMN_CHART', 'COLUMN_CHART', 'GRID_TABLE', 'LINE_TABLE', 'LINE_TABLE', 'LINE_TABLE', 'LINE_TABLE', 'LINE_TABLE', 'LINE_TABLE', 'LINE_TABLE', 'LINE_TABLE', 'LINE_TABLE', 'LINE_TABLE', 'LINE_TABLE', 'LINE_TABLE', 'LINE_TABLE', 'LINE_TABLE', 'LINE_TABLE', 'LINE_TABLE', 'COLUMN_CHART', 'LINE_TABLE', 'UNKNOWN', 'LINE_TABLE', 'LINE_TABLE', 'LINE_TABLE', 'LINE_TABLE', 'LINE_TABLE', 'LINE_TABLE', 'LINE_TABLE', 'LINE_TABLE', 'LINE_TABLE', 'LINE_TABLE', 'LINE_TABLE', 'LINE_TABLE', 'LINE_TABLE', 'LINE_TABLE', 'LINE_TABLE', 'LINE_TABLE', 'LINE_TABLE', 'LINE_TABLE', 'LINE_TABLE', 'LINE_TABLE', 'LINE_TABLE', 'COLUMN_CHART', 'COLUMN_CHART', 'COLUMN_CHART', 'COLUMN_CHART', 'LINE_TABLE', 'COLUMN_CHART', 'COLUMN_CHART', 'COLUMN_CHART', 'UNKNOWN', 'LINE_TABLE', 'LINE_TABLE', 'UNKNOWN', 'COLUMN_CHART', 'LINE_TABLE', 'COLUMN_CHART', 'LINE_TABLE', 'COLUMN_CHART', 'LINE_TABLE', 'LINE_TABLE', 'COLUMN_CHART', 'COLUMN_CHART', 'LINE_TABLE', 'LINE_TABLE', 'COLUMN_CHART', 'LINE_TABLE', 'LINE_TABLE', 'LINE_TABLE', 'LINE_TABLE', 'LINE_TABLE', 'LINE_TABLE', 'LINE_TABLE', 'LINE_TABLE', 'LINE_TABLE', 'COLUMN_CHART', 'COLUMN_CHART', 'UNKNOWN', 'COLUMN_CHART', 'LINE_TABLE', 'UNKNOWN', 'LINE_TABLE', 'LINE_TABLE', 'AREA_ChART']\n",
      "excute time:17.009244999999993\n"
     ]
    },
    {
     "name": "stderr",
     "output_type": "stream",
     "text": [
      "\n"
     ]
    }
   ],
   "source": [
    "from tqdm import tqdm\n",
    "from PIL import Image\n",
    "import numpy as np\n",
    "import time\n",
    "\n",
    "start = time.clock()\n",
    "\n",
    "y_lcc_pred = []\n",
    "y_lcc_prob = []\n",
    "\n",
    "for i, key in tqdm(enumerate(sorted(line_column_set))):\n",
    "#     print(key)\n",
    "    img = Image.open(key).convert(\"RGB\")\n",
    "    img_arr = np.array(img.resize((299, 299))) / 255.\n",
    "    y_lcc_pred0 = model.predict(np.expand_dims(img_arr, axis=0))\n",
    "    y_lcc_prob.append(y_lcc_pred0[0])\n",
    "    label_index = np.array(get_max_index(y_lcc_pred0[0]))[0]\n",
    "    y_lcc_pred.append(classes[int(label_index)])\n",
    "    if y_lcc_pred0[0,0]<0.5:\n",
    "        print('false unknown images:', i, key, y_lcc_pred0[0])\n",
    "print(y_lcc_pred)\n",
    "print('excute time:%s'%(time.clock()-start))"
   ]
  },
  {
   "cell_type": "code",
   "execution_count": 168,
   "metadata": {},
   "outputs": [
    {
     "name": "stdout",
     "output_type": "stream",
     "text": [
      "[[  0   0   0   0   0   0   0   0]\n",
      " [  0   0   0   0   0   0   0   0]\n",
      " [  0   0   0   0   0   0   0   0]\n",
      " [  0   0   0   0   0   0   0   0]\n",
      " [ 40 332   9   1 106   0  21   0]\n",
      " [  0   0   0   0   0   0   0   0]\n",
      " [  0   0   0   0   0   0   0   0]\n",
      " [  0   0   0   0   0   0   0   0]]\n"
     ]
    },
    {
     "data": {
      "image/png": "[encoded data removed]",
      "text/plain": [
       "<matplotlib.figure.Figure at 0x7ff5303762b0>"
      ]
     },
     "metadata": {},
     "output_type": "display_data"
    }
   ],
   "source": [
    "# LINE_CHART_COLUMN_CHART数据的混淆矩阵\n",
    "cm = confusion_matrix(y_lcc_true, y_lcc_pred, labels=classes)\n",
    "plot_confusion_matrix(cm, classes)"
   ]
  }
 ],
 "metadata": {
  "kernelspec": {
   "display_name": "Python 3",
   "language": "python",
   "name": "python3"
  },
  "language_info": {
   "codemirror_mode": {
    "name": "ipython",
    "version": 3
   },
   "file_extension": ".py",
   "mimetype": "text/x-python",
   "name": "python",
   "nbconvert_exporter": "python",
   "pygments_lexer": "ipython3",
   "version": "3.5.2"
  }
 },
 "nbformat": 4,
 "nbformat_minor": 2
}
